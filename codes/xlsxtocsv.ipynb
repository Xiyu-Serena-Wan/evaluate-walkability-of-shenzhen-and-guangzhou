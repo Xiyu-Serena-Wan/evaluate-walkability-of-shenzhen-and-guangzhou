{
 "cells": [
  {
   "cell_type": "code",
   "execution_count": 5,
   "id": "greek-dressing",
   "metadata": {},
   "outputs": [],
   "source": [
    "# -*- coding:utf-8 –*-\n",
    "'''\n",
    "程序用来将excel批量转换为csv文件。指定源路径和目标路径。\n",
    "在main函数中指定源文件路径source，目标文件路径ob.\n",
    "这个程序假设Excel文件放在：D:\\CDDE\n",
    "输出csv文件到：D:\\cc\n",
    "'''\n",
    " \n",
    "#导入pandas\n",
    "import pandas as pd\n",
    "import os\n",
    " \n",
    " "
   ]
  },
  {
   "cell_type": "code",
   "execution_count": 6,
   "id": "detailed-metro",
   "metadata": {},
   "outputs": [],
   "source": [
    "#建立单个文件的excel转换成csv函数,file 是excel文件名，to_file 是csv文件名。\n",
    "def excel_to_csv(file,to_file):\n",
    "    data_xls=pd.read_excel(file,sheet_name=0)\n",
    "    data_xls.to_csv(to_file,encoding='utf_8_sig')\n",
    " \n",
    " \n",
    " "
   ]
  },
  {
   "cell_type": "code",
   "execution_count": 7,
   "id": "temporal-cambridge",
   "metadata": {},
   "outputs": [],
   "source": [
    "#读取一个目录里面的所有文件：\n",
    "def read_path(path):\n",
    "    dirs=os.listdir(path)\n",
    "    return dirs\n",
    " "
   ]
  },
  {
   "cell_type": "code",
   "execution_count": 21,
   "id": "white-rogers",
   "metadata": {},
   "outputs": [
    {
     "data": {
      "text/plain": [
       "['/Users/mac/geo/美容美发店.xlsx',\n",
       " '/Users/mac/geo/poi_0.05_153c2c2f24af71aeab07f04018732476.ipynb',\n",
       " '/Users/mac/geo/游乐场.xlsx',\n",
       " '/Users/mac/geo/poi_gz_a1cf852d9781d1e427a06ab57400ce13.ipynb',\n",
       " '/Users/mac/geo/公园广场.xlsx',\n",
       " '/Users/mac/geo/分类.txt',\n",
       " '/Users/mac/geo/诊所.xlsx',\n",
       " '/Users/mac/geo/电影院.xlsx',\n",
       " '/Users/mac/geo/.DS_Store',\n",
       " '/Users/mac/geo/gz',\n",
       " '/Users/mac/geo/老年公寓.xlsx',\n",
       " '/Users/mac/geo/1.0',\n",
       " '/Users/mac/geo/水产海鲜市场.xlsx',\n",
       " '/Users/mac/geo/大型商店.xlsx',\n",
       " '/Users/mac/geo/运动场所.xlsx',\n",
       " '/Users/mac/geo/专科医院.xlsx',\n",
       " '/Users/mac/geo/健身中心.xlsx',\n",
       " '/Users/mac/geo/商场.xlsx',\n",
       " '/Users/mac/geo/便利店.xlsx',\n",
       " '/Users/mac/geo/大数据',\n",
       " '/Users/mac/geo/儿童乐园.xlsx',\n",
       " '/Users/mac/geo/室内运动场馆.xlsx',\n",
       " '/Users/mac/geo/sz',\n",
       " '/Users/mac/geo/邮局、物流和各类营业厅.xlsx',\n",
       " '/Users/mac/geo/银行.xlsx',\n",
       " '/Users/mac/geo/餐厅.xlsx',\n",
       " '/Users/mac/geo/幼儿园.xlsx',\n",
       " '/Users/mac/geo/老年学校.xlsx',\n",
       " '/Users/mac/geo/深圳',\n",
       " '/Users/mac/geo/公交车站.xlsx',\n",
       " '/Users/mac/geo/超级市场.xlsx',\n",
       " '/Users/mac/geo/洗浴推拿场所.xlsx',\n",
       " '/Users/mac/geo/中小型商场和市场.xlsx',\n",
       " '/Users/mac/geo/.ipynb_checkpoints',\n",
       " '/Users/mac/geo/小学.xlsx',\n",
       " '/Users/mac/geo/poi关键字.ipynb',\n",
       " '/Users/mac/geo/xlsxtocsv.ipynb',\n",
       " '/Users/mac/geo/自动提款机.xlsx',\n",
       " '/Users/mac/geo/药房.xlsx',\n",
       " '/Users/mac/geo/培训机构.xlsx',\n",
       " '/Users/mac/geo/地铁站.xlsx',\n",
       " '/Users/mac/geo/综合医院.xlsx',\n",
       " '/Users/mac/geo/敬老院、养老院.xlsx',\n",
       " '/Users/mac/geo/cafe.xlsx',\n",
       " '/Users/mac/geo/水果商店.xlsx',\n",
       " '/Users/mac/geo/图书馆、美术馆、文化中心.xlsx',\n",
       " '/Users/mac/geo/中学.xlsx',\n",
       " '/Users/mac/geo/KTV.xlsx',\n",
       " '/Users/mac/geo/社区活动中心.xlsx']"
      ]
     },
     "execution_count": 21,
     "metadata": {},
     "output_type": "execute_result"
    }
   ],
   "source": [
    "#源文件路径\n",
    "source=\"/Users/mac/geo\"\n",
    "\n",
    "#目标文件路径\n",
    "ob=\"/Users/mac/geo/深圳\"\n",
    "\n",
    "#将源文件路径里面的文件转换成列表file_list\n",
    "file_list=[source+'/'+i for i in read_path(source)]\n",
    "file_list"
   ]
  },
  {
   "cell_type": "code",
   "execution_count": 22,
   "id": "southeast-handy",
   "metadata": {},
   "outputs": [
    {
     "name": "stdout",
     "output_type": "stream",
     "text": [
      "/Users/mac/geo/美容美发店.xlsx\n",
      "/Users/mac/geo/游乐场.xlsx\n",
      "/Users/mac/geo/公园广场.xlsx\n",
      "/Users/mac/geo/诊所.xlsx\n",
      "/Users/mac/geo/电影院.xlsx\n",
      "/Users/mac/geo/老年公寓.xlsx\n",
      "/Users/mac/geo/水产海鲜市场.xlsx\n",
      "/Users/mac/geo/大型商店.xlsx\n",
      "/Users/mac/geo/运动场所.xlsx\n",
      "/Users/mac/geo/专科医院.xlsx\n",
      "/Users/mac/geo/健身中心.xlsx\n",
      "/Users/mac/geo/商场.xlsx\n",
      "/Users/mac/geo/便利店.xlsx\n",
      "/Users/mac/geo/儿童乐园.xlsx\n",
      "/Users/mac/geo/室内运动场馆.xlsx\n",
      "/Users/mac/geo/邮局、物流和各类营业厅.xlsx\n",
      "/Users/mac/geo/银行.xlsx\n",
      "/Users/mac/geo/餐厅.xlsx\n",
      "/Users/mac/geo/幼儿园.xlsx\n",
      "/Users/mac/geo/老年学校.xlsx\n",
      "/Users/mac/geo/公交车站.xlsx\n",
      "/Users/mac/geo/超级市场.xlsx\n",
      "/Users/mac/geo/洗浴推拿场所.xlsx\n",
      "/Users/mac/geo/中小型商场和市场.xlsx\n",
      "/Users/mac/geo/小学.xlsx\n",
      "/Users/mac/geo/自动提款机.xlsx\n",
      "/Users/mac/geo/药房.xlsx\n",
      "/Users/mac/geo/培训机构.xlsx\n",
      "/Users/mac/geo/地铁站.xlsx\n",
      "/Users/mac/geo/综合医院.xlsx\n",
      "/Users/mac/geo/敬老院、养老院.xlsx\n",
      "/Users/mac/geo/cafe.xlsx\n",
      "/Users/mac/geo/水果商店.xlsx\n",
      "/Users/mac/geo/图书馆、美术馆、文化中心.xlsx\n",
      "/Users/mac/geo/中学.xlsx\n",
      "/Users/mac/geo/KTV.xlsx\n",
      "/Users/mac/geo/社区活动中心.xlsx\n"
     ]
    },
    {
     "data": {
      "text/plain": [
       "37"
      ]
     },
     "execution_count": 22,
     "metadata": {},
     "output_type": "execute_result"
    }
   ],
   "source": [
    "\n",
    "j=0\n",
    "#建立循环对于每个文件调用excel_to_csv()\n",
    "for it in file_list:\n",
    "    if it.endswith('.xlsx'):\n",
    "        #给目标文件新建一些名字列表\n",
    "        j_csv=ob+'/'+it[15:-5]+\".csv\"\n",
    "        excel_to_csv(it,j_csv)\n",
    "        print(it)\n",
    "        j=j+1\n",
    "j"
   ]
  },
  {
   "cell_type": "code",
   "execution_count": 16,
   "id": "right-standard",
   "metadata": {},
   "outputs": [
    {
     "name": "stdout",
     "output_type": "stream",
     "text": [
      "美容美发店\n",
      "poi_0.05_153c2c2f24af71aeab07f04018732476.\n",
      "游乐场\n",
      "osmnx-examples\n",
      "poi_gz_a1cf852d9781d1e427a06ab57400ce13.\n",
      "公园广场\n",
      "分\n",
      "诊所\n",
      "电影院\n",
      ".DS_\n",
      "\n",
      "老年公寓\n",
      "\n",
      "水产海鲜市场\n",
      "疗养院\n",
      "运动场所\n",
      "\n",
      "中小型商店:市场\n",
      "专科医院\n",
      "健身中心\n",
      "商场\n",
      "便利店\n",
      "\n",
      "儿童乐园\n",
      "ATM\n",
      "室内运动场馆\n",
      "\n",
      "邮局、物流和各类营业厅\n",
      "银行\n",
      "餐厅\n",
      "幼儿园\n",
      "未命名.\n",
      "社区文化活动\n",
      "大型商店:市场\n",
      "老年学校\n",
      "公交车站\n",
      "超级市场\n",
      "洗浴推拿场所\n",
      ".ipynb_checkp\n",
      "小学\n",
      "poi关键字.\n",
      "药房\n",
      "培训机构\n",
      "地铁站\n",
      "综合医院\n",
      "Cafe\n",
      "图书馆、美术馆、文化中心\n",
      "果品市场\n",
      "中学\n",
      "KTV\n"
     ]
    }
   ],
   "source": [
    "for it in file_list:\n",
    "    print(it[15:-5])"
   ]
  },
  {
   "cell_type": "code",
   "execution_count": null,
   "id": "indie-pipeline",
   "metadata": {},
   "outputs": [],
   "source": []
  }
 ],
 "metadata": {
  "kernelspec": {
   "display_name": "Python 3",
   "language": "python",
   "name": "python3"
  },
  "language_info": {
   "codemirror_mode": {
    "name": "ipython",
    "version": 3
   },
   "file_extension": ".py",
   "mimetype": "text/x-python",
   "name": "python",
   "nbconvert_exporter": "python",
   "pygments_lexer": "ipython3",
   "version": "3.8.8"
  }
 },
 "nbformat": 4,
 "nbformat_minor": 5
}
