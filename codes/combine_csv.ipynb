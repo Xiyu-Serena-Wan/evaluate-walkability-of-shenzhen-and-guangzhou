{
 "cells": [
  {
   "cell_type": "code",
   "execution_count": 5,
   "id": "analyzed-hours",
   "metadata": {},
   "outputs": [],
   "source": [
    "'''\n",
    "import packages we need\n",
    "'''\n",
    "import pandas as pd\n",
    "import csv\n",
    "import numpy as np"
   ]
  },
  {
   "cell_type": "code",
   "execution_count": 39,
   "id": "integral-copyright",
   "metadata": {},
   "outputs": [
    {
     "name": "stderr",
     "output_type": "stream",
     "text": [
      "/opt/miniconda3/envs/d2l/lib/python3.8/site-packages/IPython/core/interactiveshell.py:3165: DtypeWarning: Columns (0,1) have mixed types.Specify dtype option on import or set low_memory=False.\n",
      "  has_raised = await self.run_ast_nodes(code_ast.body, cell_name,\n"
     ]
    }
   ],
   "source": [
    "df = pd.read_csv(\"weight_all_gz.csv\")#, encoding='latin-1') "
   ]
  },
  {
   "cell_type": "code",
   "execution_count": 40,
   "id": "aware-slope",
   "metadata": {},
   "outputs": [
    {
     "data": {
      "text/html": [
       "<div>\n",
       "<style scoped>\n",
       "    .dataframe tbody tr th:only-of-type {\n",
       "        vertical-align: middle;\n",
       "    }\n",
       "\n",
       "    .dataframe tbody tr th {\n",
       "        vertical-align: top;\n",
       "    }\n",
       "\n",
       "    .dataframe thead th {\n",
       "        text-align: right;\n",
       "    }\n",
       "</style>\n",
       "<table border=\"1\" class=\"dataframe\">\n",
       "  <thead>\n",
       "    <tr style=\"text-align: right;\">\n",
       "      <th></th>\n",
       "      <th>步行最短距离</th>\n",
       "      <th>步行最短时间</th>\n",
       "      <th>公共服务设施名称</th>\n",
       "      <th>ID</th>\n",
       "      <th>距离分类</th>\n",
       "      <th>权重</th>\n",
       "      <th>纠正后权重</th>\n",
       "    </tr>\n",
       "  </thead>\n",
       "  <tbody>\n",
       "    <tr>\n",
       "      <th>0</th>\n",
       "      <td>155</td>\n",
       "      <td>124</td>\n",
       "      <td>鸿力游泳健身俱乐部</td>\n",
       "      <td>1.0</td>\n",
       "      <td>1.00</td>\n",
       "      <td>0.08</td>\n",
       "      <td>0.08</td>\n",
       "    </tr>\n",
       "    <tr>\n",
       "      <th>1</th>\n",
       "      <td>298</td>\n",
       "      <td>238</td>\n",
       "      <td>源力汇健身拳击</td>\n",
       "      <td>1.0</td>\n",
       "      <td>1.00</td>\n",
       "      <td>0.08</td>\n",
       "      <td>0.08</td>\n",
       "    </tr>\n",
       "    <tr>\n",
       "      <th>2</th>\n",
       "      <td>448</td>\n",
       "      <td>358</td>\n",
       "      <td>Salute健身工作室</td>\n",
       "      <td>1.0</td>\n",
       "      <td>0.90</td>\n",
       "      <td>0.08</td>\n",
       "      <td>0.072</td>\n",
       "    </tr>\n",
       "    <tr>\n",
       "      <th>3</th>\n",
       "      <td>651</td>\n",
       "      <td>521</td>\n",
       "      <td>维拉游泳健身俱乐部</td>\n",
       "      <td>1.0</td>\n",
       "      <td>0.90</td>\n",
       "      <td>0.08</td>\n",
       "      <td>0.072</td>\n",
       "    </tr>\n",
       "    <tr>\n",
       "      <th>4</th>\n",
       "      <td>836</td>\n",
       "      <td>669</td>\n",
       "      <td>CGV影城(北京路店)</td>\n",
       "      <td>1.0</td>\n",
       "      <td>0.55</td>\n",
       "      <td>0.08</td>\n",
       "      <td>0.044</td>\n",
       "    </tr>\n",
       "  </tbody>\n",
       "</table>\n",
       "</div>"
      ],
      "text/plain": [
       "  步行最短距离 步行最短时间     公共服务设施名称   ID  距离分类    权重  纠正后权重\n",
       "0    155    124    鸿力游泳健身俱乐部  1.0  1.00  0.08   0.08\n",
       "1    298    238      源力汇健身拳击  1.0  1.00  0.08   0.08\n",
       "2    448    358  Salute健身工作室  1.0  0.90  0.08  0.072\n",
       "3    651    521    维拉游泳健身俱乐部  1.0  0.90  0.08  0.072\n",
       "4    836    669  CGV影城(北京路店)  1.0  0.55  0.08  0.044"
      ]
     },
     "execution_count": 40,
     "metadata": {},
     "output_type": "execute_result"
    }
   ],
   "source": [
    "'''\n",
    "show us the first five lines of assembled POIs\n",
    "'''\n",
    "df.head()"
   ]
  },
  {
   "cell_type": "code",
   "execution_count": 41,
   "id": "optional-jewel",
   "metadata": {},
   "outputs": [],
   "source": [
    "dff = pd.read_csv(\"street_2.0.csv\",header = None)"
   ]
  },
  {
   "cell_type": "code",
   "execution_count": 43,
   "id": "cubic-photographer",
   "metadata": {},
   "outputs": [],
   "source": [
    "'''\n",
    "assemble all pois of one address and calculate its grades,save it in dictionary 'data'\n",
    "'''\n",
    "data = {}\n",
    "for i in range(1,172):#range(1,230)\n",
    "    df_1 = df[(df['ID'] == i)]\n",
    "    df_1c = df_1['纠正后权重']\n",
    "    sum1 = 0\n",
    "    for j in list(df_1c):\n",
    "        try:\n",
    "            i_f = float(j)\n",
    "        except ValueError:\n",
    "            i_f = float(j[:-2])\n",
    "        sum1 += float(i_f)\n",
    "    #print(sum1)\n",
    "    data[i] = sum1"
   ]
  },
  {
   "cell_type": "code",
   "execution_count": 45,
   "id": "auburn-aerospace",
   "metadata": {
    "scrolled": true
   },
   "outputs": [
    {
     "data": {
      "text/plain": [
       "1790.2318000000037"
      ]
     },
     "execution_count": 45,
     "metadata": {},
     "output_type": "execute_result"
    }
   ],
   "source": [
    "max(data.values())"
   ]
  },
  {
   "cell_type": "code",
   "execution_count": 46,
   "id": "strategic-zambia",
   "metadata": {},
   "outputs": [
    {
     "data": {
      "text/plain": [
       "0.324"
      ]
     },
     "execution_count": 46,
     "metadata": {},
     "output_type": "execute_result"
    }
   ],
   "source": [
    "min(data.values())"
   ]
  },
  {
   "cell_type": "code",
   "execution_count": 47,
   "id": "eastern-reason",
   "metadata": {},
   "outputs": [
    {
     "data": {
      "text/html": [
       "<div>\n",
       "<style scoped>\n",
       "    .dataframe tbody tr th:only-of-type {\n",
       "        vertical-align: middle;\n",
       "    }\n",
       "\n",
       "    .dataframe tbody tr th {\n",
       "        vertical-align: top;\n",
       "    }\n",
       "\n",
       "    .dataframe thead th {\n",
       "        text-align: right;\n",
       "    }\n",
       "</style>\n",
       "<table border=\"1\" class=\"dataframe\">\n",
       "  <thead>\n",
       "    <tr style=\"text-align: right;\">\n",
       "      <th></th>\n",
       "      <th>0</th>\n",
       "    </tr>\n",
       "  </thead>\n",
       "  <tbody>\n",
       "    <tr>\n",
       "      <th>1</th>\n",
       "      <td>950.4573</td>\n",
       "    </tr>\n",
       "    <tr>\n",
       "      <th>2</th>\n",
       "      <td>75.8810</td>\n",
       "    </tr>\n",
       "    <tr>\n",
       "      <th>3</th>\n",
       "      <td>574.4654</td>\n",
       "    </tr>\n",
       "    <tr>\n",
       "      <th>4</th>\n",
       "      <td>63.7165</td>\n",
       "    </tr>\n",
       "    <tr>\n",
       "      <th>5</th>\n",
       "      <td>387.7669</td>\n",
       "    </tr>\n",
       "    <tr>\n",
       "      <th>...</th>\n",
       "      <td>...</td>\n",
       "    </tr>\n",
       "    <tr>\n",
       "      <th>167</th>\n",
       "      <td>5.9460</td>\n",
       "    </tr>\n",
       "    <tr>\n",
       "      <th>168</th>\n",
       "      <td>251.5325</td>\n",
       "    </tr>\n",
       "    <tr>\n",
       "      <th>169</th>\n",
       "      <td>853.9726</td>\n",
       "    </tr>\n",
       "    <tr>\n",
       "      <th>170</th>\n",
       "      <td>208.4239</td>\n",
       "    </tr>\n",
       "    <tr>\n",
       "      <th>171</th>\n",
       "      <td>42.9695</td>\n",
       "    </tr>\n",
       "  </tbody>\n",
       "</table>\n",
       "<p>171 rows × 1 columns</p>\n",
       "</div>"
      ],
      "text/plain": [
       "            0\n",
       "1    950.4573\n",
       "2     75.8810\n",
       "3    574.4654\n",
       "4     63.7165\n",
       "5    387.7669\n",
       "..        ...\n",
       "167    5.9460\n",
       "168  251.5325\n",
       "169  853.9726\n",
       "170  208.4239\n",
       "171   42.9695\n",
       "\n",
       "[171 rows x 1 columns]"
      ]
     },
     "execution_count": 47,
     "metadata": {},
     "output_type": "execute_result"
    }
   ],
   "source": [
    "'''\n",
    "show data in DataFrame format\n",
    "'''\n",
    "data_df = pd.DataFrame(data,index=[0]).T\n",
    "data_df"
   ]
  },
  {
   "cell_type": "code",
   "execution_count": 48,
   "id": "hearing-constitution",
   "metadata": {},
   "outputs": [
    {
     "data": {
      "text/plain": [
       "1      950.4573\n",
       "2       75.8810\n",
       "3      574.4654\n",
       "4       63.7165\n",
       "5      387.7669\n",
       "         ...   \n",
       "167      5.9460\n",
       "168    251.5325\n",
       "169    853.9726\n",
       "170    208.4239\n",
       "171     42.9695\n",
       "Name: 0, Length: 171, dtype: float64"
      ]
     },
     "execution_count": 48,
     "metadata": {},
     "output_type": "execute_result"
    }
   ],
   "source": [
    "data_df[0]"
   ]
  },
  {
   "cell_type": "code",
   "execution_count": 49,
   "id": "bottom-penalty",
   "metadata": {},
   "outputs": [
    {
     "data": {
      "text/html": [
       "<div>\n",
       "<style scoped>\n",
       "    .dataframe tbody tr th:only-of-type {\n",
       "        vertical-align: middle;\n",
       "    }\n",
       "\n",
       "    .dataframe tbody tr th {\n",
       "        vertical-align: top;\n",
       "    }\n",
       "\n",
       "    .dataframe thead th {\n",
       "        text-align: right;\n",
       "    }\n",
       "</style>\n",
       "<table border=\"1\" class=\"dataframe\">\n",
       "  <thead>\n",
       "    <tr style=\"text-align: right;\">\n",
       "      <th></th>\n",
       "      <th>0</th>\n",
       "    </tr>\n",
       "  </thead>\n",
       "  <tbody>\n",
       "    <tr>\n",
       "      <th>count</th>\n",
       "      <td>171.000000</td>\n",
       "    </tr>\n",
       "    <tr>\n",
       "      <th>mean</th>\n",
       "      <td>417.153548</td>\n",
       "    </tr>\n",
       "    <tr>\n",
       "      <th>std</th>\n",
       "      <td>345.528837</td>\n",
       "    </tr>\n",
       "    <tr>\n",
       "      <th>min</th>\n",
       "      <td>0.324000</td>\n",
       "    </tr>\n",
       "    <tr>\n",
       "      <th>25%</th>\n",
       "      <td>141.133350</td>\n",
       "    </tr>\n",
       "    <tr>\n",
       "      <th>50%</th>\n",
       "      <td>346.061000</td>\n",
       "    </tr>\n",
       "    <tr>\n",
       "      <th>75%</th>\n",
       "      <td>573.417350</td>\n",
       "    </tr>\n",
       "    <tr>\n",
       "      <th>max</th>\n",
       "      <td>1790.231800</td>\n",
       "    </tr>\n",
       "  </tbody>\n",
       "</table>\n",
       "</div>"
      ],
      "text/plain": [
       "                 0\n",
       "count   171.000000\n",
       "mean    417.153548\n",
       "std     345.528837\n",
       "min       0.324000\n",
       "25%     141.133350\n",
       "50%     346.061000\n",
       "75%     573.417350\n",
       "max    1790.231800"
      ]
     },
     "execution_count": 49,
     "metadata": {},
     "output_type": "execute_result"
    }
   ],
   "source": [
    "'''\n",
    "here are some basic information of scores after distance-based decay function \n",
    "'''\n",
    "data_df.describe()"
   ]
  },
  {
   "cell_type": "code",
   "execution_count": 50,
   "id": "collected-antarctica",
   "metadata": {},
   "outputs": [],
   "source": [
    "'''\n",
    "add a new column\n",
    "'''\n",
    "dff['3']=''"
   ]
  },
  {
   "cell_type": "code",
   "execution_count": 51,
   "id": "timely-bahamas",
   "metadata": {},
   "outputs": [],
   "source": [
    "'''\n",
    "block-characteristic-based decay function\n",
    "'''\n",
    "def fix(x,y):\n",
    "    if x < 50:\n",
    "        wei = 0.95\n",
    "    elif x < 80 and x >= 50:\n",
    "        wei = 0.96\n",
    "    elif x < 120 and x >= 80:\n",
    "        wei = 0.97\n",
    "    elif x < 150 and x >= 120:\n",
    "        wei = 0.98\n",
    "    elif x < 200 and x >= 150:\n",
    "        wei = 0.99\n",
    "    else:\n",
    "        wei = 1\n",
    "\n",
    "    if y < 100:\n",
    "        ght = 1\n",
    "    elif x < 120 and x >= 100:\n",
    "        ght = 0.99\n",
    "    elif x < 150 and x >= 120:\n",
    "        ght = 0.98\n",
    "    elif x < 180 and x >= 150:\n",
    "        ght = 0.97\n",
    "    elif x < 200 and x >= 180:\n",
    "        ght = 0.96\n",
    "    else:\n",
    "        ght = 0.95\n",
    "    return(wei*ght)"
   ]
  },
  {
   "cell_type": "code",
   "execution_count": 52,
   "id": "complicated-grove",
   "metadata": {},
   "outputs": [],
   "source": [
    "'''\n",
    "calculate scores after considering block characteristics\n",
    "'''\n",
    "for i in data:\n",
    "    dff.iloc[[i-1],[3]]=data[i]\n",
    "    line = dff.iat[i-1, 2]\n",
    "    line = line.replace('[', '')\n",
    "    line = line.replace(']', '')\n",
    "    line = line.split(',')\n",
    "    #print(line)\n",
    "    x = float(line[0])\n",
    "    y = float(line[1])\n",
    "    dff.iloc[[i-1],[3]]=data[i]*fix(x,y)"
   ]
  },
  {
   "cell_type": "code",
   "execution_count": 53,
   "id": "solid-brook",
   "metadata": {},
   "outputs": [
    {
     "data": {
      "text/html": [
       "<div>\n",
       "<style scoped>\n",
       "    .dataframe tbody tr th:only-of-type {\n",
       "        vertical-align: middle;\n",
       "    }\n",
       "\n",
       "    .dataframe tbody tr th {\n",
       "        vertical-align: top;\n",
       "    }\n",
       "\n",
       "    .dataframe thead th {\n",
       "        text-align: right;\n",
       "    }\n",
       "</style>\n",
       "<table border=\"1\" class=\"dataframe\">\n",
       "  <thead>\n",
       "    <tr style=\"text-align: right;\">\n",
       "      <th></th>\n",
       "      <th>0</th>\n",
       "      <th>1</th>\n",
       "      <th>2</th>\n",
       "      <th>3</th>\n",
       "    </tr>\n",
       "  </thead>\n",
       "  <tbody>\n",
       "    <tr>\n",
       "      <th>0</th>\n",
       "      <td>113.275128,23.117633</td>\n",
       "      <td>珠光街道</td>\n",
       "      <td>[182.1003530684274, 79.21584647302905]</td>\n",
       "      <td>940.952727</td>\n",
       "    </tr>\n",
       "    <tr>\n",
       "      <th>1</th>\n",
       "      <td>113.177516,23.426931</td>\n",
       "      <td>秀全街道</td>\n",
       "      <td>[67.60406911970202, 136.25749999999996]</td>\n",
       "      <td>69.203472</td>\n",
       "    </tr>\n",
       "    <tr>\n",
       "      <th>2</th>\n",
       "      <td>113.322082,23.166966</td>\n",
       "      <td>兴华街道</td>\n",
       "      <td>[5.3026609586811615, 375.12302597402606]</td>\n",
       "      <td>518.455024</td>\n",
       "    </tr>\n",
       "    <tr>\n",
       "      <th>3</th>\n",
       "      <td>113.532512,23.593680</td>\n",
       "      <td>城郊街道</td>\n",
       "      <td>[8.418909233086419, 337.739780361757]</td>\n",
       "      <td>57.504141</td>\n",
       "    </tr>\n",
       "    <tr>\n",
       "      <th>4</th>\n",
       "      <td>113.599693,23.545329</td>\n",
       "      <td>江埔街道</td>\n",
       "      <td>[5.566734325055002, 213.8208961038963]</td>\n",
       "      <td>349.959627</td>\n",
       "    </tr>\n",
       "  </tbody>\n",
       "</table>\n",
       "</div>"
      ],
      "text/plain": [
       "                      0     1                                         2  \\\n",
       "0  113.275128,23.117633  珠光街道    [182.1003530684274, 79.21584647302905]   \n",
       "1  113.177516,23.426931  秀全街道   [67.60406911970202, 136.25749999999996]   \n",
       "2  113.322082,23.166966  兴华街道  [5.3026609586811615, 375.12302597402606]   \n",
       "3  113.532512,23.593680  城郊街道     [8.418909233086419, 337.739780361757]   \n",
       "4  113.599693,23.545329  江埔街道    [5.566734325055002, 213.8208961038963]   \n",
       "\n",
       "            3  \n",
       "0  940.952727  \n",
       "1   69.203472  \n",
       "2  518.455024  \n",
       "3   57.504141  \n",
       "4  349.959627  "
      ]
     },
     "execution_count": 53,
     "metadata": {},
     "output_type": "execute_result"
    }
   ],
   "source": [
    "'''\n",
    "show us the first five lines of assembled POIs\n",
    "'''\n",
    "dff.head()"
   ]
  },
  {
   "cell_type": "code",
   "execution_count": 65,
   "id": "fatty-compiler",
   "metadata": {},
   "outputs": [],
   "source": [
    "'''\n",
    "save file\n",
    "'''\n",
    "dff.to_csv(\"score.csv\",index=False,sep=',')"
   ]
  },
  {
   "cell_type": "code",
   "execution_count": 64,
   "id": "increasing-feelings",
   "metadata": {},
   "outputs": [
    {
     "data": {
      "text/plain": [
       "1772.3294820000035"
      ]
     },
     "execution_count": 64,
     "metadata": {},
     "output_type": "execute_result"
    }
   ],
   "source": [
    "max(dff['3'])"
   ]
  },
  {
   "cell_type": "code",
   "execution_count": 57,
   "id": "equivalent-opposition",
   "metadata": {},
   "outputs": [],
   "source": [
    "'''\n",
    "extract final scores \n",
    "'''\n",
    "dff_1=pd.DataFrame(dff['3'],dtype=np.float)"
   ]
  },
  {
   "cell_type": "code",
   "execution_count": 58,
   "id": "valid-omega",
   "metadata": {},
   "outputs": [
    {
     "data": {
      "text/html": [
       "<div>\n",
       "<style scoped>\n",
       "    .dataframe tbody tr th:only-of-type {\n",
       "        vertical-align: middle;\n",
       "    }\n",
       "\n",
       "    .dataframe tbody tr th {\n",
       "        vertical-align: top;\n",
       "    }\n",
       "\n",
       "    .dataframe thead th {\n",
       "        text-align: right;\n",
       "    }\n",
       "</style>\n",
       "<table border=\"1\" class=\"dataframe\">\n",
       "  <thead>\n",
       "    <tr style=\"text-align: right;\">\n",
       "      <th></th>\n",
       "      <th>3</th>\n",
       "    </tr>\n",
       "  </thead>\n",
       "  <tbody>\n",
       "    <tr>\n",
       "      <th>count</th>\n",
       "      <td>171.000000</td>\n",
       "    </tr>\n",
       "    <tr>\n",
       "      <th>mean</th>\n",
       "      <td>389.361230</td>\n",
       "    </tr>\n",
       "    <tr>\n",
       "      <th>std</th>\n",
       "      <td>331.382889</td>\n",
       "    </tr>\n",
       "    <tr>\n",
       "      <th>min</th>\n",
       "      <td>0.292410</td>\n",
       "    </tr>\n",
       "    <tr>\n",
       "      <th>25%</th>\n",
       "      <td>129.171711</td>\n",
       "    </tr>\n",
       "    <tr>\n",
       "      <th>50%</th>\n",
       "      <td>312.320052</td>\n",
       "    </tr>\n",
       "    <tr>\n",
       "      <th>75%</th>\n",
       "      <td>524.141613</td>\n",
       "    </tr>\n",
       "    <tr>\n",
       "      <th>max</th>\n",
       "      <td>1772.329482</td>\n",
       "    </tr>\n",
       "  </tbody>\n",
       "</table>\n",
       "</div>"
      ],
      "text/plain": [
       "                 3\n",
       "count   171.000000\n",
       "mean    389.361230\n",
       "std     331.382889\n",
       "min       0.292410\n",
       "25%     129.171711\n",
       "50%     312.320052\n",
       "75%     524.141613\n",
       "max    1772.329482"
      ]
     },
     "execution_count": 58,
     "metadata": {},
     "output_type": "execute_result"
    }
   ],
   "source": [
    "'''\n",
    "show us basic information of the final scores\n",
    "'''\n",
    "dff_1.describe()"
   ]
  },
  {
   "cell_type": "code",
   "execution_count": 59,
   "id": "worse-aberdeen",
   "metadata": {},
   "outputs": [
    {
     "data": {
      "text/html": [
       "<div>\n",
       "<style scoped>\n",
       "    .dataframe tbody tr th:only-of-type {\n",
       "        vertical-align: middle;\n",
       "    }\n",
       "\n",
       "    .dataframe tbody tr th {\n",
       "        vertical-align: top;\n",
       "    }\n",
       "\n",
       "    .dataframe thead th {\n",
       "        text-align: right;\n",
       "    }\n",
       "</style>\n",
       "<table border=\"1\" class=\"dataframe\">\n",
       "  <thead>\n",
       "    <tr style=\"text-align: right;\">\n",
       "      <th></th>\n",
       "      <th>3</th>\n",
       "    </tr>\n",
       "  </thead>\n",
       "  <tbody>\n",
       "    <tr>\n",
       "      <th>count</th>\n",
       "      <td>171.000000</td>\n",
       "    </tr>\n",
       "    <tr>\n",
       "      <th>mean</th>\n",
       "      <td>389.361228</td>\n",
       "    </tr>\n",
       "    <tr>\n",
       "      <th>std</th>\n",
       "      <td>331.382893</td>\n",
       "    </tr>\n",
       "    <tr>\n",
       "      <th>min</th>\n",
       "      <td>0.292000</td>\n",
       "    </tr>\n",
       "    <tr>\n",
       "      <th>25%</th>\n",
       "      <td>129.172000</td>\n",
       "    </tr>\n",
       "    <tr>\n",
       "      <th>50%</th>\n",
       "      <td>312.320000</td>\n",
       "    </tr>\n",
       "    <tr>\n",
       "      <th>75%</th>\n",
       "      <td>524.141500</td>\n",
       "    </tr>\n",
       "    <tr>\n",
       "      <th>max</th>\n",
       "      <td>1772.329000</td>\n",
       "    </tr>\n",
       "  </tbody>\n",
       "</table>\n",
       "</div>"
      ],
      "text/plain": [
       "                 3\n",
       "count   171.000000\n",
       "mean    389.361228\n",
       "std     331.382893\n",
       "min       0.292000\n",
       "25%     129.172000\n",
       "50%     312.320000\n",
       "75%     524.141500\n",
       "max    1772.329000"
      ]
     },
     "execution_count": 59,
     "metadata": {},
     "output_type": "execute_result"
    }
   ],
   "source": [
    "'''\n",
    "only keep three digital numbers\n",
    "'''\n",
    "dff_1.round(3).describe()"
   ]
  },
  {
   "cell_type": "code",
   "execution_count": 60,
   "id": "million-census",
   "metadata": {},
   "outputs": [
    {
     "data": {
      "text/plain": [
       "312.32"
      ]
     },
     "execution_count": 60,
     "metadata": {},
     "output_type": "execute_result"
    }
   ],
   "source": [
    "#中位数\n",
    "np.median(dff_1.round(3))"
   ]
  },
  {
   "cell_type": "code",
   "execution_count": 61,
   "id": "external-zoning",
   "metadata": {},
   "outputs": [
    {
     "data": {
      "text/plain": [
       "array([58.])"
      ]
     },
     "execution_count": 61,
     "metadata": {},
     "output_type": "execute_result"
    }
   ],
   "source": [
    "from scipy import stats\n",
    "'''\n",
    "use stats package to calculate mode\n",
    "'''\n",
    "stats.mode(dff_1.round(0))[0][0]"
   ]
  },
  {
   "cell_type": "code",
   "execution_count": 68,
   "id": "desperate-webster",
   "metadata": {},
   "outputs": [],
   "source": [
    "'''\n",
    "a new score.csv, after using Excel to standardize scores into [0,100]\n",
    "'''\n",
    "score = pd.read_csv(\"score.csv\")"
   ]
  },
  {
   "cell_type": "code",
   "execution_count": 69,
   "id": "fourth-bumper",
   "metadata": {},
   "outputs": [
    {
     "data": {
      "text/html": [
       "<div>\n",
       "<style scoped>\n",
       "    .dataframe tbody tr th:only-of-type {\n",
       "        vertical-align: middle;\n",
       "    }\n",
       "\n",
       "    .dataframe tbody tr th {\n",
       "        vertical-align: top;\n",
       "    }\n",
       "\n",
       "    .dataframe thead th {\n",
       "        text-align: right;\n",
       "    }\n",
       "</style>\n",
       "<table border=\"1\" class=\"dataframe\">\n",
       "  <thead>\n",
       "    <tr style=\"text-align: right;\">\n",
       "      <th></th>\n",
       "      <th>0</th>\n",
       "      <th>1</th>\n",
       "      <th>2</th>\n",
       "      <th>3</th>\n",
       "    </tr>\n",
       "  </thead>\n",
       "  <tbody>\n",
       "    <tr>\n",
       "      <th>0</th>\n",
       "      <td>113.275128,23.117633</td>\n",
       "      <td>珠光街道</td>\n",
       "      <td>[182.1003530684274, 79.21584647302905]</td>\n",
       "      <td>940.952727</td>\n",
       "    </tr>\n",
       "    <tr>\n",
       "      <th>1</th>\n",
       "      <td>113.177516,23.426931</td>\n",
       "      <td>秀全街道</td>\n",
       "      <td>[67.60406911970202, 136.25749999999996]</td>\n",
       "      <td>69.203472</td>\n",
       "    </tr>\n",
       "    <tr>\n",
       "      <th>2</th>\n",
       "      <td>113.322082,23.166966</td>\n",
       "      <td>兴华街道</td>\n",
       "      <td>[5.3026609586811615, 375.12302597402606]</td>\n",
       "      <td>518.455024</td>\n",
       "    </tr>\n",
       "    <tr>\n",
       "      <th>3</th>\n",
       "      <td>113.532512,23.593680</td>\n",
       "      <td>城郊街道</td>\n",
       "      <td>[8.418909233086419, 337.739780361757]</td>\n",
       "      <td>57.504141</td>\n",
       "    </tr>\n",
       "    <tr>\n",
       "      <th>4</th>\n",
       "      <td>113.599693,23.545329</td>\n",
       "      <td>江埔街道</td>\n",
       "      <td>[5.566734325055002, 213.8208961038963]</td>\n",
       "      <td>349.959627</td>\n",
       "    </tr>\n",
       "  </tbody>\n",
       "</table>\n",
       "</div>"
      ],
      "text/plain": [
       "                      0     1                                         2  \\\n",
       "0  113.275128,23.117633  珠光街道    [182.1003530684274, 79.21584647302905]   \n",
       "1  113.177516,23.426931  秀全街道   [67.60406911970202, 136.25749999999996]   \n",
       "2  113.322082,23.166966  兴华街道  [5.3026609586811615, 375.12302597402606]   \n",
       "3  113.532512,23.593680  城郊街道     [8.418909233086419, 337.739780361757]   \n",
       "4  113.599693,23.545329  江埔街道    [5.566734325055002, 213.8208961038963]   \n",
       "\n",
       "            3  \n",
       "0  940.952727  \n",
       "1   69.203472  \n",
       "2  518.455024  \n",
       "3   57.504141  \n",
       "4  349.959627  "
      ]
     },
     "execution_count": 69,
     "metadata": {},
     "output_type": "execute_result"
    }
   ],
   "source": [
    "score.head()"
   ]
  },
  {
   "cell_type": "code",
   "execution_count": 54,
   "id": "productive-soviet",
   "metadata": {},
   "outputs": [
    {
     "ename": "SyntaxError",
     "evalue": "invalid syntax (<ipython-input-54-1ed03acce396>, line 5)",
     "output_type": "error",
     "traceback": [
      "\u001b[0;36m  File \u001b[0;32m\"<ipython-input-54-1ed03acce396>\"\u001b[0;36m, line \u001b[0;32m5\u001b[0m\n\u001b[0;31m    In [42]:\u001b[0m\n\u001b[0m            ^\u001b[0m\n\u001b[0;31mSyntaxError\u001b[0m\u001b[0;31m:\u001b[0m invalid syntax\n"
     ]
    }
   ],
   "source": [
    "'''\n",
    "show us basic statistic information about standardized final scores\n",
    "'''\n",
    "score['4'].round(2).describe()\n",
    "Out[72]:\n",
    "count    171.000000\n",
    "mean      22.003743\n",
    "std       18.733260\n",
    "min        0.000000\n",
    "25%        7.295000\n",
    "50%       17.690000\n",
    "75%       29.615000\n",
    "max      100.000000\n",
    "Name: 4, dtype: float64\n",
    "In [74]:\n",
    "np.median(score['4'].round(2))\n",
    "Out[74]:\n",
    "17.69\n",
    "In [75]:\n",
    "stats.mode(score['4'].round(0))[0][0]\n",
    "Out[75]:\n",
    "29.0\n",
    "In [79]:\n",
    "'''\n",
    "calculate the numbers of communities that fall into different score scope\n",
    "'''\n",
    "#：[(10, 20] < (20, 30] < (30, 50] < (50, 70] < (70, 80] < (80, 90]]\n",
    "scores_bins = [-0.01,24.99,49.99,69.99,89.99,100.01]\n",
    "a,b = pd.cut(x=score[\"4\"],bins=scores_bins,right=True,retbins=True)\n",
    "In [80]:\n",
    "a\n",
    "Out[80]:\n",
    "0      (49.99, 69.99]\n",
    "1      (-0.01, 24.99]\n",
    "2      (24.99, 49.99]\n",
    "3      (-0.01, 24.99]\n",
    "4      (-0.01, 24.99]\n",
    "            ...      \n",
    "166    (-0.01, 24.99]\n",
    "167    (-0.01, 24.99]\n",
    "168    (24.99, 49.99]\n",
    "169    (-0.01, 24.99]\n",
    "170    (-0.01, 24.99]\n",
    "Name: 4, Length: 171, dtype: category\n",
    "Categories (5, interval[float64]): [(-0.01, 24.99] < (24.99, 49.99] < (49.99, 69.99] < (69.99, 89.99] < (89.99, 100.01]]\n",
    "In [84]:\n",
    "a.value_counts()\n",
    "Out[84]:\n",
    "(-0.01, 24.99]     106\n",
    "(24.99, 49.99]      50\n",
    "(49.99, 69.99]      10\n",
    "(69.99, 89.99]       4\n",
    "(89.99, 100.01]      1\n",
    "Name: 4, dtype: int64\n",
    "In [ ]:\n",
    " "
   ]
  },
  {
   "cell_type": "code",
   "execution_count": 4,
   "id": "honey-career",
   "metadata": {},
   "outputs": [
    {
     "name": "stdout",
     "output_type": "stream",
     "text": [
      "共合并28个CSV文件\n",
      "共合并28个CSV文件\n",
      "共合并28个CSV文件\n",
      "共合并28个CSV文件\n",
      "共合并28个CSV文件\n",
      "共合并28个CSV文件\n",
      "共合并28个CSV文件\n",
      "共合并28个CSV文件\n",
      "共合并28个CSV文件\n",
      "共合并28个CSV文件\n",
      "共合并28个CSV文件\n",
      "共合并28个CSV文件\n",
      "共合并28个CSV文件\n",
      "共合并28个CSV文件\n",
      "共合并28个CSV文件\n"
     ]
    }
   ],
   "source": [
    "#  遍历读取文件夹中的每一个文件\n",
    "fileStart = 1\n",
    "fileEnd = len(file_list)\n",
    "for i in range(fileStart,fileEnd):\n",
    "    df_path = Folder_Path + '/' + file_list[i]\n",
    "    if df_path.endswith('.csv'):\n",
    "        df = pd.read_csv(df_path, \n",
    "                   encoding = \"utf8\")\n",
    "        df.to_csv (SaveFile_Path + '/' + SaveFile_Name,\n",
    "                   encoding = \"utf8\",\n",
    "                   index = False,\n",
    "                   header = True,#如果对每个文件的标题另外有需求，需要对header变量进行指定\n",
    "                   mode = 'a')\n",
    "        print('共合并%i个CSV文件'% len(file_list))"
   ]
  },
  {
   "cell_type": "code",
   "execution_count": null,
   "id": "grateful-monkey",
   "metadata": {},
   "outputs": [],
   "source": []
  }
 ],
 "metadata": {
  "kernelspec": {
   "display_name": "Python 3",
   "language": "python",
   "name": "python3"
  },
  "language_info": {
   "codemirror_mode": {
    "name": "ipython",
    "version": 3
   },
   "file_extension": ".py",
   "mimetype": "text/x-python",
   "name": "python",
   "nbconvert_exporter": "python",
   "pygments_lexer": "ipython3",
   "version": "3.8.8"
  }
 },
 "nbformat": 4,
 "nbformat_minor": 5
}
