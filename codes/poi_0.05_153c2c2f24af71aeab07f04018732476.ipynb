{
 "cells": [
  {
   "cell_type": "code",
   "execution_count": 1,
   "id": "decreased-cookbook",
   "metadata": {},
   "outputs": [],
   "source": [
    "import requests\n",
    "import xlwt\n",
    "import xlrd\n",
    "import csv\n",
    "import pprint\n",
    "import time\n",
    "from IPython import embed\n",
    "from tqdm import tqdm\n",
    "wb = xlwt.Workbook()\n",
    "ws = wb.add_sheet('广州',cell_overwrite_ok=True)"
   ]
  },
  {
   "cell_type": "code",
   "execution_count": 2,
   "id": "uniform-ceremony",
   "metadata": {
    "scrolled": true
   },
   "outputs": [],
   "source": [
    "from geopy.distance import geodesic"
   ]
  },
  {
   "cell_type": "code",
   "execution_count": 3,
   "id": "robust-october",
   "metadata": {},
   "outputs": [],
   "source": [
    "import numpy as np"
   ]
  },
  {
   "cell_type": "code",
   "execution_count": 4,
   "id": "arabic-evans",
   "metadata": {},
   "outputs": [],
   "source": [
    "def poi_search(key,locations,types,radius):\n",
    "    import json\n",
    "    url_0 = 'https://restapi.amap.com/v3/place/around?'\n",
    "    key = str(key)\n",
    "    types = str(types)\n",
    "    location = str(locations)\n",
    "    radius = str(radius)\n",
    "    extensions = 'all'\n",
    "\n",
    "    url_lng_lat = url_0 + 'key=' + key + '&location=' + locations + '&types=' + types  + '&radius=' + radius + '&extensions=' + extensions\n",
    "    data = []\n",
    "    for p in range(1,50):\n",
    "        url = url_lng_lat + '&page=' + str(p)\n",
    "        html = requests.get(url)\n",
    "        if html.status_code == 200:\n",
    "            \n",
    "            content = json.loads(html.text)\n",
    "            dic = content[\"pois\"]\n",
    "            for i in dic:\n",
    "                location = i[\"location\"]\n",
    "                name = i[\"name\"]\n",
    "                datas = [name,location]\n",
    "                data.append(datas)\n",
    "\n",
    "    return data"
   ]
  },
  {
   "cell_type": "code",
   "execution_count": 5,
   "id": "associate-peoples",
   "metadata": {},
   "outputs": [
    {
     "name": "stdout",
     "output_type": "stream",
     "text": [
      "请输入你需要查询的公共服务设施类型：\n",
      "060100\n",
      "请输入权重：\n",
      "0.3\n"
     ]
    }
   ],
   "source": [
    "types = str(input(\"请输入你需要查询的公共服务设施类型：\\n\"))\n",
    "weight = str(input(\"请输入权重：\\n\"))\n",
    "#34 113.272673,23.096911 没爬完呢"
   ]
  },
  {
   "cell_type": "code",
   "execution_count": 6,
   "id": "endless-counter",
   "metadata": {},
   "outputs": [],
   "source": [
    "def poi_search_keywords(key,locations,keywords,radius):\n",
    "    import json\n",
    "    url_0 = 'https://restapi.amap.com/v3/place/around?'\n",
    "    key = str(key)\n",
    "    keywords = str(keywords)\n",
    "    location = str(locations)\n",
    "    radius = str(radius)\n",
    "    extensions = 'all'\n",
    "\n",
    "    url_lng_lat = url_0 + 'key=' + key + '&location=' + locations + '&keywords=' + keywords + '&radius=' + radius + '&extensions=' + extensions\n",
    "    data = []\n",
    "    for p in range(1,50):\n",
    "        url = url_lng_lat + '&page=' + str(p)\n",
    "        html = requests.get(url)\n",
    "        if html.status_code == 200:\n",
    "            \n",
    "            content = json.loads(html.text)\n",
    "            dic = content[\"pois\"]\n",
    "            for i in dic:\n",
    "                location = i[\"location\"]\n",
    "                name = i[\"name\"]\n",
    "                datas = [name,location]\n",
    "                data.append(datas)\n",
    "\n",
    "    return data"
   ]
  },
  {
   "cell_type": "code",
   "execution_count": 7,
   "id": "frequent-conflict",
   "metadata": {},
   "outputs": [
    {
     "name": "stdout",
     "output_type": "stream",
     "text": [
      "请输入你需要查询的公共服务设施类型：\n",
      "儿童乐园\n",
      "请输入权重：\n",
      "0.05\n"
     ]
    }
   ],
   "source": [
    "keywords = str(input(\"请输入你需要查询的公共服务设施类型：\\n\"))\n",
    "weight = str(input(\"请输入权重：\\n\"))"
   ]
  },
  {
   "cell_type": "code",
   "execution_count": 6,
   "id": "simple-copper",
   "metadata": {},
   "outputs": [],
   "source": [
    "def accessibility(key,origin,destination):\n",
    "    import json\n",
    "    url = \"https://restapi.amap.com/v3/direction/walking?parameters\"\n",
    "    keyword = {\"origin\": origin,\"destination\": destination,\"key\": key,\"output\":\"JSON\"}\n",
    "    access = []\n",
    "    b = requests.get(url, params=keyword)\n",
    "    if b.status_code == 200:\n",
    "        html = b.text\n",
    "        json = json.loads(html)\n",
    "        route = json[\"route\"][\"paths\"][0]\n",
    "        distance = route[\"distance\"]\n",
    "        duration = route[\"duration\"]\n",
    "        access.append(distance)\n",
    "        access.append(duration)\n",
    "    return access\n"
   ]
  },
  {
   "cell_type": "code",
   "execution_count": 7,
   "id": "hybrid-pierre",
   "metadata": {},
   "outputs": [],
   "source": [
    "def transposexy(x):\n",
    "    x_spit = x.split(\",\")\n",
    "    x_spitnp = np.array(x_spit)\n",
    "    #print(x_spitnp)\n",
    "    x_spitnp[[0,1]] = x_spitnp[[1,0]]\n",
    "    #print(x_spitnp)\n",
    "    x_spitnp=','.join(x_spitnp)\n",
    "    return x_spitnp"
   ]
  },
  {
   "cell_type": "code",
   "execution_count": 8,
   "id": "suspected-license",
   "metadata": {},
   "outputs": [],
   "source": [
    "def csv_save(row):\n",
    "    with open(\"data_address_gz_0.3.csv\", 'a') as f:\n",
    "        write = csv.writer(f)\n",
    "        write.writerow(row)\n",
    "\n",
    "def address_get():\n",
    "    f = open(r'address_gz.txt', 'r')\n",
    "    a = list(f)\n",
    "    b = []\n",
    "    for i in a:\n",
    "        a = i.replace(\"  \", \",\").replace(\"\\n\", \"\")\n",
    "        b.append(a)\n",
    "    return b"
   ]
  },
  {
   "cell_type": "markdown",
   "id": "cheap-march",
   "metadata": {},
   "source": [
    "分类爬取"
   ]
  },
  {
   "cell_type": "code",
   "execution_count": 9,
   "id": "hispanic-dating",
   "metadata": {},
   "outputs": [
    {
     "name": "stdout",
     "output_type": "stream",
     "text": [
      "【基础数据】\n",
      "请输入你的高德API密钥：\n",
      "ccc4642ebacd30e64fc4ef2ffa5e387c\n",
      "请输入你需要查询的范围（单位：m）：\n",
      "1100\n"
     ]
    }
   ],
   "source": [
    "#if __name__ == '__main__':\n",
    "print(\"【基础数据】\")\n",
    "key = str(input(\"请输入你的高德API密钥：\\n\"))\n",
    "'''key = '7f4837aea08366cc4fd9a83c6b340bf7'\n",
    "\n",
    "key = \"a1cf852d9781d1e427a06ab57400ce13\"\n",
    "\n",
    "key = \"153c2c2f24af71aeab07f04018732476\"\n",
    "ccc4642ebacd30e64fc4ef2ffa5e387c\n",
    "'''\n",
    "radius = int(input(\"请输入你需要查询的范围（单位：m）：\\n\"))\n",
    "datas = []\n",
    "\n",
    "address = address_get()\n",
    "title = [\"步行最短距离（m）\",\"步行最短时间（s）\",\"公共服务设施名称\",\"ID\",'距离分类','权重','纠正后权重']\n",
    "datas.append(title)"
   ]
  },
  {
   "cell_type": "code",
   "execution_count": 11,
   "id": "together-undergraduate",
   "metadata": {},
   "outputs": [
    {
     "name": "stderr",
     "output_type": "stream",
     "text": [
      "\r",
      "  0%|          | 0/171 [00:00<?, ?it/s]"
     ]
    },
    {
     "name": "stdout",
     "output_type": "stream",
     "text": [
      "\n",
      "【数据采集】\n",
      "数据采集进度：\n",
      "281\n",
      "440\n",
      "589\n",
      "577\n",
      "742\n",
      "776\n",
      "835\n",
      "835\n",
      "915\n",
      "783\n",
      "1007\n",
      "1001\n",
      "1057\n",
      "1079\n",
      "1033\n",
      "1103\n",
      "1185\n",
      "1078\n",
      "1298\n",
      "1338\n",
      "1275\n",
      "1290\n",
      "1418\n",
      "1424\n",
      "1443\n",
      "1243\n",
      "1387\n"
     ]
    },
    {
     "name": "stderr",
     "output_type": "stream",
     "text": [
      "\r",
      "  1%|          | 1/171 [00:16<46:02, 16.25s/it]"
     ]
    },
    {
     "name": "stdout",
     "output_type": "stream",
     "text": [
      "1367\n"
     ]
    },
    {
     "name": "stderr",
     "output_type": "stream",
     "text": [
      "\r",
      "  1%|          | 2/171 [00:26<35:11, 12.50s/it]"
     ]
    },
    {
     "name": "stdout",
     "output_type": "stream",
     "text": [
      "1191\n",
      "1108\n"
     ]
    },
    {
     "name": "stderr",
     "output_type": "stream",
     "text": [
      "\r",
      "  2%|▏         | 3/171 [00:36<32:48, 11.72s/it]"
     ]
    },
    {
     "name": "stdout",
     "output_type": "stream",
     "text": [
      "1145\n",
      "2050\n"
     ]
    },
    {
     "name": "stderr",
     "output_type": "stream",
     "text": [
      "\r",
      "  2%|▏         | 4/171 [00:50<35:10, 12.64s/it]"
     ]
    },
    {
     "name": "stdout",
     "output_type": "stream",
     "text": [
      "557\n",
      "1034\n"
     ]
    },
    {
     "name": "stderr",
     "output_type": "stream",
     "text": [
      "\r",
      "  3%|▎         | 5/171 [01:01<32:58, 11.92s/it]"
     ]
    },
    {
     "name": "stdout",
     "output_type": "stream",
     "text": [
      "1101\n",
      "1395\n",
      "686\n",
      "781\n",
      "1177\n",
      "1227\n",
      "1205\n"
     ]
    },
    {
     "name": "stderr",
     "output_type": "stream",
     "text": [
      "\r",
      "  4%|▎         | 6/171 [01:12<32:02, 11.65s/it]"
     ]
    },
    {
     "name": "stdout",
     "output_type": "stream",
     "text": [
      "1417\n",
      "432\n",
      "469\n"
     ]
    },
    {
     "name": "stderr",
     "output_type": "stream",
     "text": [
      "\r",
      "  4%|▍         | 7/171 [01:23<30:51, 11.29s/it]"
     ]
    },
    {
     "name": "stdout",
     "output_type": "stream",
     "text": [
      "747\n",
      "928\n",
      "371\n",
      "1107\n",
      "2817\n"
     ]
    },
    {
     "name": "stderr",
     "output_type": "stream",
     "text": [
      "\r",
      "  5%|▍         | 8/171 [01:34<30:13, 11.13s/it]"
     ]
    },
    {
     "name": "stdout",
     "output_type": "stream",
     "text": [
      "3079\n",
      "1078\n",
      "988\n"
     ]
    },
    {
     "name": "stderr",
     "output_type": "stream",
     "text": [
      "\r",
      "  5%|▌         | 9/171 [01:44<29:31, 10.93s/it]"
     ]
    },
    {
     "name": "stdout",
     "output_type": "stream",
     "text": [
      "1247\n"
     ]
    },
    {
     "name": "stderr",
     "output_type": "stream",
     "text": [
      "\r",
      "  6%|▌         | 10/171 [01:54<28:43, 10.70s/it]"
     ]
    },
    {
     "name": "stdout",
     "output_type": "stream",
     "text": [
      "375\n"
     ]
    },
    {
     "name": "stderr",
     "output_type": "stream",
     "text": [
      "\r",
      "  6%|▋         | 11/171 [02:05<28:15, 10.60s/it]"
     ]
    },
    {
     "name": "stdout",
     "output_type": "stream",
     "text": [
      "42\n",
      "527\n"
     ]
    },
    {
     "name": "stderr",
     "output_type": "stream",
     "text": [
      "\r",
      "  7%|▋         | 12/171 [02:15<27:40, 10.45s/it]"
     ]
    },
    {
     "name": "stdout",
     "output_type": "stream",
     "text": [
      "960\n",
      "1616\n",
      "533\n",
      "581\n",
      "641\n",
      "669\n",
      "949\n",
      "631\n",
      "699\n",
      "850\n",
      "760\n",
      "787\n",
      "1352\n",
      "4769\n",
      "1408\n",
      "1219\n",
      "1462\n",
      "1598\n"
     ]
    },
    {
     "name": "stderr",
     "output_type": "stream",
     "text": [
      "\r",
      "  8%|▊         | 13/171 [02:28<30:03, 11.41s/it]"
     ]
    },
    {
     "name": "stdout",
     "output_type": "stream",
     "text": [
      "1249\n",
      "819\n",
      "1023\n",
      "1251\n",
      "1490\n"
     ]
    },
    {
     "name": "stderr",
     "output_type": "stream",
     "text": [
      "\r",
      "  8%|▊         | 14/171 [02:39<29:36, 11.32s/it]"
     ]
    },
    {
     "name": "stdout",
     "output_type": "stream",
     "text": [
      "1541\n",
      "1457\n"
     ]
    },
    {
     "name": "stderr",
     "output_type": "stream",
     "text": [
      "\r",
      "  9%|▉         | 15/171 [02:49<28:23, 10.92s/it]"
     ]
    },
    {
     "name": "stdout",
     "output_type": "stream",
     "text": [
      "1241\n"
     ]
    },
    {
     "name": "stderr",
     "output_type": "stream",
     "text": [
      "\r",
      "  9%|▉         | 16/171 [02:59<27:25, 10.61s/it]"
     ]
    },
    {
     "name": "stdout",
     "output_type": "stream",
     "text": [
      "1321\n",
      "211\n",
      "239\n",
      "516\n",
      "632\n",
      "775\n",
      "743\n",
      "934\n",
      "1082\n"
     ]
    },
    {
     "name": "stderr",
     "output_type": "stream",
     "text": [
      "\r",
      " 10%|▉         | 17/171 [03:11<28:13, 11.00s/it]"
     ]
    },
    {
     "name": "stdout",
     "output_type": "stream",
     "text": [
      "1068\n",
      "737\n"
     ]
    },
    {
     "name": "stderr",
     "output_type": "stream",
     "text": [
      "\r",
      " 11%|█         | 18/171 [03:21<27:24, 10.75s/it]"
     ]
    },
    {
     "name": "stdout",
     "output_type": "stream",
     "text": [
      "9284\n"
     ]
    },
    {
     "name": "stderr",
     "output_type": "stream",
     "text": [
      "\r",
      " 11%|█         | 19/171 [03:31<26:34, 10.49s/it]"
     ]
    },
    {
     "name": "stdout",
     "output_type": "stream",
     "text": [
      "420\n",
      "425\n",
      "580\n",
      "867\n",
      "867\n",
      "867\n",
      "2686\n",
      "1033\n",
      "1103\n",
      "1335\n",
      "1432\n",
      "3098\n"
     ]
    },
    {
     "name": "stderr",
     "output_type": "stream",
     "text": [
      "\r",
      " 12%|█▏        | 20/171 [03:44<28:13, 11.21s/it]"
     ]
    },
    {
     "name": "stdout",
     "output_type": "stream",
     "text": [
      "6196\n",
      "346\n",
      "393\n"
     ]
    },
    {
     "name": "stderr",
     "output_type": "stream",
     "text": [
      "\r",
      " 12%|█▏        | 21/171 [03:54<27:20, 10.93s/it]"
     ]
    },
    {
     "name": "stdout",
     "output_type": "stream",
     "text": [
      "1743\n"
     ]
    },
    {
     "name": "stderr",
     "output_type": "stream",
     "text": [
      "\r",
      " 13%|█▎        | 22/171 [04:04<26:12, 10.55s/it]"
     ]
    },
    {
     "name": "stdout",
     "output_type": "stream",
     "text": [
      "534\n",
      "881\n",
      "872\n"
     ]
    },
    {
     "name": "stderr",
     "output_type": "stream",
     "text": [
      "\r",
      " 13%|█▎        | 23/171 [04:16<27:13, 11.03s/it]"
     ]
    },
    {
     "name": "stdout",
     "output_type": "stream",
     "text": [
      "1384\n"
     ]
    },
    {
     "name": "stderr",
     "output_type": "stream",
     "text": [
      "\r",
      " 14%|█▍        | 24/171 [04:26<26:25, 10.78s/it]"
     ]
    },
    {
     "name": "stdout",
     "output_type": "stream",
     "text": [
      "440\n",
      "277\n",
      "515\n",
      "529\n",
      "625\n",
      "659\n",
      "941\n",
      "764\n",
      "642\n",
      "763\n",
      "898\n",
      "777\n",
      "1001\n",
      "1077\n",
      "1001\n",
      "781\n",
      "802\n",
      "832\n",
      "1024\n",
      "973\n",
      "832\n",
      "894\n",
      "1065\n",
      "1030\n",
      "1122\n"
     ]
    },
    {
     "name": "stderr",
     "output_type": "stream",
     "text": [
      "\r",
      " 15%|█▍        | 25/171 [04:37<26:20, 10.82s/it]"
     ]
    },
    {
     "name": "stdout",
     "output_type": "stream",
     "text": [
      "1370\n",
      "198\n",
      "334\n",
      "464\n",
      "460\n",
      "647\n",
      "596\n",
      "776\n",
      "917\n",
      "826\n",
      "825\n",
      "760\n",
      "887\n",
      "1093\n",
      "921\n",
      "900\n",
      "1125\n",
      "976\n",
      "1039\n"
     ]
    },
    {
     "name": "stderr",
     "output_type": "stream",
     "text": [
      "\r",
      " 15%|█▌        | 26/171 [04:44<23:04,  9.55s/it]"
     ]
    },
    {
     "name": "stdout",
     "output_type": "stream",
     "text": [
      "1195\n",
      "1296\n",
      "1460\n",
      "489\n",
      "393\n",
      "567\n",
      "418\n",
      "736\n",
      "843\n",
      "773\n",
      "963\n",
      "1286\n"
     ]
    },
    {
     "name": "stderr",
     "output_type": "stream",
     "text": [
      "\r",
      " 16%|█▌        | 27/171 [04:49<20:00,  8.34s/it]"
     ]
    },
    {
     "name": "stdout",
     "output_type": "stream",
     "text": [
      "1167\n",
      "1130\n",
      "512\n",
      "686\n",
      "795\n",
      "981\n",
      "934\n",
      "1060\n",
      "1247\n",
      "1192\n",
      "1232\n",
      "1111\n",
      "1077\n",
      "1109\n",
      "1649\n",
      "1371\n",
      "1236\n",
      "1817\n",
      "692\n"
     ]
    },
    {
     "name": "stderr",
     "output_type": "stream",
     "text": [
      "\r",
      " 16%|█▋        | 28/171 [04:56<18:26,  7.74s/it]"
     ]
    },
    {
     "name": "stdout",
     "output_type": "stream",
     "text": [
      "1425\n",
      "1241\n",
      "732\n",
      "834\n"
     ]
    },
    {
     "name": "stderr",
     "output_type": "stream",
     "text": [
      "\r",
      " 17%|█▋        | 29/171 [05:01<16:24,  6.94s/it]"
     ]
    },
    {
     "name": "stdout",
     "output_type": "stream",
     "text": [
      "961\n"
     ]
    },
    {
     "name": "stderr",
     "output_type": "stream",
     "text": [
      " 19%|█▊        | 32/171 [05:15<12:32,  5.41s/it]"
     ]
    },
    {
     "name": "stdout",
     "output_type": "stream",
     "text": [
      "937\n",
      "368\n"
     ]
    },
    {
     "name": "stderr",
     "output_type": "stream",
     "text": [
      "\r",
      " 19%|█▉        | 33/171 [05:19<11:55,  5.18s/it]"
     ]
    },
    {
     "name": "stdout",
     "output_type": "stream",
     "text": [
      "712\n",
      "1399\n",
      "95\n",
      "230\n",
      "130\n",
      "248\n",
      "280\n",
      "311\n",
      "302\n",
      "350\n",
      "388\n",
      "482\n",
      "643\n",
      "646\n",
      "747\n",
      "646\n",
      "644\n",
      "814\n",
      "889\n",
      "866\n",
      "885\n",
      "872\n",
      "934\n",
      "1079\n",
      "911\n",
      "870\n",
      "1159\n",
      "1011\n",
      "1141\n",
      "965\n",
      "1195\n",
      "1094\n",
      "1314\n",
      "1039\n",
      "1306\n",
      "1442\n",
      "1169\n",
      "1158\n"
     ]
    },
    {
     "name": "stderr",
     "output_type": "stream",
     "text": [
      "\r",
      " 20%|█▉        | 34/171 [05:29<14:35,  6.39s/it]"
     ]
    },
    {
     "name": "stdout",
     "output_type": "stream",
     "text": [
      "1427\n",
      "1197\n",
      "1403\n"
     ]
    },
    {
     "name": "stderr",
     "output_type": "stream",
     "text": [
      "\r",
      " 20%|██        | 35/171 [05:33<13:19,  5.88s/it]"
     ]
    },
    {
     "name": "stdout",
     "output_type": "stream",
     "text": [
      "1165\n",
      "1269\n"
     ]
    },
    {
     "name": "stderr",
     "output_type": "stream",
     "text": [
      " 22%|██▏       | 37/171 [05:42<11:37,  5.21s/it]"
     ]
    },
    {
     "name": "stdout",
     "output_type": "stream",
     "text": [
      "240\n",
      "511\n",
      "844\n"
     ]
    },
    {
     "name": "stderr",
     "output_type": "stream",
     "text": [
      "\r",
      " 22%|██▏       | 38/171 [05:47<11:02,  4.98s/it]"
     ]
    },
    {
     "name": "stdout",
     "output_type": "stream",
     "text": [
      "1048\n"
     ]
    },
    {
     "name": "stderr",
     "output_type": "stream",
     "text": [
      "\r",
      " 23%|██▎       | 39/171 [05:52<10:47,  4.91s/it]"
     ]
    },
    {
     "name": "stdout",
     "output_type": "stream",
     "text": [
      "407\n",
      "1544\n",
      "214\n",
      "164\n",
      "288\n",
      "311\n",
      "299\n",
      "668\n",
      "629\n",
      "721\n",
      "910\n",
      "1231\n",
      "1002\n",
      "1314\n",
      "1495\n"
     ]
    },
    {
     "name": "stderr",
     "output_type": "stream",
     "text": [
      "\r",
      " 23%|██▎       | 40/171 [05:58<11:28,  5.25s/it]"
     ]
    },
    {
     "name": "stdout",
     "output_type": "stream",
     "text": [
      "1549\n",
      "1401\n",
      "1203\n",
      "298\n",
      "573\n",
      "599\n",
      "643\n",
      "695\n",
      "735\n",
      "720\n",
      "752\n",
      "759\n",
      "888\n",
      "879\n",
      "925\n",
      "1246\n",
      "1239\n",
      "1880\n",
      "1098\n",
      "1454\n",
      "195\n"
     ]
    },
    {
     "name": "stderr",
     "output_type": "stream",
     "text": [
      "\r",
      " 24%|██▍       | 41/171 [06:04<12:04,  5.57s/it]"
     ]
    },
    {
     "name": "stdout",
     "output_type": "stream",
     "text": [
      "1496\n"
     ]
    },
    {
     "name": "stderr",
     "output_type": "stream",
     "text": [
      "\r",
      " 25%|██▍       | 42/171 [06:08<11:13,  5.22s/it]"
     ]
    },
    {
     "name": "stdout",
     "output_type": "stream",
     "text": [
      "334\n"
     ]
    },
    {
     "name": "stderr",
     "output_type": "stream",
     "text": [
      "\r",
      " 25%|██▌       | 43/171 [06:13<10:46,  5.05s/it]"
     ]
    },
    {
     "name": "stdout",
     "output_type": "stream",
     "text": [
      "1305\n",
      "1305\n"
     ]
    },
    {
     "name": "stderr",
     "output_type": "stream",
     "text": [
      "\r",
      " 26%|██▌       | 44/171 [06:17<10:09,  4.80s/it]"
     ]
    },
    {
     "name": "stdout",
     "output_type": "stream",
     "text": [
      "686\n"
     ]
    },
    {
     "name": "stderr",
     "output_type": "stream",
     "text": [
      "\r",
      " 26%|██▋       | 45/171 [06:22<09:53,  4.71s/it]"
     ]
    },
    {
     "name": "stdout",
     "output_type": "stream",
     "text": [
      "1016\n"
     ]
    },
    {
     "name": "stderr",
     "output_type": "stream",
     "text": [
      "\r",
      " 27%|██▋       | 46/171 [06:26<09:45,  4.68s/it]"
     ]
    },
    {
     "name": "stdout",
     "output_type": "stream",
     "text": [
      "822\n",
      "1305\n",
      "259\n",
      "922\n",
      "939\n",
      "1274\n",
      "873\n",
      "1052\n",
      "1419\n",
      "1528\n",
      "1088\n",
      "1263\n",
      "1648\n",
      "1709\n",
      "1483\n",
      "1742\n",
      "1466\n"
     ]
    },
    {
     "name": "stderr",
     "output_type": "stream",
     "text": [
      "\r",
      " 27%|██▋       | 47/171 [06:33<10:42,  5.18s/it]"
     ]
    },
    {
     "name": "stdout",
     "output_type": "stream",
     "text": [
      "1416\n",
      "394\n",
      "462\n",
      "676\n"
     ]
    },
    {
     "name": "stderr",
     "output_type": "stream",
     "text": [
      "\r",
      " 28%|██▊       | 48/171 [06:44<14:19,  6.99s/it]"
     ]
    },
    {
     "name": "stdout",
     "output_type": "stream",
     "text": [
      "1517\n",
      "1517\n",
      "334\n",
      "751\n",
      "818\n",
      "1179\n",
      "1321\n",
      "1135\n",
      "1350\n",
      "1251\n",
      "1107\n",
      "1493\n",
      "1233\n",
      "1340\n",
      "1760\n",
      "1536\n",
      "1379\n",
      "1412\n"
     ]
    },
    {
     "name": "stderr",
     "output_type": "stream",
     "text": [
      "\r",
      " 29%|██▊       | 49/171 [06:58<18:44,  9.22s/it]"
     ]
    },
    {
     "name": "stdout",
     "output_type": "stream",
     "text": [
      "1453\n",
      "514\n",
      "565\n",
      "1138\n",
      "771\n",
      "1193\n",
      "867\n",
      "840\n",
      "3475\n"
     ]
    },
    {
     "name": "stderr",
     "output_type": "stream",
     "text": [
      "\r",
      " 29%|██▉       | 50/171 [07:10<20:09, 10.00s/it]"
     ]
    },
    {
     "name": "stdout",
     "output_type": "stream",
     "text": [
      "3163\n",
      "335\n",
      "395\n"
     ]
    },
    {
     "name": "stderr",
     "output_type": "stream",
     "text": [
      "\r",
      " 30%|██▉       | 51/171 [07:21<20:44, 10.37s/it]"
     ]
    },
    {
     "name": "stdout",
     "output_type": "stream",
     "text": [
      "689\n",
      "156\n",
      "140\n",
      "653\n",
      "725\n",
      "1411\n",
      "1483\n"
     ]
    },
    {
     "name": "stderr",
     "output_type": "stream",
     "text": [
      "\r",
      " 30%|███       | 52/171 [07:35<22:33, 11.37s/it]"
     ]
    },
    {
     "name": "stdout",
     "output_type": "stream",
     "text": [
      "1470\n",
      "1512\n",
      "114\n",
      "403\n",
      "437\n",
      "484\n",
      "669\n",
      "658\n",
      "792\n",
      "921\n",
      "905\n",
      "971\n",
      "984\n",
      "1032\n",
      "1042\n",
      "1015\n",
      "1109\n",
      "1035\n",
      "1047\n",
      "1378\n"
     ]
    },
    {
     "name": "stderr",
     "output_type": "stream",
     "text": [
      "\r",
      " 31%|███       | 53/171 [07:49<24:03, 12.23s/it]"
     ]
    },
    {
     "name": "stdout",
     "output_type": "stream",
     "text": [
      "1307\n",
      "1813\n",
      "838\n",
      "717\n",
      "1035\n",
      "807\n",
      "891\n",
      "1115\n",
      "1068\n",
      "1067\n",
      "1456\n",
      "1216\n",
      "1399\n",
      "1187\n",
      "1374\n",
      "1306\n",
      "1343\n",
      "1528\n",
      "1398\n",
      "1348\n",
      "1402\n",
      "1434\n",
      "1565\n",
      "1452\n"
     ]
    },
    {
     "name": "stderr",
     "output_type": "stream",
     "text": [
      "\r",
      " 32%|███▏      | 54/171 [08:04<25:35, 13.13s/it]"
     ]
    },
    {
     "name": "stdout",
     "output_type": "stream",
     "text": [
      "1512\n",
      "553\n",
      "446\n",
      "748\n",
      "711\n"
     ]
    },
    {
     "name": "stderr",
     "output_type": "stream",
     "text": [
      "\r",
      " 32%|███▏      | 55/171 [08:16<24:43, 12.79s/it]"
     ]
    },
    {
     "name": "stdout",
     "output_type": "stream",
     "text": [
      "829\n",
      "1056\n",
      "282\n",
      "364\n",
      "403\n",
      "554\n",
      "515\n",
      "772\n",
      "918\n",
      "1471\n",
      "1037\n",
      "937\n",
      "1341\n",
      "1384\n",
      "1073\n",
      "1227\n",
      "1840\n",
      "1222\n"
     ]
    },
    {
     "name": "stderr",
     "output_type": "stream",
     "text": [
      "\r",
      " 33%|███▎      | 56/171 [08:31<25:19, 13.21s/it]"
     ]
    },
    {
     "name": "stdout",
     "output_type": "stream",
     "text": [
      "1434\n",
      "362\n",
      "358\n",
      "683\n",
      "694\n",
      "1058\n",
      "1587\n",
      "1221\n",
      "1076\n",
      "1083\n"
     ]
    },
    {
     "name": "stderr",
     "output_type": "stream",
     "text": [
      "\r",
      " 33%|███▎      | 57/171 [08:38<21:41, 11.42s/it]"
     ]
    },
    {
     "name": "stdout",
     "output_type": "stream",
     "text": [
      "1220\n",
      "646\n",
      "964\n",
      "1131\n",
      "1350\n",
      "1387\n",
      "1454\n"
     ]
    },
    {
     "name": "stderr",
     "output_type": "stream",
     "text": [
      "\r",
      " 34%|███▍      | 58/171 [08:43<18:01,  9.57s/it]"
     ]
    },
    {
     "name": "stdout",
     "output_type": "stream",
     "text": [
      "1355\n",
      "368\n",
      "416\n",
      "1046\n",
      "1351\n",
      "813\n",
      "2742\n",
      "1253\n",
      "1048\n",
      "979\n",
      "1465\n"
     ]
    },
    {
     "name": "stderr",
     "output_type": "stream",
     "text": [
      "\r",
      " 35%|███▍      | 59/171 [08:50<16:23,  8.78s/it]"
     ]
    },
    {
     "name": "stdout",
     "output_type": "stream",
     "text": [
      "1113\n"
     ]
    },
    {
     "name": "stderr",
     "output_type": "stream",
     "text": [
      " 36%|███▌      | 61/171 [09:00<12:19,  6.72s/it]"
     ]
    },
    {
     "name": "stdout",
     "output_type": "stream",
     "text": [
      "121\n",
      "227\n",
      "706\n"
     ]
    },
    {
     "name": "stderr",
     "output_type": "stream",
     "text": [
      "\r",
      " 36%|███▋      | 62/171 [09:05<11:14,  6.19s/it]"
     ]
    },
    {
     "name": "stdout",
     "output_type": "stream",
     "text": [
      "1055\n",
      "975\n",
      "48\n",
      "548\n",
      "840\n",
      "1093\n",
      "1145\n",
      "1007\n"
     ]
    },
    {
     "name": "stderr",
     "output_type": "stream",
     "text": [
      "\r",
      " 37%|███▋      | 63/171 [09:12<11:55,  6.62s/it]"
     ]
    },
    {
     "name": "stdout",
     "output_type": "stream",
     "text": [
      "1222\n"
     ]
    },
    {
     "name": "stderr",
     "output_type": "stream",
     "text": [
      "\r",
      " 37%|███▋      | 64/171 [09:17<10:31,  5.90s/it]"
     ]
    },
    {
     "name": "stdout",
     "output_type": "stream",
     "text": [
      "554\n",
      "605\n",
      "1009\n"
     ]
    },
    {
     "name": "stderr",
     "output_type": "stream",
     "text": [
      "\r",
      " 38%|███▊      | 65/171 [09:21<09:56,  5.62s/it]"
     ]
    },
    {
     "name": "stdout",
     "output_type": "stream",
     "text": [
      "1354\n",
      "1119\n",
      "1170\n"
     ]
    },
    {
     "name": "stderr",
     "output_type": "stream",
     "text": [
      "\r",
      " 39%|███▊      | 66/171 [09:26<09:05,  5.20s/it]"
     ]
    },
    {
     "name": "stdout",
     "output_type": "stream",
     "text": [
      "56\n",
      "136\n",
      "823\n"
     ]
    },
    {
     "name": "stderr",
     "output_type": "stream",
     "text": [
      "\r",
      " 39%|███▉      | 67/171 [09:31<08:48,  5.08s/it]"
     ]
    },
    {
     "name": "stdout",
     "output_type": "stream",
     "text": [
      "1238\n",
      "1387\n"
     ]
    },
    {
     "name": "stderr",
     "output_type": "stream",
     "text": [
      "\r",
      " 40%|███▉      | 68/171 [09:35<08:33,  4.99s/it]"
     ]
    },
    {
     "name": "stdout",
     "output_type": "stream",
     "text": [
      "342\n",
      "577\n",
      "625\n",
      "1230\n",
      "1514\n",
      "1471\n",
      "1335\n",
      "1403\n",
      "1426\n",
      "1302\n"
     ]
    },
    {
     "name": "stderr",
     "output_type": "stream",
     "text": [
      "\r",
      " 40%|████      | 69/171 [09:43<10:03,  5.92s/it]"
     ]
    },
    {
     "name": "stdout",
     "output_type": "stream",
     "text": [
      "1273\n",
      "1458\n",
      "302\n",
      "645\n",
      "1003\n",
      "929\n",
      "796\n",
      "851\n",
      "992\n",
      "1029\n",
      "1026\n"
     ]
    },
    {
     "name": "stderr",
     "output_type": "stream",
     "text": [
      "\r",
      " 41%|████      | 70/171 [09:49<10:01,  5.95s/it]"
     ]
    },
    {
     "name": "stdout",
     "output_type": "stream",
     "text": [
      "983\n",
      "1094\n",
      "365\n",
      "365\n",
      "422\n",
      "440\n",
      "581\n",
      "590\n",
      "998\n",
      "1107\n",
      "1211\n"
     ]
    },
    {
     "name": "stderr",
     "output_type": "stream",
     "text": [
      "\r",
      " 42%|████▏     | 71/171 [09:58<11:07,  6.67s/it]"
     ]
    },
    {
     "name": "stdout",
     "output_type": "stream",
     "text": [
      "1493\n",
      "1466\n",
      "1228\n"
     ]
    },
    {
     "name": "stderr",
     "output_type": "stream",
     "text": [
      "\r",
      " 42%|████▏     | 72/171 [10:04<10:34,  6.41s/it]"
     ]
    },
    {
     "name": "stdout",
     "output_type": "stream",
     "text": [
      "1033\n",
      "461\n",
      "1417\n"
     ]
    },
    {
     "name": "stderr",
     "output_type": "stream",
     "text": [
      "\r",
      " 43%|████▎     | 73/171 [10:09<09:45,  5.98s/it]"
     ]
    },
    {
     "name": "stdout",
     "output_type": "stream",
     "text": [
      "275\n",
      "398\n",
      "472\n",
      "1186\n",
      "1249\n",
      "1270\n",
      "1119\n",
      "1213\n",
      "1079\n",
      "1296\n",
      "1249\n",
      "1595\n"
     ]
    },
    {
     "name": "stderr",
     "output_type": "stream",
     "text": [
      "\r",
      " 43%|████▎     | 74/171 [10:15<09:52,  6.11s/it]"
     ]
    },
    {
     "name": "stdout",
     "output_type": "stream",
     "text": [
      "1344\n",
      "1778\n",
      "207\n",
      "469\n",
      "457\n",
      "381\n",
      "697\n",
      "909\n",
      "967\n",
      "815\n",
      "904\n",
      "1055\n",
      "995\n",
      "1157\n",
      "956\n",
      "1272\n",
      "1089\n"
     ]
    },
    {
     "name": "stderr",
     "output_type": "stream",
     "text": [
      "\r",
      " 44%|████▍     | 75/171 [10:21<09:53,  6.19s/it]"
     ]
    },
    {
     "name": "stdout",
     "output_type": "stream",
     "text": [
      "1278\n",
      "1358\n",
      "567\n",
      "944\n",
      "492\n",
      "563\n",
      "791\n",
      "600\n",
      "710\n",
      "824\n",
      "1223\n"
     ]
    },
    {
     "name": "stderr",
     "output_type": "stream",
     "text": [
      "\r",
      " 44%|████▍     | 76/171 [10:27<09:29,  6.00s/it]"
     ]
    },
    {
     "name": "stdout",
     "output_type": "stream",
     "text": [
      "1291\n",
      "1403\n",
      "1455\n",
      "394\n",
      "611\n",
      "694\n",
      "707\n",
      "796\n",
      "919\n",
      "933\n",
      "902\n",
      "853\n",
      "1126\n",
      "916\n",
      "1131\n",
      "1004\n",
      "1000\n",
      "1225\n",
      "1046\n",
      "1046\n",
      "1182\n",
      "1275\n",
      "1151\n",
      "1151\n",
      "1095\n",
      "1157\n",
      "1195\n",
      "1357\n",
      "1233\n",
      "1231\n",
      "1294\n",
      "1247\n",
      "1408\n",
      "1147\n",
      "1279\n",
      "1413\n",
      "1209\n",
      "1209\n",
      "1264\n",
      "1372\n",
      "1488\n"
     ]
    },
    {
     "name": "stderr",
     "output_type": "stream",
     "text": [
      "\r",
      " 45%|████▌     | 77/171 [10:40<12:39,  8.08s/it]"
     ]
    },
    {
     "name": "stdout",
     "output_type": "stream",
     "text": [
      "1384\n",
      "1316\n"
     ]
    },
    {
     "name": "stderr",
     "output_type": "stream",
     "text": [
      "\r",
      " 46%|████▌     | 78/171 [10:50<13:40,  8.82s/it]"
     ]
    },
    {
     "name": "stdout",
     "output_type": "stream",
     "text": [
      "956\n",
      "1226\n",
      "153\n",
      "230\n",
      "304\n",
      "325\n",
      "545\n",
      "651\n",
      "674\n",
      "708\n",
      "731\n",
      "936\n",
      "1040\n",
      "998\n",
      "1000\n",
      "1114\n",
      "1045\n",
      "1011\n",
      "1359\n",
      "1283\n",
      "1252\n",
      "1123\n",
      "1376\n"
     ]
    },
    {
     "name": "stderr",
     "output_type": "stream",
     "text": [
      "\r",
      " 46%|████▌     | 79/171 [11:06<16:44, 10.92s/it]"
     ]
    },
    {
     "name": "stdout",
     "output_type": "stream",
     "text": [
      "1166\n",
      "1166\n",
      "312\n",
      "250\n",
      "454\n",
      "460\n",
      "564\n",
      "727\n",
      "688\n",
      "787\n",
      "729\n",
      "774\n",
      "868\n",
      "786\n",
      "1088\n",
      "879\n",
      "1028\n",
      "895\n",
      "1004\n",
      "1134\n",
      "1116\n",
      "1227\n",
      "1269\n",
      "1416\n",
      "1338\n",
      "1427\n",
      "1344\n",
      "1444\n",
      "1343\n"
     ]
    },
    {
     "name": "stderr",
     "output_type": "stream",
     "text": [
      "\r",
      " 47%|████▋     | 80/171 [11:23<19:06, 12.60s/it]"
     ]
    },
    {
     "name": "stdout",
     "output_type": "stream",
     "text": [
      "1551\n",
      "1419\n",
      "500\n",
      "820\n"
     ]
    },
    {
     "name": "stderr",
     "output_type": "stream",
     "text": [
      "\r",
      " 47%|████▋     | 81/171 [11:34<18:09, 12.10s/it]"
     ]
    },
    {
     "name": "stdout",
     "output_type": "stream",
     "text": [
      "1180\n",
      "1132\n",
      "77\n",
      "77\n",
      "130\n",
      "147\n",
      "325\n",
      "370\n",
      "514\n",
      "321\n",
      "321\n",
      "554\n",
      "517\n",
      "332\n",
      "332\n",
      "560\n",
      "481\n",
      "481\n",
      "550\n",
      "531\n",
      "580\n",
      "549\n",
      "618\n",
      "656\n",
      "654\n",
      "670\n",
      "698\n",
      "965\n",
      "831\n",
      "1203\n",
      "1088\n",
      "1252\n",
      "1158\n",
      "1225\n"
     ]
    },
    {
     "name": "stderr",
     "output_type": "stream",
     "text": [
      "\r",
      " 48%|████▊     | 82/171 [11:51<20:16, 13.66s/it]"
     ]
    },
    {
     "name": "stdout",
     "output_type": "stream",
     "text": [
      "1471\n",
      "1391\n",
      "240\n",
      "1235\n",
      "1193\n",
      "982\n",
      "1004\n",
      "1434\n",
      "1225\n",
      "1571\n",
      "1708\n",
      "1695\n",
      "1448\n",
      "1592\n"
     ]
    },
    {
     "name": "stderr",
     "output_type": "stream",
     "text": [
      "\r",
      " 49%|████▊     | 83/171 [12:05<20:01, 13.66s/it]"
     ]
    },
    {
     "name": "stdout",
     "output_type": "stream",
     "text": [
      "1834\n"
     ]
    },
    {
     "name": "stderr",
     "output_type": "stream",
     "text": [
      "\r",
      " 49%|████▉     | 84/171 [12:14<18:09, 12.52s/it]"
     ]
    },
    {
     "name": "stdout",
     "output_type": "stream",
     "text": [
      "67\n",
      "190\n",
      "305\n",
      "305\n",
      "538\n",
      "504\n",
      "617\n",
      "991\n",
      "842\n"
     ]
    },
    {
     "name": "stderr",
     "output_type": "stream",
     "text": [
      "\r",
      " 50%|████▉     | 85/171 [12:21<15:34, 10.87s/it]"
     ]
    },
    {
     "name": "stdout",
     "output_type": "stream",
     "text": [
      "1025\n",
      "962\n",
      "1230\n",
      "272\n",
      "617\n",
      "614\n",
      "1222\n",
      "1274\n",
      "1317\n",
      "1449\n",
      "1684\n",
      "3481\n"
     ]
    },
    {
     "name": "stderr",
     "output_type": "stream",
     "text": [
      "\r",
      " 50%|█████     | 86/171 [12:27<13:05,  9.24s/it]"
     ]
    },
    {
     "name": "stdout",
     "output_type": "stream",
     "text": [
      "1757\n",
      "1684\n",
      "326\n",
      "814\n",
      "1077\n",
      "958\n",
      "1327\n",
      "1339\n",
      "1400\n",
      "1598\n",
      "1292\n",
      "1309\n",
      "1363\n",
      "1914\n"
     ]
    },
    {
     "name": "stderr",
     "output_type": "stream",
     "text": [
      "\r",
      " 51%|█████     | 87/171 [12:33<11:24,  8.15s/it]"
     ]
    },
    {
     "name": "stdout",
     "output_type": "stream",
     "text": [
      "1693\n"
     ]
    },
    {
     "name": "stderr",
     "output_type": "stream",
     "text": [
      "\r",
      " 51%|█████▏    | 88/171 [12:37<09:41,  7.01s/it]"
     ]
    },
    {
     "name": "stdout",
     "output_type": "stream",
     "text": [
      "999\n"
     ]
    },
    {
     "name": "stderr",
     "output_type": "stream",
     "text": [
      "\r",
      " 52%|█████▏    | 89/171 [12:42<08:39,  6.33s/it]"
     ]
    },
    {
     "name": "stdout",
     "output_type": "stream",
     "text": [
      "626\n",
      "1284\n",
      "1102\n",
      "1472\n",
      "1047\n"
     ]
    },
    {
     "name": "stderr",
     "output_type": "stream",
     "text": [
      "\r",
      " 53%|█████▎    | 90/171 [12:47<08:02,  5.96s/it]"
     ]
    },
    {
     "name": "stdout",
     "output_type": "stream",
     "text": [
      "1121\n"
     ]
    },
    {
     "name": "stderr",
     "output_type": "stream",
     "text": [
      "\r",
      " 53%|█████▎    | 91/171 [12:51<07:28,  5.61s/it]"
     ]
    },
    {
     "name": "stdout",
     "output_type": "stream",
     "text": [
      "909\n",
      "1057\n",
      "764\n",
      "659\n",
      "844\n",
      "794\n",
      "974\n",
      "982\n",
      "995\n",
      "2185\n",
      "1195\n",
      "1005\n",
      "1139\n",
      "1290\n"
     ]
    },
    {
     "name": "stderr",
     "output_type": "stream",
     "text": [
      "\r",
      " 54%|█████▍    | 92/171 [12:57<07:30,  5.70s/it]"
     ]
    },
    {
     "name": "stdout",
     "output_type": "stream",
     "text": [
      "1304\n",
      "248\n",
      "326\n",
      "321\n",
      "400\n",
      "482\n",
      "512\n",
      "774\n",
      "780\n",
      "774\n",
      "684\n",
      "722\n",
      "646\n",
      "777\n",
      "819\n",
      "968\n",
      "1006\n",
      "1131\n",
      "1239\n",
      "1002\n",
      "1433\n",
      "1303\n",
      "1407\n",
      "1192\n"
     ]
    },
    {
     "name": "stderr",
     "output_type": "stream",
     "text": [
      "\r",
      " 54%|█████▍    | 93/171 [13:05<08:01,  6.18s/it]"
     ]
    },
    {
     "name": "stdout",
     "output_type": "stream",
     "text": [
      "1649\n",
      "1649\n",
      "422\n",
      "663\n",
      "920\n"
     ]
    },
    {
     "name": "stderr",
     "output_type": "stream",
     "text": [
      "\r",
      " 55%|█████▍    | 94/171 [13:10<07:37,  5.94s/it]"
     ]
    },
    {
     "name": "stdout",
     "output_type": "stream",
     "text": [
      "988\n",
      "1167\n",
      "1184\n",
      "856\n",
      "1353\n",
      "973\n",
      "1007\n",
      "947\n",
      "878\n",
      "1154\n",
      "1208\n",
      "1036\n",
      "1044\n",
      "1066\n",
      "1304\n",
      "1104\n",
      "1244\n",
      "1244\n",
      "1269\n",
      "1395\n",
      "1315\n"
     ]
    },
    {
     "name": "stderr",
     "output_type": "stream",
     "text": [
      "\r",
      " 56%|█████▌    | 95/171 [13:17<07:43,  6.10s/it]"
     ]
    },
    {
     "name": "stdout",
     "output_type": "stream",
     "text": [
      "1366\n",
      "1505\n",
      "282\n",
      "466\n",
      "771\n",
      "1092\n",
      "1593\n",
      "1161\n"
     ]
    },
    {
     "name": "stderr",
     "output_type": "stream",
     "text": [
      "\r",
      " 56%|█████▌    | 96/171 [13:22<07:21,  5.88s/it]"
     ]
    },
    {
     "name": "stdout",
     "output_type": "stream",
     "text": [
      "1404\n",
      "1377\n",
      "803\n"
     ]
    },
    {
     "name": "stderr",
     "output_type": "stream",
     "text": [
      "\r",
      " 57%|█████▋    | 97/171 [13:27<06:56,  5.62s/it]"
     ]
    },
    {
     "name": "stdout",
     "output_type": "stream",
     "text": [
      "808\n",
      "1199\n"
     ]
    },
    {
     "name": "stderr",
     "output_type": "stream",
     "text": [
      "\r",
      " 57%|█████▋    | 98/171 [13:31<06:26,  5.30s/it]"
     ]
    },
    {
     "name": "stdout",
     "output_type": "stream",
     "text": [
      "569\n",
      "593\n",
      "985\n",
      "1037\n",
      "955\n",
      "1115\n",
      "1026\n",
      "1087\n",
      "1432\n",
      "1400\n",
      "1400\n",
      "1535\n"
     ]
    },
    {
     "name": "stderr",
     "output_type": "stream",
     "text": [
      "\r",
      " 58%|█████▊    | 99/171 [13:38<06:42,  5.58s/it]"
     ]
    },
    {
     "name": "stdout",
     "output_type": "stream",
     "text": [
      "1550\n",
      "1458\n",
      "331\n",
      "599\n",
      "939\n",
      "1116\n",
      "1177\n",
      "1835\n"
     ]
    },
    {
     "name": "stderr",
     "output_type": "stream",
     "text": [
      "\r",
      " 58%|█████▊    | 100/171 [13:43<06:24,  5.41s/it]"
     ]
    },
    {
     "name": "stdout",
     "output_type": "stream",
     "text": [
      "1230\n"
     ]
    },
    {
     "name": "stderr",
     "output_type": "stream",
     "text": [
      "\r",
      " 59%|█████▉    | 101/171 [13:48<06:07,  5.26s/it]"
     ]
    },
    {
     "name": "stdout",
     "output_type": "stream",
     "text": [
      "1323\n",
      "1481\n",
      "1677\n"
     ]
    },
    {
     "name": "stderr",
     "output_type": "stream",
     "text": [
      "\r",
      " 60%|█████▉    | 102/171 [13:52<05:47,  5.03s/it]"
     ]
    },
    {
     "name": "stdout",
     "output_type": "stream",
     "text": [
      "48\n",
      "524\n"
     ]
    },
    {
     "name": "stderr",
     "output_type": "stream",
     "text": [
      "\r",
      " 60%|██████    | 103/171 [13:57<05:33,  4.91s/it]"
     ]
    },
    {
     "name": "stdout",
     "output_type": "stream",
     "text": [
      "625\n",
      "1421\n",
      "743\n",
      "648\n",
      "879\n",
      "760\n",
      "887\n",
      "703\n",
      "817\n",
      "878\n",
      "835\n"
     ]
    },
    {
     "name": "stderr",
     "output_type": "stream",
     "text": [
      "\r",
      " 61%|██████    | 104/171 [14:02<05:45,  5.15s/it]"
     ]
    },
    {
     "name": "stdout",
     "output_type": "stream",
     "text": [
      "920\n",
      "947\n",
      "333\n",
      "569\n",
      "472\n",
      "606\n",
      "477\n",
      "490\n",
      "739\n",
      "464\n",
      "736\n",
      "752\n",
      "700\n",
      "1015\n",
      "632\n",
      "750\n",
      "649\n",
      "756\n",
      "786\n",
      "755\n",
      "1300\n",
      "1190\n",
      "991\n",
      "994\n",
      "1143\n",
      "1245\n",
      "1223\n"
     ]
    },
    {
     "name": "stderr",
     "output_type": "stream",
     "text": [
      "\r",
      " 61%|██████▏   | 105/171 [14:11<06:38,  6.04s/it]"
     ]
    },
    {
     "name": "stdout",
     "output_type": "stream",
     "text": [
      "1300\n",
      "1193\n",
      "1440\n",
      "170\n",
      "437\n",
      "359\n",
      "359\n",
      "379\n",
      "567\n",
      "515\n",
      "818\n",
      "728\n",
      "925\n",
      "1011\n",
      "1020\n",
      "1139\n",
      "1031\n",
      "1141\n",
      "975\n",
      "1293\n",
      "1133\n",
      "1245\n"
     ]
    },
    {
     "name": "stderr",
     "output_type": "stream",
     "text": [
      "\r",
      " 62%|██████▏   | 106/171 [14:19<07:10,  6.62s/it]"
     ]
    },
    {
     "name": "stdout",
     "output_type": "stream",
     "text": [
      "745\n",
      "233\n",
      "739\n",
      "365\n",
      "1135\n",
      "1164\n",
      "949\n",
      "1065\n",
      "921\n",
      "1336\n",
      "1189\n",
      "1131\n",
      "1193\n",
      "1191\n",
      "1298\n",
      "1371\n",
      "1330\n",
      "1343\n"
     ]
    },
    {
     "name": "stderr",
     "output_type": "stream",
     "text": [
      "\r",
      " 63%|██████▎   | 107/171 [14:33<09:36,  9.01s/it]"
     ]
    },
    {
     "name": "stdout",
     "output_type": "stream",
     "text": [
      "1373\n",
      "761\n",
      "664\n"
     ]
    },
    {
     "name": "stderr",
     "output_type": "stream",
     "text": [
      "\r",
      " 63%|██████▎   | 108/171 [14:44<10:11,  9.71s/it]"
     ]
    },
    {
     "name": "stdout",
     "output_type": "stream",
     "text": [
      "1217\n",
      "998\n"
     ]
    },
    {
     "name": "stderr",
     "output_type": "stream",
     "text": [
      "\r",
      " 64%|██████▎   | 109/171 [14:55<10:13,  9.90s/it]"
     ]
    },
    {
     "name": "stdout",
     "output_type": "stream",
     "text": [
      "425\n",
      "861\n",
      "236\n",
      "575\n",
      "705\n",
      "795\n",
      "865\n",
      "1467\n",
      "904\n",
      "1550\n",
      "1263\n",
      "957\n",
      "2071\n",
      "1146\n"
     ]
    },
    {
     "name": "stderr",
     "output_type": "stream",
     "text": [
      "\r",
      " 64%|██████▍   | 110/171 [15:07<10:53, 10.71s/it]"
     ]
    },
    {
     "name": "stdout",
     "output_type": "stream",
     "text": [
      "1464\n",
      "830\n",
      "500\n",
      "1009\n",
      "491\n",
      "970\n",
      "991\n"
     ]
    },
    {
     "name": "stderr",
     "output_type": "stream",
     "text": [
      "\r",
      " 65%|██████▍   | 111/171 [15:19<10:56, 10.95s/it]"
     ]
    },
    {
     "name": "stdout",
     "output_type": "stream",
     "text": [
      "1327\n",
      "1509\n",
      "819\n",
      "721\n",
      "990\n",
      "577\n",
      "638\n",
      "724\n",
      "724\n",
      "1185\n",
      "1560\n",
      "1378\n"
     ]
    },
    {
     "name": "stderr",
     "output_type": "stream",
     "text": [
      "\r",
      " 65%|██████▌   | 112/171 [15:31<11:07, 11.32s/it]"
     ]
    },
    {
     "name": "stdout",
     "output_type": "stream",
     "text": [
      "1611\n",
      "1400\n"
     ]
    },
    {
     "name": "stderr",
     "output_type": "stream",
     "text": [
      "\r",
      " 66%|██████▌   | 113/171 [15:41<10:35, 10.96s/it]"
     ]
    },
    {
     "name": "stdout",
     "output_type": "stream",
     "text": [
      "245\n",
      "339\n",
      "696\n",
      "769\n",
      "1006\n",
      "1130\n",
      "1367\n",
      "2561\n"
     ]
    },
    {
     "name": "stderr",
     "output_type": "stream",
     "text": [
      "\r",
      " 67%|██████▋   | 114/171 [15:54<10:59, 11.57s/it]"
     ]
    },
    {
     "name": "stdout",
     "output_type": "stream",
     "text": [
      "1370\n",
      "1384\n",
      "1191\n",
      "1108\n"
     ]
    },
    {
     "name": "stderr",
     "output_type": "stream",
     "text": [
      "\r",
      " 67%|██████▋   | 115/171 [16:05<10:40, 11.43s/it]"
     ]
    },
    {
     "name": "stdout",
     "output_type": "stream",
     "text": [
      "1145\n",
      "2050\n",
      "634\n",
      "482\n",
      "601\n",
      "774\n",
      "747\n",
      "950\n",
      "784\n",
      "1348\n",
      "1046\n",
      "1253\n",
      "1311\n",
      "1369\n",
      "1421\n",
      "1421\n",
      "1016\n",
      "1073\n",
      "1076\n",
      "1193\n",
      "1284\n",
      "1587\n",
      "1467\n",
      "1336\n",
      "1206\n",
      "1460\n",
      "1334\n",
      "1766\n",
      "1923\n",
      "1620\n"
     ]
    },
    {
     "name": "stderr",
     "output_type": "stream",
     "text": [
      "\r",
      " 68%|██████▊   | 116/171 [16:20<11:20, 12.38s/it]"
     ]
    },
    {
     "name": "stdout",
     "output_type": "stream",
     "text": [
      "1504\n",
      "1504\n",
      "1378\n",
      "302\n",
      "275\n",
      "567\n",
      "757\n",
      "720\n",
      "946\n"
     ]
    },
    {
     "name": "stderr",
     "output_type": "stream",
     "text": [
      "\r",
      " 68%|██████▊   | 117/171 [16:25<09:11, 10.22s/it]"
     ]
    },
    {
     "name": "stdout",
     "output_type": "stream",
     "text": [
      "1512\n",
      "1685\n",
      "1120\n",
      "497\n",
      "997\n",
      "1135\n"
     ]
    },
    {
     "name": "stderr",
     "output_type": "stream",
     "text": [
      "\r",
      " 69%|██████▉   | 118/171 [16:30<07:38,  8.66s/it]"
     ]
    },
    {
     "name": "stdout",
     "output_type": "stream",
     "text": [
      "1289\n",
      "1304\n",
      "1572\n"
     ]
    },
    {
     "name": "stderr",
     "output_type": "stream",
     "text": [
      "\r",
      " 70%|██████▉   | 119/171 [16:34<06:21,  7.33s/it]"
     ]
    },
    {
     "name": "stdout",
     "output_type": "stream",
     "text": [
      "373\n",
      "330\n",
      "254\n",
      "814\n",
      "1013\n",
      "873\n",
      "877\n",
      "888\n",
      "962\n",
      "834\n",
      "1042\n",
      "992\n",
      "1002\n",
      "1104\n",
      "1076\n",
      "1256\n",
      "1139\n",
      "1295\n",
      "1305\n"
     ]
    },
    {
     "name": "stderr",
     "output_type": "stream",
     "text": [
      "\r",
      " 70%|███████   | 120/171 [16:41<06:07,  7.20s/it]"
     ]
    },
    {
     "name": "stdout",
     "output_type": "stream",
     "text": [
      "1512\n",
      "1239\n",
      "1310\n"
     ]
    },
    {
     "name": "stderr",
     "output_type": "stream",
     "text": [
      "\r",
      " 71%|███████   | 121/171 [16:47<05:35,  6.71s/it]"
     ]
    },
    {
     "name": "stdout",
     "output_type": "stream",
     "text": [
      "666\n",
      "1462\n"
     ]
    },
    {
     "name": "stderr",
     "output_type": "stream",
     "text": [
      "\r",
      " 71%|███████▏  | 122/171 [16:52<05:12,  6.39s/it]"
     ]
    },
    {
     "name": "stdout",
     "output_type": "stream",
     "text": [
      "1051\n",
      "495\n",
      "600\n",
      "617\n",
      "840\n",
      "838\n",
      "965\n",
      "994\n",
      "1172\n",
      "1189\n",
      "1179\n",
      "1343\n"
     ]
    },
    {
     "name": "stderr",
     "output_type": "stream",
     "text": [
      "\r",
      " 72%|███████▏  | 123/171 [17:00<05:19,  6.66s/it]"
     ]
    },
    {
     "name": "stdout",
     "output_type": "stream",
     "text": [
      "1351\n",
      "1443\n",
      "824\n",
      "222\n",
      "222\n",
      "395\n",
      "395\n",
      "578\n",
      "565\n",
      "1020\n",
      "1007\n",
      "1220\n",
      "1298\n",
      "1271\n",
      "1394\n",
      "1378\n",
      "1464\n"
     ]
    },
    {
     "name": "stderr",
     "output_type": "stream",
     "text": [
      "\r",
      " 73%|███████▎  | 124/171 [17:06<05:06,  6.51s/it]"
     ]
    },
    {
     "name": "stdout",
     "output_type": "stream",
     "text": [
      "1237\n"
     ]
    },
    {
     "name": "stderr",
     "output_type": "stream",
     "text": [
      "\r",
      " 73%|███████▎  | 125/171 [17:11<04:37,  6.04s/it]"
     ]
    },
    {
     "name": "stdout",
     "output_type": "stream",
     "text": [
      "945\n",
      "347\n",
      "426\n",
      "480\n",
      "1499\n",
      "1499\n",
      "1564\n",
      "1116\n",
      "1545\n",
      "1752\n"
     ]
    },
    {
     "name": "stderr",
     "output_type": "stream",
     "text": [
      "\r",
      " 74%|███████▎  | 126/171 [17:16<04:25,  5.89s/it]"
     ]
    },
    {
     "name": "stdout",
     "output_type": "stream",
     "text": [
      "278\n"
     ]
    },
    {
     "name": "stderr",
     "output_type": "stream",
     "text": [
      " 75%|███████▍  | 128/171 [17:26<03:46,  5.27s/it]"
     ]
    },
    {
     "name": "stdout",
     "output_type": "stream",
     "text": [
      "1178\n",
      "82\n",
      "164\n",
      "238\n"
     ]
    },
    {
     "name": "stderr",
     "output_type": "stream",
     "text": [
      "\r",
      " 75%|███████▌  | 129/171 [17:32<03:46,  5.38s/it]"
     ]
    },
    {
     "name": "stdout",
     "output_type": "stream",
     "text": [
      "1228\n",
      "1590\n",
      "1590\n"
     ]
    },
    {
     "name": "stderr",
     "output_type": "stream",
     "text": [
      "\r",
      " 76%|███████▌  | 130/171 [17:36<03:30,  5.12s/it]"
     ]
    },
    {
     "name": "stdout",
     "output_type": "stream",
     "text": [
      "1069\n",
      "1006\n",
      "1006\n"
     ]
    },
    {
     "name": "stderr",
     "output_type": "stream",
     "text": [
      "\r",
      " 77%|███████▋  | 131/171 [17:42<03:33,  5.33s/it]"
     ]
    },
    {
     "name": "stdout",
     "output_type": "stream",
     "text": [
      "1013\n",
      "1110\n"
     ]
    },
    {
     "name": "stderr",
     "output_type": "stream",
     "text": [
      "\r",
      " 77%|███████▋  | 132/171 [17:46<03:18,  5.08s/it]"
     ]
    },
    {
     "name": "stdout",
     "output_type": "stream",
     "text": [
      "636\n"
     ]
    },
    {
     "name": "stderr",
     "output_type": "stream",
     "text": [
      "\r",
      " 78%|███████▊  | 133/171 [17:51<03:11,  5.05s/it]"
     ]
    },
    {
     "name": "stdout",
     "output_type": "stream",
     "text": [
      "1517\n"
     ]
    },
    {
     "name": "stderr",
     "output_type": "stream",
     "text": [
      "\r",
      " 78%|███████▊  | 134/171 [17:56<03:00,  4.88s/it]"
     ]
    },
    {
     "name": "stdout",
     "output_type": "stream",
     "text": [
      "878\n"
     ]
    },
    {
     "name": "stderr",
     "output_type": "stream",
     "text": [
      "\r",
      " 79%|███████▉  | 135/171 [18:01<02:55,  4.87s/it]"
     ]
    },
    {
     "name": "stdout",
     "output_type": "stream",
     "text": [
      "621\n",
      "696\n",
      "2321\n",
      "740\n",
      "964\n",
      "1232\n"
     ]
    },
    {
     "name": "stderr",
     "output_type": "stream",
     "text": [
      "\r",
      " 80%|███████▉  | 136/171 [18:06<02:56,  5.03s/it]"
     ]
    },
    {
     "name": "stdout",
     "output_type": "stream",
     "text": [
      "1248\n",
      "1267\n"
     ]
    },
    {
     "name": "stderr",
     "output_type": "stream",
     "text": [
      "\r",
      " 80%|████████  | 137/171 [18:11<02:46,  4.90s/it]"
     ]
    },
    {
     "name": "stdout",
     "output_type": "stream",
     "text": [
      "713\n",
      "956\n",
      "767\n",
      "1040\n",
      "1306\n",
      "1037\n",
      "1242\n",
      "1202\n",
      "1272\n",
      "1219\n",
      "1271\n",
      "947\n",
      "1176\n",
      "1245\n",
      "1324\n",
      "1414\n",
      "1282\n",
      "1153\n",
      "1424\n",
      "1603\n",
      "1561\n",
      "1331"
     ]
    },
    {
     "name": "stderr",
     "output_type": "stream",
     "text": [
      "\r",
      " 81%|████████  | 138/171 [18:19<03:10,  5.79s/it]"
     ]
    },
    {
     "name": "stdout",
     "output_type": "stream",
     "text": [
      "\n",
      "1580\n"
     ]
    },
    {
     "name": "stderr",
     "output_type": "stream",
     "text": [
      "\r",
      " 81%|████████▏ | 139/171 [18:24<02:59,  5.61s/it]"
     ]
    },
    {
     "name": "stdout",
     "output_type": "stream",
     "text": [
      "527\n",
      "1537\n"
     ]
    },
    {
     "name": "stderr",
     "output_type": "stream",
     "text": [
      "\r",
      " 82%|████████▏ | 140/171 [18:29<02:53,  5.61s/it]"
     ]
    },
    {
     "name": "stdout",
     "output_type": "stream",
     "text": [
      "1166\n",
      "13\n",
      "244\n",
      "455\n",
      "435\n",
      "590\n"
     ]
    },
    {
     "name": "stderr",
     "output_type": "stream",
     "text": [
      "\r",
      " 82%|████████▏ | 141/171 [18:41<03:40,  7.34s/it]"
     ]
    },
    {
     "name": "stdout",
     "output_type": "stream",
     "text": [
      "955\n",
      "291\n",
      "440\n",
      "468\n",
      "817\n",
      "1055\n",
      "1125\n",
      "978\n",
      "957\n",
      "1168\n",
      "1263\n",
      "1394\n",
      "1446\n"
     ]
    },
    {
     "name": "stderr",
     "output_type": "stream",
     "text": [
      "\r",
      " 83%|████████▎ | 142/171 [18:54<04:21,  9.01s/it]"
     ]
    },
    {
     "name": "stdout",
     "output_type": "stream",
     "text": [
      "1011\n",
      "1094\n",
      "733\n",
      "541\n",
      "500\n",
      "600\n",
      "577\n",
      "635\n",
      "818\n",
      "747\n",
      "763\n",
      "763\n",
      "947\n",
      "893\n",
      "927\n",
      "1196\n",
      "1124\n",
      "1292\n",
      "1281\n",
      "1228\n",
      "1510\n",
      "1503\n",
      "1566\n",
      "1302\n"
     ]
    },
    {
     "name": "stderr",
     "output_type": "stream",
     "text": [
      "\r",
      " 84%|████████▎ | 143/171 [19:09<05:05, 10.91s/it]"
     ]
    },
    {
     "name": "stdout",
     "output_type": "stream",
     "text": [
      "1394\n",
      "750\n",
      "432\n",
      "407\n",
      "989\n",
      "1035\n",
      "775\n",
      "929\n",
      "779\n",
      "929\n",
      "828\n",
      "802\n",
      "972\n",
      "1031\n",
      "1281\n",
      "1291\n"
     ]
    },
    {
     "name": "stderr",
     "output_type": "stream",
     "text": [
      "\r",
      " 84%|████████▍ | 144/171 [19:22<05:14, 11.64s/it]"
     ]
    },
    {
     "name": "stdout",
     "output_type": "stream",
     "text": [
      "1451\n",
      "1426\n",
      "333\n",
      "471\n",
      "448\n",
      "509\n",
      "730\n",
      "811\n",
      "828\n",
      "788\n",
      "1124\n",
      "1121\n",
      "1050\n",
      "952\n",
      "1337\n",
      "1377\n",
      "1489\n"
     ]
    },
    {
     "name": "stderr",
     "output_type": "stream",
     "text": [
      "\r",
      " 85%|████████▍ | 145/171 [19:36<05:18, 12.25s/it]"
     ]
    },
    {
     "name": "stdout",
     "output_type": "stream",
     "text": [
      "1504\n",
      "999\n",
      "1110\n",
      "1110\n",
      "1017\n",
      "1220\n",
      "1293\n",
      "1158\n"
     ]
    },
    {
     "name": "stderr",
     "output_type": "stream",
     "text": [
      "\r",
      " 85%|████████▌ | 146/171 [19:49<05:09, 12.37s/it]"
     ]
    },
    {
     "name": "stdout",
     "output_type": "stream",
     "text": [
      "1279\n",
      "1877\n"
     ]
    },
    {
     "name": "stderr",
     "output_type": "stream",
     "text": [
      " 87%|████████▋ | 148/171 [20:09<04:18, 11.25s/it]"
     ]
    },
    {
     "name": "stdout",
     "output_type": "stream",
     "text": [
      "625\n"
     ]
    },
    {
     "name": "stderr",
     "output_type": "stream",
     "text": [
      "\r",
      " 87%|████████▋ | 149/171 [20:17<03:48, 10.39s/it]"
     ]
    },
    {
     "name": "stdout",
     "output_type": "stream",
     "text": [
      "1122\n"
     ]
    },
    {
     "name": "stderr",
     "output_type": "stream",
     "text": [
      "\r",
      " 88%|████████▊ | 150/171 [20:22<03:01,  8.63s/it]"
     ]
    },
    {
     "name": "stdout",
     "output_type": "stream",
     "text": [
      "925\n"
     ]
    },
    {
     "name": "stderr",
     "output_type": "stream",
     "text": [
      " 89%|████████▉ | 152/171 [20:31<02:03,  6.50s/it]"
     ]
    },
    {
     "name": "stdout",
     "output_type": "stream",
     "text": [
      "284\n"
     ]
    },
    {
     "name": "stderr",
     "output_type": "stream",
     "text": [
      " 90%|█████████ | 154/171 [20:40<01:35,  5.61s/it]"
     ]
    },
    {
     "name": "stdout",
     "output_type": "stream",
     "text": [
      "1335\n",
      "5483\n"
     ]
    },
    {
     "name": "stderr",
     "output_type": "stream",
     "text": [
      "\r",
      " 91%|█████████ | 155/171 [20:45<01:25,  5.36s/it]"
     ]
    },
    {
     "name": "stdout",
     "output_type": "stream",
     "text": [
      "339\n",
      "971\n",
      "1313\n"
     ]
    },
    {
     "name": "stderr",
     "output_type": "stream",
     "text": [
      "\r",
      " 91%|█████████ | 156/171 [20:49<01:15,  5.06s/it]"
     ]
    },
    {
     "name": "stdout",
     "output_type": "stream",
     "text": [
      "956\n",
      "975\n",
      "862\n"
     ]
    },
    {
     "name": "stderr",
     "output_type": "stream",
     "text": [
      "\r",
      " 92%|█████████▏| 157/171 [20:55<01:12,  5.17s/it]"
     ]
    },
    {
     "name": "stdout",
     "output_type": "stream",
     "text": [
      "1000\n",
      "1061\n",
      "1277\n"
     ]
    },
    {
     "name": "stderr",
     "output_type": "stream",
     "text": [
      "\r",
      " 92%|█████████▏| 158/171 [21:00<01:07,  5.17s/it]"
     ]
    },
    {
     "name": "stdout",
     "output_type": "stream",
     "text": [
      "763\n",
      "1008\n",
      "1189\n",
      "306\n",
      "616\n",
      "863\n"
     ]
    },
    {
     "name": "stderr",
     "output_type": "stream",
     "text": [
      "\r",
      " 93%|█████████▎| 159/171 [21:05<01:00,  5.07s/it]"
     ]
    },
    {
     "name": "stdout",
     "output_type": "stream",
     "text": [
      "976\n",
      "957\n",
      "1253\n",
      "1101\n"
     ]
    },
    {
     "name": "stderr",
     "output_type": "stream",
     "text": [
      "\r",
      " 94%|█████████▎| 160/171 [21:09<00:54,  4.93s/it]"
     ]
    },
    {
     "name": "stdout",
     "output_type": "stream",
     "text": [
      "1355\n"
     ]
    },
    {
     "name": "stderr",
     "output_type": "stream",
     "text": [
      "\r",
      " 94%|█████████▍| 161/171 [21:14<00:48,  4.86s/it]"
     ]
    },
    {
     "name": "stdout",
     "output_type": "stream",
     "text": [
      "348\n",
      "1208\n",
      "850\n",
      "1141\n",
      "1103\n"
     ]
    },
    {
     "name": "stderr",
     "output_type": "stream",
     "text": [
      "\r",
      " 95%|█████████▍| 162/171 [21:19<00:44,  4.98s/it]"
     ]
    },
    {
     "name": "stdout",
     "output_type": "stream",
     "text": [
      "1223\n",
      "1221\n",
      "1223\n"
     ]
    },
    {
     "name": "stderr",
     "output_type": "stream",
     "text": [
      "\r",
      " 95%|█████████▌| 163/171 [21:24<00:38,  4.86s/it]"
     ]
    },
    {
     "name": "stdout",
     "output_type": "stream",
     "text": [
      "1125\n",
      "1407\n"
     ]
    },
    {
     "name": "stderr",
     "output_type": "stream",
     "text": [
      "\r",
      " 96%|█████████▌| 164/171 [21:28<00:33,  4.73s/it]"
     ]
    },
    {
     "name": "stdout",
     "output_type": "stream",
     "text": [
      "1235\n"
     ]
    },
    {
     "name": "stderr",
     "output_type": "stream",
     "text": [
      " 97%|█████████▋| 166/171 [21:38<00:23,  4.75s/it]"
     ]
    },
    {
     "name": "stdout",
     "output_type": "stream",
     "text": [
      "9\n",
      "851\n"
     ]
    },
    {
     "name": "stderr",
     "output_type": "stream",
     "text": [
      " 98%|█████████▊| 168/171 [21:47<00:13,  4.66s/it]"
     ]
    },
    {
     "name": "stdout",
     "output_type": "stream",
     "text": [
      "161\n",
      "1114\n",
      "484\n",
      "667\n",
      "464\n",
      "781\n",
      "1106\n",
      "909\n",
      "828\n",
      "1074\n",
      "1232\n",
      "1154\n",
      "1161\n",
      "1011\n",
      "1011\n",
      "1011\n",
      "1407\n",
      "1213\n",
      "1272\n",
      "1301\n",
      "1217\n",
      "1132\n",
      "1081\n",
      "1193\n",
      "1239\n",
      "1412\n"
     ]
    },
    {
     "name": "stderr",
     "output_type": "stream",
     "text": [
      "\r",
      " 99%|█████████▉| 169/171 [21:57<00:12,  6.33s/it]"
     ]
    },
    {
     "name": "stdout",
     "output_type": "stream",
     "text": [
      "1346\n",
      "1697\n"
     ]
    },
    {
     "name": "stderr",
     "output_type": "stream",
     "text": [
      "100%|██████████| 171/171 [22:06<00:00,  7.76s/it]\n"
     ]
    }
   ],
   "source": [
    "print(\"\\n【数据采集】\")\n",
    "print(\"数据采集进度：\")\n",
    "number = 0\n",
    "\n",
    "for x in tqdm(address):\n",
    "    #print(x)\n",
    "    #print(type(x))\n",
    "    number = number + 1\n",
    "    a = poi_search(key, x,types,radius)\n",
    "    #b = poi_search_keywords(key,x,keywords,radius)\n",
    "    \n",
    "    #print(a)\n",
    "    for i in a:\n",
    "        #a = accessibility(key, x, loca,headers)\n",
    "        #print(a[0])\n",
    "        #if int(a[0]) > 1305:\n",
    "            #continue\n",
    "        name = i[0]\n",
    "        loca = i[1]\n",
    "        #print(loca)\n",
    "        #print(type(loca))\n",
    "        #dist = geodesic((transposexy(x)), (transposexy(loca))).m\n",
    "        a = accessibility(key, x, loca)\n",
    "        print(a[0])\n",
    "        if int(a[0]) > 1305:\n",
    "            continue\n",
    "        a.append(name)\n",
    "        a.append(str(number))\n",
    "        #a.append(str(dist))\n",
    "        a0 = int(a[0])\n",
    "        if a0 < 435:\n",
    "            ind = 1\n",
    "        elif a0 < 652.5 and a0 >= 435:\n",
    "            ind = 0.9\n",
    "        elif a0 < 870 and a0 >= 652.5:\n",
    "            ind = 0.55\n",
    "        elif a0 < 1087.5 and a0 >= 870:\n",
    "            ind = 0.25\n",
    "        elif a0 < 1305 and a0 >= 1087.5:\n",
    "            ind = 0.08\n",
    "            \n",
    "        a.append(str(ind))\n",
    "        a.append(str(weight))\n",
    "        a.append(str(round((float(weight)*ind),4)))\n",
    "        datas.append(a)\n",
    "    '''  \n",
    "    #print(b)\n",
    "    for j in b:\n",
    "        name = j[0]\n",
    "        loca = j[1]\n",
    "        a = accessibility(key, x, loca)\n",
    "        print(a[0])\n",
    "        if int(a[0]) > 1305:\n",
    "            continue\n",
    "        a.append(name)\n",
    "        a.append(str(number))\n",
    "        #a.append(str(dist))\n",
    "        a0 = int(a[0])\n",
    "        if a0 < 435:\n",
    "            ind = 1\n",
    "        elif a0 < 652.5 and a0 >= 435:\n",
    "            ind = 0.9\n",
    "        elif a0 < 870 and a0 >= 652.5:\n",
    "            ind = 0.55\n",
    "        elif a0 < 1087.5 and a0 >= 870:\n",
    "            ind = 0.25\n",
    "        elif a0 < 1305 and a0 >= 1087.5:\n",
    "            ind = 0.08\n",
    "            \n",
    "        a.append(str(ind))\n",
    "        a.append(str(weight))\n",
    "        a.append(str(round((float(weight)*ind),4)))\n",
    "        datas.append(a)\n",
    "        '''"
   ]
  },
  {
   "cell_type": "code",
   "execution_count": 12,
   "id": "conceptual-strategy",
   "metadata": {
    "scrolled": true
   },
   "outputs": [
    {
     "name": "stdout",
     "output_type": "stream",
     "text": [
      "\n",
      "-------------------数据采集完成-------------------\n",
      "[['步行最短距离（m）', '步行最短时间（s）', '公共服务设施名称', 'ID', '距离分类', '权重', '纠正后权重'],\n",
      " ['281', '225', '粤海·得邻', '1', '1', '0.3', '0.3'],\n",
      " ['440', '352', '圣诚·商场', '1', '0.9', '0.3', '0.27'],\n",
      " ['589', '471', '广州亚太精品交易中心', '1', '0.9', '0.3', '0.27'],\n",
      " ['577', '462', '广州江湾阳光天地', '1', '0.9', '0.3', '0.27'],\n",
      " ['742', '594', '北京大厦饰博城', '1', '0.55', '0.3', '0.165'],\n",
      " ['776', '621', '信木岚(粤海仰忠汇店)', '1', '0.55', '0.3', '0.165'],\n",
      " ['835', '668', '天河城', '1', '0.55', '0.3', '0.165'],\n",
      " ['835', '668', '趣优游专柜', '1', '0.55', '0.3', '0.165'],\n",
      " ['915', '732', 'ABC-石烧安格斯牛扒(北京路店)', '1', '0.25', '0.3', '0.075'],\n",
      " ['783', '626', '骏田批发广场', '1', '0.55', '0.3', '0.165'],\n",
      " ['1007', '806', '荣戈百货', '1', '0.25', '0.3', '0.075'],\n",
      " ['1001', '801', '金佰利广场', '1', '0.25', '0.3', '0.075'],\n",
      " ['1057', '846', '仙妮蕾德(天河城百货店)', '1', '0.25', '0.3', '0.075'],\n",
      " ['1079', '863', '天河城百货(北京路店)', '1', '0.25', '0.3', '0.075'],\n",
      " ['1033', '826', '名盛广场', '1', '0.25', '0.3', '0.075'],\n",
      " ['1103', '882', '泰康仰忠精品批发城', '1', '0.08', '0.3', '0.024'],\n",
      " ['1185', '948', '景华商业广场', '1', '0.08', '0.3', '0.024'],\n",
      " ['1078', '862', '海港城', '1', '0.25', '0.3', '0.075'],\n",
      " ['1298', '1038', '大南居商场', '1', '0.08', '0.3', '0.024'],\n",
      " ['1275', '1020', '海印中心', '1', '0.08', '0.3', '0.024'],\n",
      " ['1290', '1032', '广百百货(北京路店)', '1', '0.08', '0.3', '0.024'],\n",
      " ['1243', '994', '海印广场', '1', '0.08', '0.3', '0.024'],\n",
      " ['1191', '953', 'eHi(城光大厦店)', '3', '0.08', '0.3', '0.024'],\n",
      " ['1108', '886', '太平架商业广场', '3', '0.08', '0.3', '0.024'],\n",
      " ['1145', '916', '天平商业广场', '3', '0.08', '0.3', '0.024'],\n",
      " ['557', '446', '万和百货', '5', '0.9', '0.3', '0.27'],\n",
      " ['1034', '827', '富民商城', '5', '0.25', '0.3', '0.075'],\n",
      " ['1101', '881', '惠民商业城', '5', '0.08', '0.3', '0.024'],\n",
      " ['686', '549', '华南匹配城(广园东路辅路)', '6', '0.55', '0.3', '0.165'],\n",
      " ['781', '625', 'NOC', '6', '0.55', '0.3', '0.165'],\n",
      " ['1177', '942', '大西豪(灏丰)网批城', '6', '0.08', '0.3', '0.024'],\n",
      " ['1227', '982', '大时代网络批发城', '6', '0.08', '0.3', '0.024'],\n",
      " ['1205', '964', '永富国际汽机用品广场', '6', '0.08', '0.3', '0.024'],\n",
      " ['432', '346', '太平架商业广场', '7', '1', '0.3', '0.3'],\n",
      " ['469', '375', '天平商业广场', '7', '0.9', '0.3', '0.27'],\n",
      " ['747', '598', 'eHi(城光大厦店)', '7', '0.55', '0.3', '0.165'],\n",
      " ['928', '742', '古桥茶街北区E座', '8', '0.25', '0.3', '0.075'],\n",
      " ['371', '297', '小廖的店', '8', '1', '0.3', '0.3'],\n",
      " ['1107', '886', '葵篷商业城', '8', '0.08', '0.3', '0.024'],\n",
      " ['1078', '862', '古桥茶街北区E座', '9', '0.25', '0.3', '0.075'],\n",
      " ['988', '790', '兵兵港岛', '9', '0.25', '0.3', '0.075'],\n",
      " ['1247', '998', '华裕购物广场', '9', '0.08', '0.3', '0.024'],\n",
      " ['375', '300', '海北百货(流通)', '10', '1', '0.3', '0.3'],\n",
      " ['42', '34', '金发百货', '11', '1', '0.3', '0.3'],\n",
      " ['527', '422', '星际汇商业中心', '11', '0.9', '0.3', '0.27'],\n",
      " ['960', '768', '沃野广场', '12', '0.25', '0.3', '0.075'],\n",
      " ['533', '426', '西美国际(美博城)', '13', '0.9', '0.3', '0.27'],\n",
      " ['581', '465', '广州美博城', '13', '0.9', '0.3', '0.27'],\n",
      " ['641', '513', '美博城C座(广园西路辅路)', '13', '0.9', '0.3', '0.27'],\n",
      " ['669', '535', '通通商贸城', '13', '0.55', '0.3', '0.165'],\n",
      " ['949', '759', '新濠畔瑶台广场', '13', '0.25', '0.3', '0.075'],\n",
      " ['631', '505', '柏乐商贸城', '13', '0.9', '0.3', '0.27'],\n",
      " ['699', '559', '迦南商贸城', '13', '0.55', '0.3', '0.165'],\n",
      " ['850', '680', 'GTL', '13', '0.55', '0.3', '0.165'],\n",
      " ['760', '608', '新龙安(网络)商贸城', '13', '0.55', '0.3', '0.165'],\n",
      " ['787', '630', '金圣商贸城', '13', '0.55', '0.3', '0.165'],\n",
      " ['1219', '975', '嘉星国际商贸城', '13', '0.08', '0.3', '0.024'],\n",
      " ['1249', '999', '高嘉兴商茂城', '13', '0.08', '0.3', '0.024'],\n",
      " ['819', '655', '曜一城', '14', '0.55', '0.3', '0.165'],\n",
      " ['1023', '818', '7(11中信店)', '14', '0.25', '0.3', '0.075'],\n",
      " ['1251', '1001', '商场货梯', '14', '0.08', '0.3', '0.024'],\n",
      " ['1241', '993', '汇家购物广场', '15', '0.08', '0.3', '0.024'],\n",
      " ['211', '169', '沙涌荟', '17', '1', '0.3', '0.3'],\n",
      " ['239', '191', '华宇广场', '17', '1', '0.3', '0.3'],\n",
      " ['516', '413', '百越商场', '17', '0.9', '0.3', '0.27'],\n",
      " ['632', '506', '南珑商业中心', '17', '0.9', '0.3', '0.27'],\n",
      " ['775', '620', '万侨商业广场', '17', '0.55', '0.3', '0.165'],\n",
      " ['743', '594', '沙涌荟', '17', '0.55', '0.3', '0.165'],\n",
      " ['934', '747', '石基富怡三区社区团购', '17', '0.25', '0.3', '0.075'],\n",
      " ['1082', '866', '成达商业中心', '17', '0.25', '0.3', '0.075'],\n",
      " ['1068', '854', '石碁城市广场', '17', '0.25', '0.3', '0.075'],\n",
      " ['737', '590', '万佳汇(装修中)', '17', '0.55', '0.3', '0.165'],\n",
      " ['420', '336', '铜锣湾(繁华路店)', '20', '1', '0.3', '0.3'],\n",
      " ['425', '340', '百花艺博广场', '20', '1', '0.3', '0.3'],\n",
      " ['580', '464', '花地好邻舍商业中心', '20', '0.9', '0.3', '0.27'],\n",
      " ['867', '694', '钟饰商城', '20', '0.55', '0.3', '0.165'],\n",
      " ['867', '694', '东山百货', '20', '0.55', '0.3', '0.165'],\n",
      " ['867', '694', '东百花地湾百货公司', '20', '0.55', '0.3', '0.165'],\n",
      " ['1033', '826', '壹号文化广场', '20', '0.25', '0.3', '0.075'],\n",
      " ['1103', '882', '花地城广场', '20', '0.08', '0.3', '0.024'],\n",
      " ['346', '277', 'PR Measurement', '21', '1', '0.3', '0.3'],\n",
      " ['393', '314', '海乐荟', '21', '1', '0.3', '0.3'],\n",
      " ['534', '427', '华丰广场', '23', '0.9', '0.3', '0.27'],\n",
      " ['881', '705', '喜越广场', '23', '0.25', '0.3', '0.075'],\n",
      " ['872', '698', '恒盛广场', '23', '0.25', '0.3', '0.075'],\n",
      " ['440', '352', '雅瑶广场', '24', '0.9', '0.3', '0.27'],\n",
      " ['277', '222', '钻汇广场', '25', '1', '0.3', '0.3'],\n",
      " ['515', '412', '喜悦天地', '25', '0.9', '0.3', '0.27'],\n",
      " ['529', '423', '富华·里商业中心', '25', '0.9', '0.3', '0.27'],\n",
      " ['625', '500', '番山城', '25', '0.9', '0.3', '0.27'],\n",
      " ['659', '527', '富城商场', '25', '0.55', '0.3', '0.165'],\n",
      " ['941', '753', '番禺友谊商店', '25', '0.25', '0.3', '0.075'],\n",
      " ['764', '611', '上轩广场', '25', '0.55', '0.3', '0.165'],\n",
      " ['642', '514', '新力潮荟购物广场', '25', '0.9', '0.3', '0.27'],\n",
      " ['763', '610', '潮荟APMF区', '25', '0.55', '0.3', '0.165'],\n",
      " ['898', '718', '新大新百货(番禺店)', '25', '0.25', '0.3', '0.075'],\n",
      " ['777', '622', '龙泉大酒店&商城', '25', '0.55', '0.3', '0.165'],\n",
      " ['1001', '801', '易发商业街', '25', '0.25', '0.3', '0.075'],\n",
      " ['1077', '862', '小9闪悦(易发商业中心店)', '25', '0.25', '0.3', '0.075'],\n",
      " ['1001', '801', '锐豪·新天地', '25', '0.25', '0.3', '0.075'],\n",
      " ['781', '625', '禺山购物中心', '25', '0.55', '0.3', '0.165'],\n",
      " ['802', '642', 'a0专柜', '25', '0.55', '0.3', '0.165'],\n",
      " ['832', '666', '雅居乐·邻里时光', '25', '0.55', '0.3', '0.165'],\n",
      " ['1024', '819', '繁华盛世', '25', '0.25', '0.3', '0.075'],\n",
      " ['973', '778', '富华商贸城', '25', '0.25', '0.3', '0.075'],\n",
      " ['832', '666', '鸿禧华庭商场', '25', '0.55', '0.3', '0.165'],\n",
      " ['894', '715', '禺山广场', '25', '0.25', '0.3', '0.075'],\n",
      " ['1065', '852', '洋葱omall跨境电商体验店', '25', '0.25', '0.3', '0.075'],\n",
      " ['1030', '824', '清大至尊', '25', '0.25', '0.3', '0.075'],\n",
      " ['1122', '898', '松岗商贸城', '25', '0.08', '0.3', '0.024'],\n",
      " ['198', '158', '壹号潮流', '26', '1', '0.3', '0.3'],\n",
      " ['334', '267', '金佳活力城', '26', '1', '0.3', '0.3'],\n",
      " ['464', '371', '禺山广场', '26', '0.9', '0.3', '0.27'],\n",
      " ['460', '368', '百德商业中心', '26', '0.9', '0.3', '0.27'],\n",
      " ['647', '518', 'a0专柜', '26', '0.9', '0.3', '0.27'],\n",
      " ['596', '477', '禺山购物中心', '26', '0.9', '0.3', '0.27'],\n",
      " ['776', '621', '龙泉大酒店&商城', '26', '0.55', '0.3', '0.165'],\n",
      " ['917', '734', '新大新百货(番禺店)', '26', '0.25', '0.3', '0.075'],\n",
      " ['826', '661', '潮荟APMF区', '26', '0.55', '0.3', '0.165'],\n",
      " ['825', '660', '易发商业街', '26', '0.55', '0.3', '0.165'],\n",
      " ['760', '608', '新力潮荟购物广场', '26', '0.55', '0.3', '0.165'],\n",
      " ['887', '710', '番山城', '26', '0.25', '0.3', '0.075'],\n",
      " ['1093', '874', '淘宝城C座', '26', '0.08', '0.3', '0.024'],\n",
      " ['921', '737', '小9闪悦(易发商业中心店)', '26', '0.25', '0.3', '0.075'],\n",
      " ['900', '720', '番禺友谊商店', '26', '0.25', '0.3', '0.075'],\n",
      " ['1125', '900', '大同世界广场', '26', '0.08', '0.3', '0.024'],\n",
      " ['976', '781', '海狼安心购', '26', '0.25', '0.3', '0.075'],\n",
      " ['1039', '831', '繁华盛世', '26', '0.25', '0.3', '0.075'],\n",
      " ['1195', '956', '锐豪·新天地', '26', '0.08', '0.3', '0.024'],\n",
      " ['1296', '1037', '西门町购物天地', '26', '0.08', '0.3', '0.024'],\n",
      " ['489', '391', '新好万联时尚坊', '27', '0.9', '0.3', '0.27'],\n",
      " ['393', '314', '时代城', '27', '1', '0.3', '0.3'],\n",
      " ['567', '454', '好万联商城', '27', '0.9', '0.3', '0.27'],\n",
      " ['418', '334', '祥利来商业城', '27', '1', '0.3', '0.3'],\n",
      " ['736', '589', '创荣时代广场', '27', '0.55', '0.3', '0.165'],\n",
      " ['843', '674', '汇赢商业广场', '27', '0.55', '0.3', '0.165'],\n",
      " ['773', '618', '香港ZLF广州东区时代城店', '27', '0.55', '0.3', '0.165'],\n",
      " ['963', '770', '百事佳亨晖广场', '27', '0.25', '0.3', '0.075'],\n",
      " ['1286', '1029', '逸富广场(广州店)', '27', '0.08', '0.3', '0.024'],\n",
      " ['1167', '934', '苏尔玛购物广场', '27', '0.08', '0.3', '0.024'],\n",
      " ['1130', '904', '建益商业城', '27', '0.08', '0.3', '0.024'],\n",
      " ['512', '410', '上胜广场', '28', '0.9', '0.3', '0.27'],\n",
      " ['686', '549', '嘉大广场', '28', '0.55', '0.3', '0.165'],\n",
      " ['795', '636', '睿星商业广场', '28', '0.55', '0.3', '0.165'],\n",
      " ['981', '785', '嘉鼎广场', '28', '0.25', '0.3', '0.075'],\n",
      " ['934', '747', '嘉禾名城', '28', '0.25', '0.3', '0.075'],\n",
      " ['1060', '848', '丰兴商业广场', '28', '0.25', '0.3', '0.075'],\n",
      " ['1247', '998', '白云美食购物中心', '28', '0.08', '0.3', '0.024'],\n",
      " ['1192', '954', '富安广场', '28', '0.08', '0.3', '0.024'],\n",
      " ['1232', '986', '嘉禾金铂天地', '28', '0.08', '0.3', '0.024'],\n",
      " ['1111', '889', '名城商城', '28', '0.08', '0.3', '0.024'],\n",
      " ['1077', '862', '佳扬商业广场', '28', '0.25', '0.3', '0.075'],\n",
      " ['1109', '887', '嘉禾广场', '28', '0.08', '0.3', '0.024'],\n",
      " ['1236', '989', '广丰商场', '28', '0.08', '0.3', '0.024'],\n",
      " ['692', '554', 'K99商业广场(装修中)', '28', '0.55', '0.3', '0.165'],\n",
      " ['1241', '993', '尚城万科里', '29', '0.08', '0.3', '0.024'],\n",
      " ['732', '586', '南岗新街市', '29', '0.55', '0.3', '0.165'],\n",
      " ['834', '667', '南岗新城', '29', '0.55', '0.3', '0.165'],\n",
      " ['961', '769', '鸿福门广场', '29', '0.25', '0.3', '0.075'],\n",
      " ['937', '750', '好又多平价商场(岗星路店)', '32', '0.25', '0.3', '0.075'],\n",
      " ['368', '294', '雪松菁英汇(建设中)', '32', '1', '0.3', '0.3'],\n",
      " ['712', '570', '永祥商业广场', '33', '0.55', '0.3', '0.165'],\n",
      " ['95', '76', '名店城(江南西路)', '34', '1', '0.3', '0.3'],\n",
      " ['230', '184', '江南西·名店城', '34', '1', '0.3', '0.3'],\n",
      " ['130', '104', '丽日商业广场', '34', '1', '0.3', '0.3'],\n",
      " ['248', '198', '江南西人', '34', '1', '0.3', '0.3'],\n",
      " ['280', '224', '富力海珠城A区', '34', '1', '0.3', '0.3'],\n",
      " ['311', '249', 'IP Station', '34', '1', '0.3', '0.3'],\n",
      " ['302', '242', '富力海珠城', '34', '1', '0.3', '0.3'],\n",
      " ['350', '280', '润汇广场', '34', '1', '0.3', '0.3'],\n",
      " ['388', '310', '江南新地(江南西路)', '34', '1', '0.3', '0.3'],\n",
      " ['482', '386', '摩登百货(海购店)', '34', '0.9', '0.3', '0.27'],\n",
      " ['643', '514', '新安购物广场', '34', '0.9', '0.3', '0.27'],\n",
      " ['646', '517', '江南综合商场(玫瑰二街)', '34', '0.9', '0.3', '0.27'],\n",
      " ['747', '598', '万国奥特莱斯', '34', '0.55', '0.3', '0.165'],\n",
      " ['646', '517', '蓝天里', '34', '0.9', '0.3', '0.27'],\n",
      " ['644', '515', '海逸购物广场', '34', '0.9', '0.3', '0.27'],\n",
      " ['814', '651', '状元坊(前进路)', '34', '0.55', '0.3', '0.165'],\n",
      " ['889', '711', '金谷广场', '34', '0.25', '0.3', '0.075'],\n",
      " ['866', '693', '若比邻社区商业中心(力迅时光里店)', '34', '0.55', '0.3', '0.165'],\n",
      " ['885', '708', '南康阁商业城', '34', '0.25', '0.3', '0.075'],\n",
      " ['872', '698', 'Mall商场', '34', '0.25', '0.3', '0.075'],\n",
      " ['934', '747', '新一城X-MALL', '34', '0.25', '0.3', '0.075'],\n",
      " ['1079', '863', '必瘦站(广百新一城店)', '34', '0.25', '0.3', '0.075'],\n",
      " ['911', '729', '新一城B区', '34', '0.25', '0.3', '0.075'],\n",
      " ['870', '696', '同乐汇', '34', '0.25', '0.3', '0.075'],\n",
      " ['1159', '927', '信和广场', '34', '0.08', '0.3', '0.024'],\n",
      " ['1011', '809', '可逸倾城', '34', '0.25', '0.3', '0.075'],\n",
      " ['1141', '913', '江南坊', '34', '0.08', '0.3', '0.024'],\n",
      " ['965', '772', '君汇天地', '34', '0.25', '0.3', '0.075'],\n",
      " ['1195', '956', '壹加壹超市(田心街店)', '34', '0.08', '0.3', '0.024'],\n",
      " ['1094', '875', '孝真e栈(前进店)', '34', '0.08', '0.3', '0.024'],\n",
      " ['1039', '831', '益丰广场', '34', '0.25', '0.3', '0.075'],\n",
      " ['1169', '935', '海冠商城', '34', '0.08', '0.3', '0.024'],\n",
      " ['1158', '926', '好百年广场', '34', '0.08', '0.3', '0.024'],\n",
      " ['1197', '958', '江南西恒基商城', '34', '0.08', '0.3', '0.024'],\n",
      " ['1165', '932', '东方汇广场', '35', '0.08', '0.3', '0.024'],\n",
      " ['1269', '1015', '东方汇', '35', '0.08', '0.3', '0.024'],\n",
      " ['240', '192', '乐满多购物商场', '37', '1', '0.3', '0.3'],\n",
      " ['511', '409', '正家购物广场', '37', '0.9', '0.3', '0.27'],\n",
      " ['844', '675', '广州芳村国际商业城', '37', '0.55', '0.3', '0.165'],\n",
      " ['1048', '838', '都市WO家', '38', '0.25', '0.3', '0.075'],\n",
      " ['407', '326', '逸佳商业广场', '39', '1', '0.3', '0.3'],\n",
      " ['214', '171', '文创汇', '39', '1', '0.3', '0.3'],\n",
      " ['164', '131', '丰兴广场', '40', '1', '0.3', '0.3'],\n",
      " ['288', '230', '盛荟', '40', '1', '0.3', '0.3'],\n",
      " ['311', '249', '俊龙商贸', '40', '1', '0.3', '0.3'],\n",
      " ['299', '239', '万鼎外贸城', '40', '1', '0.3', '0.3'],\n",
      " ['668', '534', '石井城市广场', '40', '0.55', '0.3', '0.165'],\n",
      " ['629', '503', 'LIQUID CARE', '40', '0.9', '0.3', '0.27'],\n",
      " ['721', '577', '训榕溪店', '40', '0.55', '0.3', '0.165'],\n",
      " ['910', '728', '石井国际', '40', '0.25', '0.3', '0.075'],\n",
      " ['1231', '985', '世界鞋都B栋', '40', '0.08', '0.3', '0.024'],\n",
      " ['1002', '802', '广大商贸城', '40', '0.25', '0.3', '0.075'],\n",
      " ['1203', '962', '广伟商贸城', '40', '0.08', '0.3', '0.024'],\n",
      " ['298', '238', '睿星商业广场', '41', '1', '0.3', '0.3'],\n",
      " ['573', '458', '上胜广场', '41', '0.9', '0.3', '0.27'],\n",
      " ['599', '479', '丰兴商业广场', '41', '0.9', '0.3', '0.27'],\n",
      " ['643', '514', '嘉禾名城', '41', '0.9', '0.3', '0.27'],\n",
      " ['695', '556', '富安广场', '41', '0.55', '0.3', '0.165'],\n",
      " ['735', '588', '嘉禾金铂天地', '41', '0.55', '0.3', '0.165'],\n",
      " ['720', '576', '佳扬商业广场', '41', '0.55', '0.3', '0.165'],\n",
      " ['752', '602', '嘉禾广场', '41', '0.55', '0.3', '0.165'],\n",
      " ['759', '607', '名城商城', '41', '0.55', '0.3', '0.165'],\n",
      " ['888', '710', '嘉鼎广场', '41', '0.25', '0.3', '0.075'],\n",
      " ['879', '703', '广丰商场', '41', '0.25', '0.3', '0.075'],\n",
      " ['925', '740', '永福购物广场', '41', '0.25', '0.3', '0.075'],\n",
      " ['1246', '997', '白云美食购物中心', '41', '0.08', '0.3', '0.024'],\n",
      " ['1239', '991', '嘉大广场', '41', '0.08', '0.3', '0.024'],\n",
      " ['1098', '878', '联兴商贸广场', '41', '0.08', '0.3', '0.024'],\n",
      " ['195', '156', 'K99商业广场(装修中)', '41', '1', '0.3', '0.3'],\n",
      " ['334', '267', '好万家百货', '42', '1', '0.3', '0.3'],\n",
      " ['1305', '1044', '华隆商贸城', '43', '1', '0.3', '0.3'],\n",
      " ['1305', '1044', '美佳购物广场', '43', '1', '0.3', '0.3'],\n",
      " ['686', '549', 'KCity文创生活', '44', '0.55', '0.3', '0.165'],\n",
      " ['1016', '813', 'DESSERT SHOP', '45', '0.25', '0.3', '0.075'],\n",
      " ['822', '658', 'Cosmo进口生活馆', '46', '0.55', '0.3', '0.165'],\n",
      " ['1305', '1044', '都市WO家', '46', '0.55', '0.3', '0.165'],\n",
      " ['259', '207', '聚源综合商业城', '47', '1', '0.3', '0.3'],\n",
      " ['922', '738', '富华桦盛行(和仕)', '47', '0.25', '0.3', '0.075'],\n",
      " ['939', '751', '北区辅料广场', '47', '0.25', '0.3', '0.075'],\n",
      " ['1274', '1019', '壹加壹超市', '47', '0.08', '0.3', '0.024'],\n",
      " ['873', '698', '海珠新都荟', '47', '0.25', '0.3', '0.075'],\n",
      " ['1052', '842', '盈熙广场', '47', '0.25', '0.3', '0.075'],\n",
      " ['1088', '870', '东晓·胜汇里', '47', '0.08', '0.3', '0.024'],\n",
      " ['1263', '1010', '长江(国际)皮草城', '47', '0.08', '0.3', '0.024'],\n",
      " ['394', '315', '南岗新城', '48', '1', '0.3', '0.3'],\n",
      " ['462', '370', '南岗新街市', '48', '0.9', '0.3', '0.27'],\n",
      " ['676', '541', '鸿福门广场', '48', '0.55', '0.3', '0.165'],\n",
      " ['334', '267', '世纪华联购物广场', '49', '1', '0.3', '0.3'],\n",
      " ['751', '601', '优选家', '49', '0.55', '0.3', '0.165'],\n",
      " ['818', '654', '外商·琥珀广场', '49', '0.55', '0.3', '0.165'],\n",
      " ['1179', '943', '若比邻社区商业中心(广州东风广场店)', '49', '0.08', '0.3', '0.024'],\n",
      " ['1135', '908', '保利克洛维二期时光汇购物中心', '49', '0.08', '0.3', '0.024'],\n",
      " ['1251', '1001', '中盈广场', '49', '0.08', '0.3', '0.024'],\n",
      " ['1107', '886', 'IP Station', '49', '0.08', '0.3', '0.024'],\n",
      " ['1233', '986', '佰盈商业城', '49', '0.08', '0.3', '0.024'],\n",
      " ['514', '411', '上步商贸广场', '50', '0.9', '0.3', '0.27'],\n",
      " ['565', '452', '骏荣商业广场', '50', '0.9', '0.3', '0.27'],\n",
      " ['1138', '910', 'OUTLETS', '50', '0.08', '0.3', '0.024'],\n",
      " ['771', '617', '骏富商贸城A区', '50', '0.55', '0.3', '0.165'],\n",
      " ['1193', '954', '怡盛广场', '50', '0.08', '0.3', '0.024'],\n",
      " ['867', '694', '溪雨国际广场', '50', '0.55', '0.3', '0.165'],\n",
      " ['840', '672', '骏富商贸城E区', '50', '0.55', '0.3', '0.165'],\n",
      " ['335', '268', '大井城', '51', '1', '0.3', '0.3'],\n",
      " ['395', '316', '苓苓生活馆', '51', '1', '0.3', '0.3'],\n",
      " ['689', '551', '麒麟广场', '51', '0.55', '0.3', '0.165'],\n",
      " ['156', '125', '尚佳广场', '52', '1', '0.3', '0.3'],\n",
      " ['140', '112', '东粤商业广场', '52', '1', '0.3', '0.3'],\n",
      " ['653', '522', '中仁商业广场', '52', '0.55', '0.3', '0.165'],\n",
      " ['725', '580', '金国广场', '52', '0.55', '0.3', '0.165'],\n",
      " ['114', '91', '百德商业中心', '53', '1', '0.3', '0.3'],\n",
      " ['403', '322', '壹号潮流', '53', '1', '0.3', '0.3'],\n",
      " ['437', '350', '金佳活力城', '53', '0.9', '0.3', '0.27'],\n",
      " ['484', '387', '海狼安心购', '53', '0.9', '0.3', '0.27'],\n",
      " ['669', '535', '禺山广场', '53', '0.55', '0.3', '0.165'],\n",
      " ['658', '526', '禺山购物中心', '53', '0.55', '0.3', '0.165'],\n",
      " ['792', '634', 'a0专柜', '53', '0.55', '0.3', '0.165'],\n",
      " ['921', '737', '龙泉大酒店&商城', '53', '0.25', '0.3', '0.075'],\n",
      " ['905', '724', '新力潮荟购物广场', '53', '0.25', '0.3', '0.075'],\n",
      " ['971', '777', '潮荟APMF区', '53', '0.25', '0.3', '0.075'],\n",
      " ['984', '787', '清大至尊', '53', '0.25', '0.3', '0.075'],\n",
      " ['1032', '826', '番山城', '53', '0.25', '0.3', '0.075'],\n",
      " ['1042', '834', '新大新百货(番禺店)', '53', '0.25', '0.3', '0.075'],\n",
      " ['1015', '812', '淘宝城C座', '53', '0.25', '0.3', '0.075'],\n",
      " ['1109', '887', '易发商业街', '53', '0.08', '0.3', '0.024'],\n",
      " ['1035', '828', '汇珑新天地', '53', '0.25', '0.3', '0.075'],\n",
      " ['1047', '838', '大同世界广场', '53', '0.25', '0.3', '0.075'],\n",
      " ['838', '670', '淘宝城C座', '54', '0.55', '0.3', '0.165'],\n",
      " ['717', '574', '西门町购物天地', '54', '0.55', '0.3', '0.165'],\n",
      " ['1035', '828', '大同世界广场', '54', '0.25', '0.3', '0.075'],\n",
      " ['807', '646', '金佳活力城', '54', '0.55', '0.3', '0.165'],\n",
      " ['891', '713', '壹号潮流', '54', '0.25', '0.3', '0.075'],\n",
      " ['1115', '892', '西丽汇广场', '54', '0.08', '0.3', '0.024'],\n",
      " ['1068', '854', '西丽汇商业中心', '54', '0.25', '0.3', '0.075'],\n",
      " ['1067', '854', '百德商业中心', '54', '0.25', '0.3', '0.075'],\n",
      " ['1216', '973', '禺山广场', '54', '0.08', '0.3', '0.024'],\n",
      " ['1187', '950', '奥园广场(福德路店)', '54', '0.08', '0.3', '0.024'],\n",
      " ['553', '442', '华生百货', '55', '0.9', '0.3', '0.27'],\n",
      " ['446', '357', '人人佳超市', '55', '0.9', '0.3', '0.27'],\n",
      " ['748', '598', '人和大都汇商业广场', '55', '0.55', '0.3', '0.165'],\n",
      " ['711', '569', '商汇人和广场', '55', '0.55', '0.3', '0.165'],\n",
      " ['829', '663', '华通广场', '55', '0.55', '0.3', '0.165'],\n",
      " ['1056', '845', '天虹广场', '55', '0.25', '0.3', '0.075'],\n",
      " ['282', '226', 'tittot(广州友谊商店北区)', '56', '1', '0.3', '0.3'],\n",
      " ['364', '291', 'ec专柜', '56', '1', '0.3', '0.3'],\n",
      " ['403', '322', '广州友谊商店', '56', '1', '0.3', '0.3'],\n",
      " ['554', '443', '丽柏广场', '56', '0.9', '0.3', '0.27'],\n",
      " ['515', '412', '广百百货', '56', '0.9', '0.3', '0.27'],\n",
      " ['772', '618', 'LN-WAY专柜', '56', '0.55', '0.3', '0.165'],\n",
      " ['918', '734', '品牌优选荟(新大新百货店)', '56', '0.25', '0.3', '0.075'],\n",
      " ['1037', '830', '宜安广场', '56', '0.25', '0.3', '0.075'],\n",
      " ['937', '750', '弟壹集', '56', '0.25', '0.3', '0.075'],\n",
      " ['1073', '858', '悦生活专柜', '56', '0.25', '0.3', '0.075'],\n",
      " ['1227', '982', '寓米先烈南路时代YOU店', '56', '0.08', '0.3', '0.024'],\n",
      " ['1222', '978', 'XoverPary', '56', '0.08', '0.3', '0.024'],\n",
      " ['362', '290', '四季天地', '57', '1', '0.3', '0.3'],\n",
      " ['358', '286', 'YSHS', '57', '1', '0.3', '0.3'],\n",
      " ['683', '546', '纵横广场', '57', '0.55', '0.3', '0.165'],\n",
      " ['694', '555', '新港商业城', '57', '0.55', '0.3', '0.165'],\n",
      " ['1058', '846', '卡西雅', '57', '0.25', '0.3', '0.075'],\n",
      " ['1221', '977', '珠影·星光城', '57', '0.08', '0.3', '0.024'],\n",
      " ['1076', '861', '汇礼轩', '57', '0.25', '0.3', '0.075'],\n",
      " ['1083', '866', '丽影广场C区', '57', '0.25', '0.3', '0.075'],\n",
      " ['1220', '976', '影城花园综合商场', '57', '0.08', '0.3', '0.024'],\n",
      " ['646', '517', '东方商场(流花路)', '58', '0.9', '0.3', '0.27'],\n",
      " ['964', '771', '以太广场', '58', '0.25', '0.3', '0.075'],\n",
      " ['1131', '905', 'RURUSKA', '58', '0.08', '0.3', '0.024'],\n",
      " ['368', '294', '上步商贸广场', '59', '1', '0.3', '0.3'],\n",
      " ['416', '333', 'OUTLETS', '59', '1', '0.3', '0.3'],\n",
      " ['1046', '837', '怡盛广场', '59', '0.25', '0.3', '0.075'],\n",
      " ['813', '650', '骏荣商业广场', '59', '0.55', '0.3', '0.165'],\n",
      " ['1253', '1002', '康乃馨商贸城', '59', '0.08', '0.3', '0.024'],\n",
      " ['1048', '838', '骏富商贸城E区', '59', '0.25', '0.3', '0.075'],\n",
      " ['979', '783', '骏富商贸城A区', '59', '0.25', '0.3', '0.075'],\n",
      " ['1113', '890', '溪雨国际广场', '59', '0.08', '0.3', '0.024'],\n",
      " ['121', '97', '骏业百货(萝塱路)', '62', '1', '0.3', '0.3'],\n",
      " ['227', '182', '得晖广场', '62', '1', '0.3', '0.3'],\n",
      " ['706', '565', '飞晟汇', '62', '0.55', '0.3', '0.165'],\n",
      " ['1055', '844', '萝岗奥园广场', '62', '0.25', '0.3', '0.075'],\n",
      " ['975', '780', '香雪城', '62', '0.25', '0.3', '0.075'],\n",
      " ['48', '38', '佳恩百货(元岗街店)', '63', '1', '0.3', '0.3'],\n",
      " ['548', '438', '广州国际农资商品交易城', '63', '0.9', '0.3', '0.27'],\n",
      " ['840', '672', '天河慧通产业广场A3号楼', '63', '0.55', '0.3', '0.165'],\n",
      " ['1093', '874', '优托邦驿站', '63', '0.08', '0.3', '0.024'],\n",
      " ['1145', '916', '21世纪卡通城(优托邦驿站·长兴店东区)', '63', '0.08', '0.3', '0.024'],\n",
      " ['1007', '806', '元岗商业广场', '63', '0.25', '0.3', '0.075'],\n",
      " ['1222', '978', '天河里滨河街区', '63', '0.08', '0.3', '0.024'],\n",
      " ['554', '443', 'MEIFUBAO(大润发店)', '65', '0.9', '0.3', '0.27'],\n",
      " ['605', '484', '南华商贸城', '65', '0.9', '0.3', '0.27'],\n",
      " ['1009', '807', '大同世界广场', '65', '0.25', '0.3', '0.075'],\n",
      " ['1119', '895', '淘宝城C座', '65', '0.08', '0.3', '0.024'],\n",
      " ['1170', '936', '西门町购物天地', '65', '0.08', '0.3', '0.024'],\n",
      " ['56', '45', '太平架商业广场', '67', '1', '0.3', '0.3'],\n",
      " ['136', '109', '天平商业广场', '67', '1', '0.3', '0.3'],\n",
      " ['823', '658', 'eHi(城光大厦店)', '67', '0.55', '0.3', '0.165'],\n",
      " ['1238', '990', '百盛新街市', '67', '0.08', '0.3', '0.024'],\n",
      " ['342', '274', '88潮牌·广州风尚店', '68', '1', '0.3', '0.3'],\n",
      " ['577', '462', 'os.向日葵', '68', '0.9', '0.3', '0.27'],\n",
      " ['625', '500', '江夏新天地', '68', '0.9', '0.3', '0.27'],\n",
      " ['1230', '984', '百信广场', '69', '0.08', '0.3', '0.024'],\n",
      " ['1302', '1042', '时尚太阳城', '69', '0.08', '0.3', '0.024'],\n",
      " ['1273', '1018', '太阳广场', '69', '0.08', '0.3', '0.024'],\n",
      " ['302', '242', '家沃商业广场', '70', '1', '0.3', '0.3'],\n",
      " ['645', '516', 'VIOLA', '70', '0.9', '0.3', '0.27'],\n",
      " ['1003', '802', '嘉鼎广场', '70', '0.25', '0.3', '0.075'],\n",
      " ['929', '743', '名城商城', '70', '0.25', '0.3', '0.075'],\n",
      " ['796', '637', '永福购物广场', '70', '0.55', '0.3', '0.165'],\n",
      " ['851', '681', '广丰商场', '70', '0.55', '0.3', '0.165'],\n",
      " ['992', '794', '联兴商贸广场', '70', '0.25', '0.3', '0.075'],\n",
      " ['1029', '823', '嘉禾名城', '70', '0.25', '0.3', '0.075'],\n",
      " ['1026', '821', '嘉禾广场', '70', '0.25', '0.3', '0.075'],\n",
      " ['983', '786', '佳扬商业广场', '70', '0.25', '0.3', '0.075'],\n",
      " ['1094', '875', '丰兴商业广场', '70', '0.08', '0.3', '0.024'],\n",
      " ['365', '292', '德国美诺Miele天汇广场igc授权体验店', '71', '1', '0.3', '0.3'],\n",
      " ['365', '292', 'IGC天汇广场', '71', '1', '0.3', '0.3'],\n",
      " ['422', '338', '珠江道', '71', '1', '0.3', '0.3'],\n",
      " ['440', '352', '优托邦东翼商场', '71', '0.9', '0.3', '0.27'],\n",
      " ['581', '465', '优托邦西翼商场', '71', '0.9', '0.3', '0.27'],\n",
      " ['590', '472', 'MeiMeiKeTing客厅', '71', '0.9', '0.3', '0.27'],\n",
      " ['998', '798', '高德置地广场·冬', '71', '0.25', '0.3', '0.075'],\n",
      " ['1107', '886', '广州K11购物艺术中心', '71', '0.08', '0.3', '0.024'],\n",
      " ['1211', '969', '高德置地广场·秋', '71', '0.08', '0.3', '0.024'],\n",
      " ['1228', '982', 'jumeirah', '71', '0.08', '0.3', '0.024'],\n",
      " ['1033', '826', '玫零之家', '72', '0.25', '0.3', '0.075'],\n",
      " ['461', '369', '博兴购物广场', '72', '0.9', '0.3', '0.27'],\n",
      " ['275', '220', '淘宝城C座', '74', '1', '0.3', '0.3'],\n",
      " ['398', '318', '西门町购物天地', '74', '1', '0.3', '0.3'],\n",
      " ['472', '378', '大同世界广场', '74', '0.9', '0.3', '0.27'],\n",
      " ['1186', '949', '金佳活力城', '74', '0.08', '0.3', '0.024'],\n",
      " ['1249', '999', '南华商贸城', '74', '0.08', '0.3', '0.024'],\n",
      " ['1270', '1016', '壹号潮流', '74', '0.08', '0.3', '0.024'],\n",
      " ['1119', '895', '百德商业中心', '74', '0.08', '0.3', '0.024'],\n",
      " ['1213', '970', 'MEIFUBAO(大润发店)', '74', '0.08', '0.3', '0.024'],\n",
      " ['1079', '863', '奥园广场(福德路店)', '74', '0.25', '0.3', '0.075'],\n",
      " ['1296', '1037', '西丽汇广场', '74', '0.08', '0.3', '0.024'],\n",
      " ['1249', '999', '西丽汇商业中心', '74', '0.08', '0.3', '0.024'],\n",
      " ['207', '166', '盛荟', '75', '1', '0.3', '0.3'],\n",
      " ['469', '375', '俊龙商贸', '75', '0.9', '0.3', '0.27'],\n",
      " ['457', '366', '万鼎外贸城', '75', '0.9', '0.3', '0.27'],\n",
      " ['381', '305', '石井国际', '75', '1', '0.3', '0.3'],\n",
      " ['697', '558', '丰兴广场', '75', '0.55', '0.3', '0.165'],\n",
      " ['909', '727', '嘉福商业广场(石沙路)', '75', '0.25', '0.3', '0.075'],\n",
      " ['967', '774', '庆丰商业中心', '75', '0.25', '0.3', '0.075'],\n",
      " ['815', '652', '红星商业广场(石沙路)', '75', '0.55', '0.3', '0.165'],\n",
      " ['904', '723', '庆丰商业广场', '75', '0.25', '0.3', '0.075'],\n",
      " ['1055', '844', '训榕溪店', '75', '0.25', '0.3', '0.075'],\n",
      " ['995', '796', '石井城市广场', '75', '0.25', '0.3', '0.075'],\n",
      " ['1157', '926', '广大商贸城', '75', '0.08', '0.3', '0.024'],\n",
      " ['956', '765', 'LIQUID CARE', '75', '0.25', '0.3', '0.075'],\n",
      " ['1272', '1018', '佳丰购物中心', '75', '0.08', '0.3', '0.024'],\n",
      " ['1089', '871', '万家广场(庆丰牌坊路)', '75', '0.08', '0.3', '0.024'],\n",
      " ['1278', '1022', '庆丰财智广场-进口商品直购体验中心', '75', '0.08', '0.3', '0.024'],\n",
      " ['567', '454', '棠潮女人街', '76', '0.9', '0.3', '0.27'],\n",
      " ['944', '755', '旺角商城(棠东丰乐路)', '76', '0.25', '0.3', '0.075'],\n",
      " ['492', '394', '乐天棠德广场', '76', '0.9', '0.3', '0.27'],\n",
      " ['563', '450', 'Ty专柜(乐天棠德广场)', '76', '0.9', '0.3', '0.27'],\n",
      " ['791', '633', '骏唐购物广场', '76', '0.55', '0.3', '0.165'],\n",
      " ['600', '480', 'purefire', '76', '0.9', '0.3', '0.27'],\n",
      " ['710', '568', '棠汇广场', '76', '0.55', '0.3', '0.165'],\n",
      " ['824', '659', '棠德南购物广场', '76', '0.55', '0.3', '0.165'],\n",
      " ['1223', '978', '凯得奥特莱斯', '76', '0.08', '0.3', '0.024'],\n",
      " ['1291', '1033', '鼎富时代广场', '76', '0.08', '0.3', '0.024'],\n",
      " ['394', '315', '光塔综合商场', '77', '1', '0.3', '0.3'],\n",
      " ['611', '489', 'BORRMAN', '77', '0.9', '0.3', '0.27'],\n",
      " ['694', '555', '羊城商厦车场出口上乐安坊', '77', '0.55', '0.3', '0.165'],\n",
      " ['707', '566', '万菱广场', '77', '0.55', '0.3', '0.165'],\n",
      " ['796', '637', '大南居商场', '77', '0.55', '0.3', '0.165'],\n",
      " ['919', '735', '德宝交易广场', '77', '0.25', '0.3', '0.075'],\n",
      " ['933', '746', '海印缤缤广场', '77', '0.25', '0.3', '0.075'],\n",
      " ['902', '722', '华联时尚裁改(中山五路店)', '77', '0.25', '0.3', '0.075'],\n",
      " ['853', '682', 'HIGHSUN BINBIN PLAZA', '77', '0.55', '0.3', '0.165'],\n",
      " ['1126', '901', '海然行', '77', '0.08', '0.3', '0.024'],\n",
      " ['916', '733', '光明广场', '77', '0.25', '0.3', '0.075'],\n",
      " ['1131', '905', '泰康仰忠精品批发城', '77', '0.08', '0.3', '0.024'],\n",
      " ['1004', '803', '广州动漫星城广场(中山五路)', '77', '0.25', '0.3', '0.075'],\n",
      " ['1000', '800', 'luckymi专柜', '77', '0.25', '0.3', '0.075'],\n",
      " ['1225', '980', '润丰商贸城', '77', '0.08', '0.3', '0.024'],\n",
      " ['1046', '837', '广百广场', '77', '0.25', '0.3', '0.075'],\n",
      " ['1046', '837', '骏亿品牌中心', '77', '0.25', '0.3', '0.075'],\n",
      " ['1182', '946', '潮流贸易商场', '77', '0.08', '0.3', '0.024'],\n",
      " ['1275', '1020', '骏田批发广场', '77', '0.08', '0.3', '0.024'],\n",
      " ['1151', '921', 'Amall商场', '77', '0.08', '0.3', '0.024'],\n",
      " ['1151', '921', 'N23商场', '77', '0.08', '0.3', '0.024'],\n",
      " ['1095', '876', '广百百货(北京路店)', '77', '0.08', '0.3', '0.024'],\n",
      " ['1157', '926', '荣戈百货', '77', '0.08', '0.3', '0.024'],\n",
      " ['1195', '956', 'ABC-石烧安格斯牛扒(北京路店)', '77', '0.08', '0.3', '0.024'],\n",
      " ['1233', '986', '趣优游专柜', '77', '0.08', '0.3', '0.024'],\n",
      " ['1231', '985', '天河城', '77', '0.08', '0.3', '0.024'],\n",
      " ['1294', '1035', '大马站商业中心', '77', '0.08', '0.3', '0.024'],\n",
      " ['1247', '998', '信木岚(粤海仰忠汇店)', '77', '0.08', '0.3', '0.024'],\n",
      " ['1147', '918', '源盛商场', '77', '0.08', '0.3', '0.024'],\n",
      " ['1279', '1023', 'PLAZA', '77', '0.08', '0.3', '0.024'],\n",
      " ['1209', '967', '天河城百货(北京路店)', '77', '0.08', '0.3', '0.024'],\n",
      " ['1209', '967', '名盛广场', '77', '0.08', '0.3', '0.024'],\n",
      " ['1264', '1011', '东城商务', '77', '0.08', '0.3', '0.024'],\n",
      " ['956', '765', '增江商业广场', '78', '0.25', '0.3', '0.075'],\n",
      " ['1226', '981', '天马商贸城', '78', '0.08', '0.3', '0.024'],\n",
      " ['153', '122', '德宝交易广场', '79', '1', '0.3', '0.3'],\n",
      " ['230', '184', '海然行', '79', '1', '0.3', '0.3'],\n",
      " ['304', '243', '万菱广场', '79', '1', '0.3', '0.3'],\n",
      " ['325', '260', '润丰商贸城', '79', '1', '0.3', '0.3'],\n",
      " ['545', '436', '海印缤缤广场', '79', '0.9', '0.3', '0.27'],\n",
      " ['651', '521', 'HIGHSUN BINBIN PLAZA', '79', '0.9', '0.3', '0.27'],\n",
      " ['674', '539', '潮流贸易商场', '79', '0.55', '0.3', '0.165'],\n",
      " ['708', '566', 'FABLEMODELS', '79', '0.55', '0.3', '0.165'],\n",
      " ['731', '585', '大同坊服装批发城(一德路)', '79', '0.55', '0.3', '0.165'],\n",
      " ['936', '749', '泰康仰忠精品批发城', '79', '0.25', '0.3', '0.075'],\n",
      " ['1040', '832', '乐嘉嘉商场', '79', '0.25', '0.3', '0.075'],\n",
      " ['998', '798', '东城商务', '79', '0.25', '0.3', '0.075'],\n",
      " ['1000', '800', '行大时代', '79', '0.25', '0.3', '0.075'],\n",
      " ['1114', '891', '源盛商场', '79', '0.08', '0.3', '0.024'],\n",
      " ['1045', '836', '新中国1诚大', '79', '0.25', '0.3', '0.075'],\n",
      " ['1011', '809', '威柏商场', '79', '0.25', '0.3', '0.075'],\n",
      " ['1283', '1026', 'BORRMAN', '79', '0.08', '0.3', '0.024'],\n",
      " ['1252', '1002', '大南居商场', '79', '0.08', '0.3', '0.024'],\n",
      " ['1123', '898', '南方大厦(沿江西路)', '79', '0.08', '0.3', '0.024'],\n",
      " ['1166', '933', '兴隆商城', '79', '0.08', '0.3', '0.024'],\n",
      " ['1166', '933', '骏田批发广场', '79', '0.08', '0.3', '0.024'],\n",
      " ['312', '250', '润丰商贸城', '80', '1', '0.3', '0.3'],\n",
      " ['250', '200', '潮流贸易商场', '80', '1', '0.3', '0.3'],\n",
      " ['454', '363', '海然行', '80', '0.9', '0.3', '0.27'],\n",
      " ['460', '368', '大同坊服装批发城(一德路)', '80', '0.9', '0.3', '0.27'],\n",
      " ['564', '451', '德宝交易广场', '80', '0.9', '0.3', '0.27'],\n",
      " ['727', '582', '东城商务', '80', '0.55', '0.3', '0.165'],\n",
      " ['688', '550', '源盛商场', '80', '0.55', '0.3', '0.165'],\n",
      " ['787', '630', '万菱广场', '80', '0.55', '0.3', '0.165'],\n",
      " ['729', '583', '行大时代', '80', '0.55', '0.3', '0.165'],\n",
      " ['774', '619', '新中国1诚大', '80', '0.55', '0.3', '0.165'],\n",
      " ['868', '694', '乐嘉嘉商场', '80', '0.55', '0.3', '0.165'],\n",
      " ['786', '629', 'BORRMAN', '80', '0.55', '0.3', '0.165'],\n",
      " ['1088', '870', '13 CENTRE(13中心)', '80', '0.08', '0.3', '0.024'],\n",
      " ['879', '703', '羊城商厦车场出口上乐安坊', '80', '0.25', '0.3', '0.075'],\n",
      " ['1028', '822', '海印缤缤广场', '80', '0.25', '0.3', '0.075'],\n",
      " ['895', '716', '兴隆商城', '80', '0.25', '0.3', '0.075'],\n",
      " ['1004', '803', '威柏商场', '80', '0.25', '0.3', '0.075'],\n",
      " ['1134', '907', 'HIGHSUN BINBIN PLAZA', '80', '0.08', '0.3', '0.024'],\n",
      " ['1116', '893', '南方大厦(沿江西路)', '80', '0.08', '0.3', '0.024'],\n",
      " ['1227', '982', '流行潮楼', '80', '0.08', '0.3', '0.024'],\n",
      " ['1269', '1015', '东急新天地购物广场', '80', '0.08', '0.3', '0.024'],\n",
      " ['500', '400', '圣宝龙中心', '81', '0.9', '0.3', '0.27'],\n",
      " ['820', '656', '华苑商业广场', '81', '0.55', '0.3', '0.165'],\n",
      " ['1180', '944', '壹号文化广场', '81', '0.08', '0.3', '0.024'],\n",
      " ['1132', '906', '花地城广场', '81', '0.08', '0.3', '0.024'],\n",
      " ['77', '62', '广百广场', '82', '1', '0.3', '0.3'],\n",
      " ['77', '62', '骏亿品牌中心', '82', '1', '0.3', '0.3'],\n",
      " ['130', '104', '广百百货(北京路店)', '82', '1', '0.3', '0.3'],\n",
      " ['147', '118', '光明广场', '82', '1', '0.3', '0.3'],\n",
      " ['325', '260', '大马站商业中心', '82', '1', '0.3', '0.3'],\n",
      " ['370', '296', 'PLAZA', '82', '1', '0.3', '0.3'],\n",
      " ['514', '411', '五月花商业广场', '82', '0.9', '0.3', '0.27'],\n",
      " ['321', '257', 'N23商场', '82', '1', '0.3', '0.3'],\n",
      " ['321', '257', 'Amall商场', '82', '1', '0.3', '0.3'],\n",
      " ['554', '443', '城壹汇', '82', '0.9', '0.3', '0.27'],\n",
      " ['517', '414', '新大新百货(北京路分店)', '82', '0.9', '0.3', '0.27'],\n",
      " ['332', '266', '天河城百货(北京路店)', '82', '1', '0.3', '0.3'],\n",
      " ['332', '266', '名盛广场', '82', '1', '0.3', '0.3'],\n",
      " ['560', '448', '仙妮蕾德(天河城百货店)', '82', '0.9', '0.3', '0.27'],\n",
      " ['481', '385', '广州动漫星城广场(中山五路)', '82', '0.9', '0.3', '0.27'],\n",
      " ['481', '385', 'luckymi专柜', '82', '0.9', '0.3', '0.27'],\n",
      " ['550', '440', '大南居商场', '82', '0.9', '0.3', '0.27'],\n",
      " ['531', '425', '金佰利广场', '82', '0.9', '0.3', '0.27'],\n",
      " ['580', '464', '荣戈百货', '82', '0.9', '0.3', '0.27'],\n",
      " ['549', '439', '华联时尚裁改(中山五路店)', '82', '0.9', '0.3', '0.27'],\n",
      " ['618', '494', 'ABC-石烧安格斯牛扒(北京路店)', '82', '0.9', '0.3', '0.27'],\n",
      " ['656', '525', '趣优游专柜', '82', '0.55', '0.3', '0.165'],\n",
      " ['654', '523', '天河城', '82', '0.55', '0.3', '0.165'],\n",
      " ['670', '536', '信木岚(粤海仰忠汇店)', '82', '0.55', '0.3', '0.165'],\n",
      " ['698', '558', '骏田批发广场', '82', '0.55', '0.3', '0.165'],\n",
      " ['965', '772', '广州亚太精品交易中心', '82', '0.25', '0.3', '0.075'],\n",
      " ['831', '665', '北京大厦饰博城', '82', '0.55', '0.3', '0.165'],\n",
      " ['1203', '962', '光塔综合商场', '82', '0.08', '0.3', '0.024'],\n",
      " ['1088', '870', '泰康仰忠精品批发城', '82', '0.08', '0.3', '0.024'],\n",
      " ['1252', '1002', '粤海·得邻', '82', '0.08', '0.3', '0.024'],\n",
      " ['1158', '926', 'HIGHSUN BINBIN PLAZA', '82', '0.08', '0.3', '0.024'],\n",
      " ['1225', '980', '海印缤缤广场', '82', '0.08', '0.3', '0.024'],\n",
      " ['240', '192', 'QQ生活馆', '83', '1', '0.3', '0.3'],\n",
      " ['1235', '988', '威柏商场', '83', '0.08', '0.3', '0.024'],\n",
      " ['1193', '954', '南方大厦(沿江西路)', '83', '0.08', '0.3', '0.024'],\n",
      " ['982', '786', '中集e站', '83', '0.25', '0.3', '0.075'],\n",
      " ['1004', '803', '龙凤街百货', '83', '0.25', '0.3', '0.075'],\n",
      " ['1225', '980', 'TC宏宇同创汇商场', '83', '0.08', '0.3', '0.024'],\n",
      " ['67', '54', '永泰商业广场', '85', '1', '0.3', '0.3'],\n",
      " ['190', '152', '宝湾广场', '85', '1', '0.3', '0.3'],\n",
      " ['305', '244', '金骊城', '85', '1', '0.3', '0.3'],\n",
      " ['305', '244', '金骊广场', '85', '1', '0.3', '0.3'],\n",
      " ['538', '430', '永泰站生活广场', '85', '0.9', '0.3', '0.27'],\n",
      " ['504', '403', '嘉福广场', '85', '0.9', '0.3', '0.27'],\n",
      " ['617', '494', '泰尚城', '85', '0.9', '0.3', '0.27'],\n",
      " ['991', '793', '世联永泰里', '85', '0.25', '0.3', '0.075'],\n",
      " ['842', '674', '家为百货', '85', '0.55', '0.3', '0.165'],\n",
      " ['1025', '820', '元汇时尚城', '85', '0.25', '0.3', '0.075'],\n",
      " ['962', '770', '元下田商业广场', '85', '0.25', '0.3', '0.075'],\n",
      " ['1230', '984', '安华汇-A馆', '85', '0.08', '0.3', '0.024'],\n",
      " ['272', '218', '和畅广场', '86', '1', '0.3', '0.3'],\n",
      " ['617', '494', '秀山楼商贸城', '86', '0.9', '0.3', '0.27'],\n",
      " ['614', '491', '乐嘉商业广场', '86', '0.9', '0.3', '0.27'],\n",
      " ['1222', '978', '时代商业中心', '86', '0.08', '0.3', '0.024'],\n",
      " ['1274', '1019', '中福商业中心', '86', '0.08', '0.3', '0.024'],\n",
      " ['326', '261', '广东天健商业广场', '87', '1', '0.3', '0.3'],\n",
      " ['814', '651', '利多多商业园', '87', '0.55', '0.3', '0.165'],\n",
      " ['1077', '862', '毅兴商业城', '87', '0.25', '0.3', '0.075'],\n",
      " ['958', '766', '新天地广场(广州大道北)', '87', '0.25', '0.3', '0.075'],\n",
      " ['1292', '1034', '金铂天地', '87', '0.08', '0.3', '0.024'],\n",
      " ['999', '799', '欧御广场', '88', '0.25', '0.3', '0.075'],\n",
      " ['626', '501', '长兴商贸综合城', '89', '0.9', '0.3', '0.27'],\n",
      " ['1284', '1027', '你我您岑村区团购', '89', '0.08', '0.3', '0.024'],\n",
      " ['1102', '882', '奥买家(奥园广场店)', '90', '0.08', '0.3', '0.024'],\n",
      " ['1047', '838', '海伦&购物公园', '90', '0.25', '0.3', '0.075'],\n",
      " ['1121', '897', '奥园广场(福德路店)', '90', '0.08', '0.3', '0.024'],\n",
      " ['909', '727', '天汇百汇购物中心(鱼窝头店)', '91', '0.25', '0.3', '0.075'],\n",
      " ['1057', '846', '大利家百货', '91', '0.25', '0.3', '0.075'],\n",
      " ['764', '611', 'OUTLETS', '92', '0.55', '0.3', '0.165'],\n",
      " ['659', '527', '上步商贸广场', '92', '0.55', '0.3', '0.165'],\n",
      " ['844', '675', '怡盛广场', '92', '0.55', '0.3', '0.165'],\n",
      " ['794', '635', '同德商业广场', '92', '0.55', '0.3', '0.165'],\n",
      " ['974', '779', '康乃馨商贸城', '92', '0.25', '0.3', '0.075'],\n",
      " ['982', '786', '中天广场', '92', '0.25', '0.3', '0.075'],\n",
      " ['995', '796', '骏富商贸城E区', '92', '0.25', '0.3', '0.075'],\n",
      " ['1195', '956', '骏荣商业广场', '92', '0.08', '0.3', '0.024'],\n",
      " ['1005', '804', '骏富商贸城A区', '92', '0.25', '0.3', '0.075'],\n",
      " ['1139', '911', '溪雨国际广场', '92', '0.08', '0.3', '0.024'],\n",
      " ['1290', '1032', '新都汇购物广场', '92', '0.08', '0.3', '0.024'],\n",
      " ['1304', '1043', '骏盈广场', '92', '0.08', '0.3', '0.024'],\n",
      " ['248', '198', '天河汇商业广场', '93', '1', '0.3', '0.3'],\n",
      " ['326', '261', 'LI-NING Factory Store(时代广场店)', '93', '1', '0.3', '0.3'],\n",
      " ['321', '257', '广州友谊OUTLETS购物中心(时代广场)', '93', '1', '0.3', '0.3'],\n",
      " ['400', '320', '时代广场(天河北路店)', '93', '1', '0.3', '0.3'],\n",
      " ['482', '386', '天河北店', '93', '0.9', '0.3', '0.27'],\n",
      " ['512', '410', '天河北100生活馆', '93', '0.9', '0.3', '0.27'],\n",
      " ['774', '619', 'VT101维多利广场', '93', '0.55', '0.3', '0.165'],\n",
      " ['780', '624', '直通车商业广场(体育西路)', '93', '0.55', '0.3', '0.165'],\n",
      " ['774', '619', 'APBL', '93', '0.55', '0.3', '0.165'],\n",
      " ['684', '547', '广州购物中心', '93', '0.55', '0.3', '0.165'],\n",
      " ['722', '578', '直通车商业广场(体育西路店)', '93', '0.55', '0.3', '0.165'],\n",
      " ['646', '517', '祥龙商业广场', '93', '0.9', '0.3', '0.27'],\n",
      " ['777', '622', '中怡时尚购物中心', '93', '0.55', '0.3', '0.165'],\n",
      " ['819', '655', '广百百货(天河中怡店)', '93', '0.55', '0.3', '0.165'],\n",
      " ['968', '774', '永旺百货(天河城店)', '93', '0.25', '0.3', '0.075'],\n",
      " ['1006', '805', '天河城', '93', '0.25', '0.3', '0.075'],\n",
      " ['1131', '905', '时尚天河商业广场', '93', '0.08', '0.3', '0.024'],\n",
      " ['1239', '991', 'SEALLOVE', '93', '0.08', '0.3', '0.024'],\n",
      " ['1002', '802', '中天购物城', '93', '0.25', '0.3', '0.075'],\n",
      " ['1303', '1042', '天环PARC CENTRAL', '93', '0.08', '0.3', '0.024'],\n",
      " ['1192', '954', '若比邻社区商业中心(广州东风广场店)', '93', '0.08', '0.3', '0.024'],\n",
      " ['422', '338', '菁浦荟', '94', '1', '0.3', '0.3'],\n",
      " ['663', '530', '君立·君荟坊', '94', '0.55', '0.3', '0.165'],\n",
      " ['920', '736', '雄洲同和广场', '94', '0.25', '0.3', '0.075'],\n",
      " ['988', '790', '雄洲城', '94', '0.25', '0.3', '0.075'],\n",
      " ['1167', '934', '金铂天地', '94', '0.08', '0.3', '0.024'],\n",
      " ['1184', '947', '同和商贸综合广场', '94', '0.08', '0.3', '0.024'],\n",
      " ['856', '685', '新大新百货(北京路分店)', '95', '0.55', '0.3', '0.165'],\n",
      " ['973', '778', 'Amall商场', '95', '0.25', '0.3', '0.075'],\n",
      " ['1007', '806', 'N23商场', '95', '0.25', '0.3', '0.075'],\n",
      " ['947', '758', '城壹汇', '95', '0.25', '0.3', '0.075'],\n",
      " ['878', '702', '大马站商业中心', '95', '0.25', '0.3', '0.075'],\n",
      " ['1154', '923', 'luckymi专柜', '95', '0.08', '0.3', '0.024'],\n",
      " ['1208', '966', '广州动漫星城广场(中山五路)', '95', '0.08', '0.3', '0.024'],\n",
      " ['1036', '829', 'PLAZA', '95', '0.25', '0.3', '0.075'],\n",
      " ['1044', '835', '广百百货(北京路店)', '95', '0.25', '0.3', '0.075'],\n",
      " ['1066', '853', '骏亿品牌中心', '95', '0.25', '0.3', '0.075'],\n",
      " ['1304', '1043', '华联时尚裁改(中山五路店)', '95', '0.08', '0.3', '0.024'],\n",
      " ['1104', '883', '广百广场', '95', '0.08', '0.3', '0.024'],\n",
      " ['1244', '995', '名盛广场', '95', '0.08', '0.3', '0.024'],\n",
      " ['1244', '995', '天河城百货(北京路店)', '95', '0.08', '0.3', '0.024'],\n",
      " ['1269', '1015', '光明广场', '95', '0.08', '0.3', '0.024'],\n",
      " ['282', '226', '骐利广场', '96', '1', '0.3', '0.3'],\n",
      " ['466', '373', '骏盈广场', '96', '0.9', '0.3', '0.27'],\n",
      " ['771', '617', '新都汇购物广场', '96', '0.55', '0.3', '0.165'],\n",
      " ['1092', '874', '中天广场', '96', '0.08', '0.3', '0.024'],\n",
      " ['1161', '929', '同德商业广场', '96', '0.08', '0.3', '0.024'],\n",
      " ['803', '642', '柴宝里(装修中)', '96', '0.55', '0.3', '0.165'],\n",
      " ['808', '646', '越秀可逸江畔·悦汇时光', '97', '0.55', '0.3', '0.165'],\n",
      " ['1199', '959', '天鸿百货(金业路)', '97', '0.08', '0.3', '0.024'],\n",
      " ['569', '455', '龙凤街百货', '99', '0.9', '0.3', '0.27'],\n",
      " ['593', '474', '凤凰展贸易城', '99', '0.9', '0.3', '0.27'],\n",
      " ['985', '788', 'QQ生活馆', '99', '0.25', '0.3', '0.075'],\n",
      " ['1037', '830', 'TC宏宇同创汇商场', '99', '0.25', '0.3', '0.075'],\n",
      " ['955', '764', '中集e站', '99', '0.25', '0.3', '0.075'],\n",
      " ['1115', '892', '可逸倾城', '99', '0.08', '0.3', '0.024'],\n",
      " ['1026', '821', '现代广场家信商业中心', '99', '0.25', '0.3', '0.075'],\n",
      " ['1087', '870', '江南西恒基商城', '99', '0.25', '0.3', '0.075'],\n",
      " ['331', '265', 'MERVYNS', '100', '1', '0.3', '0.3'],\n",
      " ['599', '479', 'Kimlife Home', '100', '0.9', '0.3', '0.27'],\n",
      " ['939', '751', '新市天地', '100', '0.25', '0.3', '0.075'],\n",
      " ['1116', '893', '联富文化商业广场', '100', '0.08', '0.3', '0.024'],\n",
      " ['1177', '942', '丰兴商城', '100', '0.08', '0.3', '0.024'],\n",
      " ['1230', '984', '太阳广场', '100', '0.08', '0.3', '0.024'],\n",
      " ['48', '38', 'aipei', '102', '1', '0.3', '0.3'],\n",
      " ['524', '419', '星荟商业街', '102', '0.9', '0.3', '0.27'],\n",
      " ['625', '500', '鸿润二场', '103', '0.9', '0.3', '0.27'],\n",
      " ['743', '594', 'VIOLA', '104', '0.55', '0.3', '0.165'],\n",
      " ['648', '518', '永福购物广场', '104', '0.9', '0.3', '0.27'],\n",
      " ['879', '703', '联兴商贸广场', '104', '0.25', '0.3', '0.075'],\n",
      " ['760', '608', '家沃商业广场', '104', '0.55', '0.3', '0.165'],\n",
      " ['887', '710', '嘉鼎广场', '104', '0.25', '0.3', '0.075'],\n",
      " ['703', '562', '广丰商场', '104', '0.55', '0.3', '0.165'],\n",
      " ['817', '654', '名城商城', '104', '0.55', '0.3', '0.165'],\n",
      " ['878', '702', '嘉禾广场', '104', '0.25', '0.3', '0.075'],\n",
      " ['835', '668', '佳扬商业广场', '104', '0.55', '0.3', '0.165'],\n",
      " ['920', '736', '嘉禾名城', '104', '0.25', '0.3', '0.075'],\n",
      " ['947', '758', '丰兴商业广场', '104', '0.25', '0.3', '0.075'],\n",
      " ['333', '266', 'CHASE LUCK', '105', '1', '0.3', '0.3'],\n",
      " ['569', '455', '海珠·合生生活天地', '105', '0.9', '0.3', '0.27'],\n",
      " ['472', '378', '铭成汇', '105', '0.9', '0.3', '0.27'],\n",
      " ['606', '485', '信和广场', '105', '0.9', '0.3', '0.27'],\n",
      " ['477', '382', 'Mall商场', '105', '0.9', '0.3', '0.27'],\n",
      " ['490', '392', '江南坊', '105', '0.9', '0.3', '0.27'],\n",
      " ['739', '591', '佳都商贸中心', '105', '0.55', '0.3', '0.165'],\n",
      " ['464', '371', 'T.I.T润政广场', '105', '0.9', '0.3', '0.27'],\n",
      " ['736', '589', '金园商贸城', '105', '0.55', '0.3', '0.165'],\n",
      " ['752', '602', '海冠商城', '105', '0.55', '0.3', '0.165'],\n",
      " ['700', '560', '万科里购物中心', '105', '0.55', '0.3', '0.165'],\n",
      " ['1015', '812', '壹加壹超市(田心街店)', '105', '0.25', '0.3', '0.075'],\n",
      " ['632', '506', '蓝天里', '105', '0.9', '0.3', '0.27'],\n",
      " ['750', '600', '燕汇广场', '105', '0.55', '0.3', '0.165'],\n",
      " ['649', '519', '江南综合商场(玫瑰二街)', '105', '0.9', '0.3', '0.27'],\n",
      " ['756', '605', '新安购物广场', '105', '0.55', '0.3', '0.165'],\n",
      " ['786', '629', '摩登百货(海购店)', '105', '0.55', '0.3', '0.165'],\n",
      " ['755', '604', '江泰广场', '105', '0.55', '0.3', '0.165'],\n",
      " ['1300', '1040', '印象万家生活广场', '105', '0.08', '0.3', '0.024'],\n",
      " ['1190', '952', '润汇广场', '105', '0.08', '0.3', '0.024'],\n",
      " ['991', '793', '富力海珠城', '105', '0.25', '0.3', '0.075'],\n",
      " ['994', '795', 'IP Station', '105', '0.25', '0.3', '0.075'],\n",
      " ['1143', '914', '富力海珠城A区', '105', '0.08', '0.3', '0.024'],\n",
      " ['1245', '996', '时尚场', '105', '0.08', '0.3', '0.024'],\n",
      " ['1223', '978', '江南西·名店城', '105', '0.08', '0.3', '0.024'],\n",
      " ['1300', '1040', '江南西人', '105', '0.08', '0.3', '0.024'],\n",
      " ['1193', '954', '名店城(江南西路)', '105', '0.08', '0.3', '0.024'],\n",
      " ['170', '136', 'MeiMeiKeTing客厅', '106', '1', '0.3', '0.3'],\n",
      " ['437', '350', '优托邦西翼商场', '106', '0.9', '0.3', '0.27'],\n",
      " ['359', '287', '德国美诺Miele天汇广场igc授权体验店', '106', '1', '0.3', '0.3'],\n",
      " ['359', '287', 'IGC天汇广场', '106', '1', '0.3', '0.3'],\n",
      " ['379', '303', '优托邦东翼商场', '106', '1', '0.3', '0.3'],\n",
      " ['567', '454', '广州K11购物艺术中心', '106', '0.9', '0.3', '0.27'],\n",
      " ['515', '412', '高德置地广场·冬', '106', '0.9', '0.3', '0.27'],\n",
      " ['818', '654', '四特酒百信购物中心', '106', '0.55', '0.3', '0.165'],\n",
      " ['728', '582', '高德置地广场·秋', '106', '0.55', '0.3', '0.165'],\n",
      " ['925', '740', '裙楼商场', '106', '0.25', '0.3', '0.075'],\n",
      " ['1011', '809', '广州友谊商店(国金店)', '106', '0.25', '0.3', '0.075'],\n",
      " ['1020', '816', '珠江道', '106', '0.25', '0.3', '0.075'],\n",
      " ['1139', '911', '广州国金天地购物中心', '106', '0.08', '0.3', '0.024'],\n",
      " ['1031', '825', '二层商场', '106', '0.25', '0.3', '0.075'],\n",
      " ['1141', '913', '澳门丰云店', '106', '0.08', '0.3', '0.024'],\n",
      " ['975', '780', '花城汇', '106', '0.25', '0.3', '0.075'],\n",
      " ['1293', '1034', '高德置地广场·春', '106', '0.08', '0.3', '0.024'],\n",
      " ['1133', '906', '维家思广场', '106', '0.08', '0.3', '0.024'],\n",
      " ['1245', '996', '珠江新城', '106', '0.08', '0.3', '0.024'],\n",
      " ['745', '596', 'jumeirah', '106', '0.55', '0.3', '0.165'],\n",
      " ['233', '186', '世纪华联购物广场', '107', '1', '0.3', '0.3'],\n",
      " ['739', '591', '优选家', '107', '0.55', '0.3', '0.165'],\n",
      " ['365', '292', '外商·琥珀广场', '107', '1', '0.3', '0.3'],\n",
      " ['1135', '908', '华忆丽晶广场', '107', '0.08', '0.3', '0.024'],\n",
      " ['1164', '931', '丽晶都汇', '107', '0.08', '0.3', '0.024'],\n",
      " ['949', '759', '保利克洛维二期时光汇购物中心', '107', '0.25', '0.3', '0.075'],\n",
      " ['1065', '852', '中盈广场', '107', '0.25', '0.3', '0.075'],\n",
      " ['921', '737', 'IP Station', '107', '0.25', '0.3', '0.075'],\n",
      " ['1189', '951', '美豪广场', '107', '0.08', '0.3', '0.024'],\n",
      " ['1131', '905', '南天广场', '107', '0.08', '0.3', '0.024'],\n",
      " ['1193', '954', '富力盈信大厦商场', '107', '0.08', '0.3', '0.024'],\n",
      " ['1191', '953', '佰盈商业城', '107', '0.08', '0.3', '0.024'],\n",
      " ['1298', '1038', 'YSHS', '107', '0.08', '0.3', '0.024'],\n",
      " ['761', '609', '嘉乐源百货', '108', '0.55', '0.3', '0.165'],\n",
      " ['664', '531', '一佳百货', '108', '0.55', '0.3', '0.165'],\n",
      " ['1217', '974', '四二四二淘宝店', '108', '0.08', '0.3', '0.024'],\n",
      " ['998', '798', '盈邦商业中心', '108', '0.25', '0.3', '0.075'],\n",
      " ['425', '340', '衣之家百货(市新路店)', '109', '1', '0.3', '0.3'],\n",
      " ['861', '689', '菜鸟百货商场蔡一村(市桥E)流通', '109', '0.55', '0.3', '0.165'],\n",
      " ['236', '189', '丰兴广场', '110', '1', '0.3', '0.3'],\n",
      " ['575', '460', '万鼎外贸城', '110', '0.9', '0.3', '0.27'],\n",
      " ['705', '564', '俊龙商贸', '110', '0.55', '0.3', '0.165'],\n",
      " ['795', '636', '盛荟', '110', '0.55', '0.3', '0.165'],\n",
      " ['865', '692', 'LIQUID CARE', '110', '0.55', '0.3', '0.165'],\n",
      " ['904', '723', '石井城市广场', '110', '0.25', '0.3', '0.075'],\n",
      " ['1263', '1010', '广大商贸城', '110', '0.08', '0.3', '0.024'],\n",
      " ['957', '766', '训榕溪店', '110', '0.25', '0.3', '0.075'],\n",
      " ['1146', '917', '石井国际', '110', '0.08', '0.3', '0.024'],\n",
      " ['830', '664', '优托邦驿站', '111', '0.55', '0.3', '0.165'],\n",
      " ['500', '400', '广州国际农资商品交易城', '111', '0.9', '0.3', '0.27'],\n",
      " ['1009', '807', '21世纪卡通城(优托邦驿站·长兴店东区)', '111', '0.25', '0.3', '0.075'],\n",
      " ['491', '393', '佳恩百货(元岗街店)', '111', '0.9', '0.3', '0.27'],\n",
      " ['970', '776', '天河慧通产业广场A3号楼', '111', '0.25', '0.3', '0.075'],\n",
      " ['991', '793', '元岗商业广场', '111', '0.25', '0.3', '0.075'],\n",
      " ['819', '655', '地下商场', '112', '0.55', '0.3', '0.165'],\n",
      " ['721', '577', 'EFRUlTS', '112', '0.55', '0.3', '0.165'],\n",
      " ['990', '792', '太德商城', '112', '0.25', '0.3', '0.075'],\n",
      " ['577', '462', '永旺超市(番禺广场店)', '112', '0.9', '0.3', '0.27'],\n",
      " ['638', '510', '九鸿广场', '112', '0.9', '0.3', '0.27'],\n",
      " ['724', '579', '永旺梦乐城(番禺广场店)', '112', '0.55', '0.3', '0.165'],\n",
      " ['724', '579', 'AEON MALL(番禺店)', '112', '0.55', '0.3', '0.165'],\n",
      " ['1185', '948', '罗家汇', '112', '0.08', '0.3', '0.024'],\n",
      " ['245', '196', '东方宝泰购物广场', '114', '1', '0.3', '0.3'],\n",
      " ['339', '271', '永旺百货(东方宝泰店)', '114', '1', '0.3', '0.3'],\n",
      " ['696', '557', '红摩坊', '114', '0.55', '0.3', '0.165'],\n",
      " ['769', '615', '中天购物城', '114', '0.55', '0.3', '0.165'],\n",
      " ['1006', '805', '远海建设商业广场', '114', '0.25', '0.3', '0.075'],\n",
      " ['1130', '904', '祥龙商业广场', '114', '0.08', '0.3', '0.024'],\n",
      " ['1191', '953', 'eHi(城光大厦店)', '115', '0.08', '0.3', '0.024'],\n",
      " ['1108', '886', '太平架商业广场', '115', '0.08', '0.3', '0.024'],\n",
      " ['1145', '916', '天平商业广场', '115', '0.08', '0.3', '0.024'],\n",
      " ['634', '507', '金田坊', '116', '0.9', '0.3', '0.27'],\n",
      " ['482', '386', '朗润广场', '116', '0.9', '0.3', '0.27'],\n",
      " ['601', '481', '汇坊(人前店)', '116', '0.9', '0.3', '0.27'],\n",
      " ['774', '619', 'YSHS', '116', '0.55', '0.3', '0.165'],\n",
      " ['747', '598', '远海建设商业广场', '116', '0.55', '0.3', '0.165'],\n",
      " ['950', '760', '多利奥莱(羊城国际商贸中心店)', '116', '0.25', '0.3', '0.075'],\n",
      " ['784', '627', '太古汇', '116', '0.55', '0.3', '0.165'],\n",
      " ['1046', '837', '百福广场', '116', '0.25', '0.3', '0.075'],\n",
      " ['1253', '1002', '莱福广场', '116', '0.08', '0.3', '0.024'],\n",
      " ['1016', '813', '丰兴广场', '116', '0.25', '0.3', '0.075'],\n",
      " ['1073', '858', '236广场', '116', '0.25', '0.3', '0.075'],\n",
      " ['1076', '861', '红摩坊', '116', '0.25', '0.3', '0.075'],\n",
      " ['1193', '954', 'MARVEL', '116', '0.08', '0.3', '0.024'],\n",
      " ['1284', '1027', 'VICTORY', '116', '0.08', '0.3', '0.024'],\n",
      " ['1206', '965', '中天购物城', '116', '0.08', '0.3', '0.024'],\n",
      " ['302', '242', '金丰时代', '117', '1', '0.3', '0.3'],\n",
      " ['275', '220', '易和乐购卖场', '117', '1', '0.3', '0.3'],\n",
      " ['567', '454', '7天广场', '117', '0.9', '0.3', '0.27'],\n",
      " ['757', '606', '金亿里', '117', '0.55', '0.3', '0.165'],\n",
      " ['720', '576', '存幸购物广场', '117', '0.55', '0.3', '0.165'],\n",
      " ['946', '757', '广路商贸城', '117', '0.25', '0.3', '0.075'],\n",
      " ['1120', '896', '雄峰城B1座', '117', '0.08', '0.3', '0.024'],\n",
      " ['497', '398', '壹加壹超市(中塘街店)', '118', '0.9', '0.3', '0.27'],\n",
      " ['997', '798', 'Face Time', '118', '0.25', '0.3', '0.075'],\n",
      " ['1135', '908', '广州萝岗万达广场', '118', '0.08', '0.3', '0.024'],\n",
      " ['1289', '1031', '优托邦(科学城店)', '118', '0.08', '0.3', '0.024'],\n",
      " ['1304', '1043', '高德汇购物中心(科学城店)', '118', '0.08', '0.3', '0.024'],\n",
      " ['373', '298', '悦生活专柜', '120', '1', '0.3', '0.3'],\n",
      " ['330', '264', '品牌优选荟(新大新百货店)', '120', '1', '0.3', '0.3'],\n",
      " ['254', '203', 'LN-WAY专柜', '120', '1', '0.3', '0.3'],\n",
      " ['814', '651', '国东商城', '120', '0.55', '0.3', '0.165'],\n",
      " ['1013', '810', '迎宾楼商场', '120', '0.25', '0.3', '0.075'],\n",
      " ['873', '698', 'Ailika', '120', '0.25', '0.3', '0.075'],\n",
      " ['877', '702', '王府井百货', '120', '0.25', '0.3', '0.075'],\n",
      " ['888', '710', '广百百货(东山店)', '120', '0.25', '0.3', '0.075'],\n",
      " ['962', '770', '东山汇', '120', '0.25', '0.3', '0.075'],\n",
      " ['834', '667', '广百百货', '120', '0.55', '0.3', '0.165'],\n",
      " ['1042', '834', '广州友谊商店', '120', '0.25', '0.3', '0.075'],\n",
      " ['992', '794', 'ec专柜', '120', '0.25', '0.3', '0.075'],\n",
      " ['1002', '802', 'tittot(广州友谊商店北区)', '120', '0.25', '0.3', '0.075'],\n",
      " ['1104', '883', '寓米先烈南路时代YOU店', '120', '0.08', '0.3', '0.024'],\n",
      " ['1076', '861', '丽柏广场', '120', '0.25', '0.3', '0.075'],\n",
      " ['1256', '1005', '新富熊大厦商城', '120', '0.08', '0.3', '0.024'],\n",
      " ['1139', '911', '弟壹集', '120', '0.08', '0.3', '0.024'],\n",
      " ['1295', '1036', 'Natritience', '120', '0.08', '0.3', '0.024'],\n",
      " ['1305', '1044', '东山锦轩·现代城', '120', '0.08', '0.3', '0.024'],\n",
      " ['1239', '991', '宜安广场', '120', '0.08', '0.3', '0.024'],\n",
      " ['666', '533', '鸿润二场', '121', '0.55', '0.3', '0.165'],\n",
      " ['1051', '841', '荔园新天地', '122', '0.25', '0.3', '0.075'],\n",
      " ['495', '396', '樂ALEMAMA', '123', '0.9', '0.3', '0.27'],\n",
      " ['600', '480', '金豪商场', '123', '0.9', '0.3', '0.27'],\n",
      " ['617', '494', '柏丽广场(翠竹路)', '123', '0.9', '0.3', '0.27'],\n",
      " ['840', '672', '鹭江商贸城', '123', '0.55', '0.3', '0.165'],\n",
      " ['838', '670', '羊城秀艺术商业中心', '123', '0.55', '0.3', '0.165'],\n",
      " ['965', '772', 'MID TOWn', '123', '0.25', '0.3', '0.075'],\n",
      " ['994', '795', '影城花园综合商场', '123', '0.25', '0.3', '0.075'],\n",
      " ['1172', '938', '广东外交人员免税商店', '123', '0.08', '0.3', '0.024'],\n",
      " ['1189', '951', '桂田广场', '123', '0.08', '0.3', '0.024'],\n",
      " ['1179', '943', '丽影广场C区', '123', '0.08', '0.3', '0.024'],\n",
      " ['824', '659', '贰号线商场(暂停营业)', '123', '0.55', '0.3', '0.165'],\n",
      " ['222', '178', '德国美诺Miele天汇广场igc授权体验店', '124', '1', '0.3', '0.3'],\n",
      " ['222', '178', 'IGC天汇广场', '124', '1', '0.3', '0.3'],\n",
      " ['395', '316', '优托邦东翼商场', '124', '1', '0.3', '0.3'],\n",
      " ['395', '316', 'MeiMeiKeTing客厅', '124', '1', '0.3', '0.3'],\n",
      " ['578', '462', '优托邦西翼商场', '124', '0.9', '0.3', '0.27'],\n",
      " ['565', '452', '珠江道', '124', '0.9', '0.3', '0.27'],\n",
      " ['1020', '816', '广州K11购物艺术中心', '124', '0.25', '0.3', '0.075'],\n",
      " ['1007', '806', '高德置地广场·冬', '124', '0.25', '0.3', '0.075'],\n",
      " ['1220', '976', '高德置地广场·秋', '124', '0.08', '0.3', '0.024'],\n",
      " ['1298', '1038', '花城汇南区', '124', '0.08', '0.3', '0.024'],\n",
      " ['1271', '1017', '四特酒百信购物中心', '124', '0.08', '0.3', '0.024'],\n",
      " ['1237', '990', 'jumeirah', '124', '0.08', '0.3', '0.024'],\n",
      " ['945', '756', '雅瑶广场', '125', '0.25', '0.3', '0.075'],\n",
      " ['347', '278', '千思惠诚店', '126', '1', '0.3', '0.3'],\n",
      " ['426', '341', '丹山新村商贸城', '126', '1', '0.3', '0.3'],\n",
      " ['480', '384', '沙头购物广场', '126', '0.9', '0.3', '0.27'],\n",
      " ['1116', '893', '三和广场', '126', '0.08', '0.3', '0.024'],\n",
      " ['278', '222', '海德汇(装修中)', '126', '1', '0.3', '0.3'],\n",
      " ['1178', '942', '凤凰商业广场', '128', '0.08', '0.3', '0.024'],\n",
      " ['82', '66', '南岗新城', '129', '1', '0.3', '0.3'],\n",
      " ['164', '131', '鸿福门广场', '129', '1', '0.3', '0.3'],\n",
      " ['238', '190', '南岗新街市', '129', '1', '0.3', '0.3'],\n",
      " ['1228', '982', '尚城万科里', '129', '0.08', '0.3', '0.024'],\n",
      " ['1069', '855', '嘉乐源百货', '131', '0.25', '0.3', '0.075'],\n",
      " ['1006', '805', '港源百货', '131', '0.25', '0.3', '0.075'],\n",
      " ['1006', '805', '优佳生活超市', '131', '0.25', '0.3', '0.075'],\n",
      " ['1013', '810', '彭诚百货', '131', '0.25', '0.3', '0.075'],\n",
      " ['1110', '888', '合欣百货', '131', '0.08', '0.3', '0.024'],\n",
      " ['636', '509', '雅瑶广场', '132', '0.9', '0.3', '0.27'],\n",
      " ['878', '702', '雅瑶广场', '134', '0.25', '0.3', '0.075'],\n",
      " ['621', '497', '富丽城购物广场', '136', '0.9', '0.3', '0.27'],\n",
      " ['696', '557', '平安商厦', '136', '0.55', '0.3', '0.165'],\n",
      " ['740', '592', '大石城', '136', '0.55', '0.3', '0.165'],\n",
      " ['964', '771', '华贵购物中心', '136', '0.25', '0.3', '0.075'],\n",
      " ['1232', '986', '建华汇商业中心', '136', '0.08', '0.3', '0.024'],\n",
      " ['1248', '998', '105新地娱乐美食购物广场', '136', '0.08', '0.3', '0.024'],\n",
      " ['1267', '1014', '万仓隆超市', '136', '0.08', '0.3', '0.024'],\n",
      " ['713', '570', '江南坊', '138', '0.55', '0.3', '0.165'],\n",
      " ['956', '765', '大信·新都汇', '138', '0.25', '0.3', '0.075'],\n",
      " ['767', '614', '时尚场', '138', '0.55', '0.3', '0.165'],\n",
      " ['1040', '832', '潮达新港城', '138', '0.25', '0.3', '0.075'],\n",
      " ['1037', '830', 'Mall商场', '138', '0.25', '0.3', '0.075'],\n",
      " ['1242', '994', '新安购物广场', '138', '0.08', '0.3', '0.024'],\n",
      " ['1202', '962', '蓝天里', '138', '0.08', '0.3', '0.024'],\n",
      " ['1272', '1018', '摩登百货(海购店)', '138', '0.08', '0.3', '0.024'],\n",
      " ['1219', '975', '江南综合商场(玫瑰二街)', '138', '0.08', '0.3', '0.024'],\n",
      " ['1271', '1017', '海珠·合生生活天地', '138', '0.08', '0.3', '0.024'],\n",
      " ['947', '758', '印象万家生活广场', '138', '0.25', '0.3', '0.075'],\n",
      " ['1176', '941', '信和广场', '138', '0.08', '0.3', '0.024'],\n",
      " ['1245', '996', '顺丰时尚', '138', '0.08', '0.3', '0.024'],\n",
      " ['1282', '1026', '中大五凤西场第三区牛仔城', '138', '0.08', '0.3', '0.024'],\n",
      " ['1153', '922', '壹加壹超市', '138', '0.08', '0.3', '0.024'],\n",
      " ['527', '422', '克莱顿厅(多功能厅)', '140', '0.9', '0.3', '0.27'],\n",
      " ['1166', '933', '东方国际商业广场', '140', '0.08', '0.3', '0.024'],\n",
      " ['13', '10', '琶洲商业广场A区', '141', '1', '0.3', '0.3'],\n",
      " ['244', '195', '万胜围商业广场', '141', '1', '0.3', '0.3'],\n",
      " ['455', '364', '下沉商场', '141', '0.9', '0.3', '0.27'],\n",
      " ['435', '348', '保利广场', '141', '0.9', '0.3', '0.27'],\n",
      " ['590', '472', 'INTERCONTINTENTAL', '141', '0.9', '0.3', '0.27'],\n",
      " ['955', '764', '万胜广场', '141', '0.25', '0.3', '0.075'],\n",
      " ['291', '233', '若比邻社区商业中心(广州保利天悦店)', '141', '1', '0.3', '0.3'],\n",
      " ['440', '352', '广州国际轻纺城饰品区', '142', '0.9', '0.3', '0.27'],\n",
      " ['468', '374', 'JHML', '142', '0.9', '0.3', '0.27'],\n",
      " ['817', '654', '康乐广场D区正街', '142', '0.55', '0.3', '0.165'],\n",
      " ['1055', '844', '长江(国际)皮草城', '142', '0.25', '0.3', '0.075'],\n",
      " ['1125', '900', '康盛北区', '142', '0.08', '0.3', '0.024'],\n",
      " ['978', '782', '羊城秀艺术商业中心', '142', '0.25', '0.3', '0.075'],\n",
      " ['957', '766', '鹭江商贸城', '142', '0.25', '0.3', '0.075'],\n",
      " ['1168', '934', '美景中心', '142', '0.08', '0.3', '0.024'],\n",
      " ['1263', '1010', '北区辅料广场', '142', '0.08', '0.3', '0.024'],\n",
      " ['1011', '809', '贰号线商场(暂停营业)', '142', '0.25', '0.3', '0.075'],\n",
      " ['1094', '875', '海珠合生新天地(建设中)', '142', '0.08', '0.3', '0.024'],\n",
      " ['733', '586', '珠江道', '143', '0.55', '0.3', '0.165'],\n",
      " ['541', '433', '优托邦东翼商场', '143', '0.9', '0.3', '0.27'],\n",
      " ['500', '400', '优托邦西翼商场', '143', '0.9', '0.3', '0.27'],\n",
      " ['600', '480', '高德置地广场·冬', '143', '0.9', '0.3', '0.27'],\n",
      " ['577', '462', '花城汇', '143', '0.9', '0.3', '0.27'],\n",
      " ['635', '508', '维家思广场', '143', '0.9', '0.3', '0.27'],\n",
      " ['818', '654', '高德置地广场·秋', '143', '0.55', '0.3', '0.165'],\n",
      " ['747', '598', '珠江新城', '143', '0.55', '0.3', '0.165'],\n",
      " ['763', '610', '德国美诺Miele天汇广场igc授权体验店', '143', '0.55', '0.3', '0.165'],\n",
      " ['763', '610', 'IGC天汇广场', '143', '0.55', '0.3', '0.165'],\n",
      " ['947', '758', '广州K11购物艺术中心', '143', '0.25', '0.3', '0.075'],\n",
      " ['893', '714', 'MeiMeiKeTing客厅', '143', '0.25', '0.3', '0.075'],\n",
      " ['927', '742', '8090荟潮坊', '143', '0.25', '0.3', '0.075'],\n",
      " ['1196', '957', '四特酒百信购物中心', '143', '0.08', '0.3', '0.024'],\n",
      " ['1124', '899', '二层商场', '143', '0.08', '0.3', '0.024'],\n",
      " ['1292', '1034', '广州友谊商店(国金店)', '143', '0.08', '0.3', '0.024'],\n",
      " ['1281', '1025', '高德置地广场·春', '143', '0.08', '0.3', '0.024'],\n",
      " ['1228', '982', '广州国金天地购物中心', '143', '0.08', '0.3', '0.024'],\n",
      " ['1302', '1042', '澳门丰云店', '143', '0.08', '0.3', '0.024'],\n",
      " ['750', '600', 'jumeirah', '143', '0.55', '0.3', '0.165'],\n",
      " ['432', '346', '银之座', '144', '1', '0.3', '0.3'],\n",
      " ['407', '326', '云景商贸中心', '144', '1', '0.3', '0.3'],\n",
      " ['989', '791', '摩登百货(圣地店)', '144', '0.25', '0.3', '0.075'],\n",
      " ['1035', '828', '京骏商业城', '144', '0.25', '0.3', '0.075'],\n",
      " ['775', '620', '云山汇', '144', '0.55', '0.3', '0.165'],\n",
      " ['929', '743', '跨境购爱尚美店', '144', '0.25', '0.3', '0.075'],\n",
      " ['779', '623', '乐圣地', '144', '0.55', '0.3', '0.165'],\n",
      " ['929', '743', '广州圣地汇', '144', '0.25', '0.3', '0.075'],\n",
      " ['828', '662', '梅花园时尚新天地', '144', '0.55', '0.3', '0.165'],\n",
      " ['802', '642', '梅花园广场', '144', '0.55', '0.3', '0.165'],\n",
      " ['972', '778', '佳润广场', '144', '0.25', '0.3', '0.075'],\n",
      " ['1031', '825', '世潮商城', '144', '0.25', '0.3', '0.075'],\n",
      " ['1281', '1025', '永旺超市(太阳城店)', '144', '0.08', '0.3', '0.024'],\n",
      " ['1291', '1033', '嘉裕太阳城广场', '144', '0.08', '0.3', '0.024'],\n",
      " ['333', '266', '壹加壹超市', '145', '1', '0.3', '0.3'],\n",
      " ['471', '377', '富华桦盛行(和仕)', '145', '0.9', '0.3', '0.27'],\n",
      " ['448', '358', '中大五凤西场第三区牛仔城', '145', '0.9', '0.3', '0.27'],\n",
      " ['509', '407', '顺丰时尚', '145', '0.9', '0.3', '0.27'],\n",
      " ['730', '584', '时尚场', '145', '0.55', '0.3', '0.165'],\n",
      " ['811', '649', '北区辅料广场', '145', '0.55', '0.3', '0.165'],\n",
      " ['828', '662', '长江(国际)皮草城', '145', '0.55', '0.3', '0.165'],\n",
      " ['788', '630', '印象万家生活广场', '145', '0.55', '0.3', '0.165'],\n",
      " ['1124', '899', '聚源综合商业城', '145', '0.08', '0.3', '0.024'],\n",
      " ['1121', '897', '康盛北区', '145', '0.08', '0.3', '0.024'],\n",
      " ['1050', '840', '康乐广场D区正街', '145', '0.25', '0.3', '0.075'],\n",
      " ['952', '762', '美景中心', '145', '0.25', '0.3', '0.075'],\n",
      " ['999', '799', '珠江道', '146', '0.25', '0.3', '0.075'],\n",
      " ['1110', '888', '德国美诺Miele天汇广场igc授权体验店', '146', '0.08', '0.3', '0.024'],\n",
      " ['1110', '888', 'IGC天汇广场', '146', '0.08', '0.3', '0.024'],\n",
      " ['1017', '814', '优托邦东翼商场', '146', '0.25', '0.3', '0.075'],\n",
      " ['1220', '976', 'Yello', '146', '0.08', '0.3', '0.024'],\n",
      " ['1293', '1034', '太阳新天地购物中心', '146', '0.08', '0.3', '0.024'],\n",
      " ['1158', '926', '优托邦西翼商场', '146', '0.08', '0.3', '0.024'],\n",
      " ['1279', '1023', 'MeiMeiKeTing客厅', '146', '0.08', '0.3', '0.024'],\n",
      " ['625', '500', '雅瑶广场', '148', '0.9', '0.3', '0.27'],\n",
      " ['1122', '898', '雅瑶广场', '149', '0.08', '0.3', '0.024'],\n",
      " ['925', '740', '雅瑶广场', '150', '0.25', '0.3', '0.075'],\n",
      " ['284', '227', '雅瑶广场', '152', '1', '0.3', '0.3'],\n",
      " ['339', '271', '天鸿百货(金业路)', '155', '1', '0.3', '0.3'],\n",
      " ['971', '777', 'MEIFUBAO(大润发店)', '155', '0.25', '0.3', '0.075'],\n",
      " ['956', '765', '天鸿商业', '157', '0.25', '0.3', '0.075'],\n",
      " ['975', '780', '南村商贸城(南华路)', '157', '0.25', '0.3', '0.075'],\n",
      " ['862', '690', '乐购城', '157', '0.55', '0.3', '0.165'],\n",
      " ['1000', '800', '人人佳购物城', '157', '0.25', '0.3', '0.075'],\n",
      " ['1061', '849', '天汇百货(南村店)', '157', '0.25', '0.3', '0.075'],\n",
      " ['1277', '1022', '城业广场', '157', '0.08', '0.3', '0.024'],\n",
      " ['763', '610', '润德商业广场', '158', '0.55', '0.3', '0.165'],\n",
      " ['1008', '806', '南尊广场', '158', '0.25', '0.3', '0.075'],\n",
      " ['1189', '951', '美嘀嘀', '158', '0.08', '0.3', '0.024'],\n",
      " ['306', '245', '夏茅商业广场', '159', '1', '0.3', '0.3'],\n",
      " ['616', '493', 'PNPCARGO', '159', '0.9', '0.3', '0.27'],\n",
      " ['863', '690', '夏茅金铂广场', '159', '0.55', '0.3', '0.165'],\n",
      " ['976', '781', '夏茅商业广场', '159', '0.25', '0.3', '0.075'],\n",
      " ['957', '766', '花都湖百花商业广场', '160', '0.25', '0.3', '0.075'],\n",
      " ['1253', '1002', '天美商业城', '160', '0.08', '0.3', '0.024'],\n",
      " ['1101', '881', '百花广场A座', '160', '0.08', '0.3', '0.024'],\n",
      " ['348', '278', 'Nini进口生活馆', '161', '1', '0.3', '0.3'],\n",
      " ['1208', '966', '自由里', '161', '0.08', '0.3', '0.024'],\n",
      " ['850', '680', '友益康厂家直购平台', '162', '0.55', '0.3', '0.165'],\n",
      " ['1141', '913', 'MEINAIER', '162', '0.08', '0.3', '0.024'],\n",
      " ['1103', '882', 'CHAYOYO', '162', '0.08', '0.3', '0.024'],\n",
      " ['1223', '978', '摩登广场', '162', '0.08', '0.3', '0.024'],\n",
      " ['1221', '977', '新世纪广场', '162', '0.08', '0.3', '0.024'],\n",
      " ['1223', '978', '广州百货大厦(从化店)', '162', '0.08', '0.3', '0.024'],\n",
      " ['1125', '900', '挖挖易购花都店', '163', '0.08', '0.3', '0.024'],\n",
      " ['1235', '988', '免购置税直上粤A牌', '164', '0.08', '0.3', '0.024'],\n",
      " ['9', '7', '你我您岑村区团购', '166', '1', '0.3', '0.3'],\n",
      " ['851', '681', '长兴商贸综合城', '166', '0.55', '0.3', '0.165'],\n",
      " ['161', '129', '百家通购物广场', '168', '1', '0.3', '0.3'],\n",
      " ['1114', '891', '得利达广场', '168', '0.08', '0.3', '0.024'],\n",
      " ['484', '387', '圣诚·商场', '169', '0.9', '0.3', '0.27'],\n",
      " ['667', '534', '景华商业广场', '169', '0.55', '0.3', '0.165'],\n",
      " ['464', '371', '广州江湾阳光天地', '169', '0.9', '0.3', '0.27'],\n",
      " ['781', '625', '粤海·得邻', '169', '0.55', '0.3', '0.165'],\n",
      " ['1106', '885', '海印中心', '169', '0.08', '0.3', '0.024'],\n",
      " ['909', '727', '海港城', '169', '0.25', '0.3', '0.075'],\n",
      " ['828', '662', '广州亚太精品交易中心', '169', '0.55', '0.3', '0.165'],\n",
      " ['1074', '859', '海印广场', '169', '0.25', '0.3', '0.075'],\n",
      " ['1232', '986', '中华广场', '169', '0.08', '0.3', '0.024'],\n",
      " ['1154', '923', '北京大厦饰博城', '169', '0.08', '0.3', '0.024'],\n",
      " ['1161', '929', '金佰利广场', '169', '0.08', '0.3', '0.024'],\n",
      " ['1011', '809', '信木岚(粤海仰忠汇店)', '169', '0.25', '0.3', '0.075'],\n",
      " ['1011', '809', '天河城', '169', '0.25', '0.3', '0.075'],\n",
      " ['1011', '809', '趣优游专柜', '169', '0.25', '0.3', '0.075'],\n",
      " ['1213', '970', 'ABC-石烧安格斯牛扒(北京路店)', '169', '0.08', '0.3', '0.024'],\n",
      " ['1272', '1018', '地王广场(较场西路)', '169', '0.08', '0.3', '0.024'],\n",
      " ['1301', '1041', '金凯商业城', '169', '0.08', '0.3', '0.024'],\n",
      " ['1217', '974', '仙妮蕾德(天河城百货店)', '169', '0.08', '0.3', '0.024'],\n",
      " ['1132', '906', '荣戈百货', '169', '0.08', '0.3', '0.024'],\n",
      " ['1081', '865', '骏田批发广场', '169', '0.25', '0.3', '0.075'],\n",
      " ['1193', '954', '名盛广场', '169', '0.08', '0.3', '0.024'],\n",
      " ['1239', '991', '天河城百货(北京路店)', '169', '0.08', '0.3', '0.024']]\n"
     ]
    }
   ],
   "source": [
    "for i in datas:\n",
    "    csv_save(i)\n",
    "print(\"\\n-------------------数据采集完成-------------------\")\n",
    "pprint.pprint(datas)"
   ]
  },
  {
   "cell_type": "markdown",
   "id": "average-sequence",
   "metadata": {},
   "source": [
    "1. 断线再运行可以继续写\n"
   ]
  },
  {
   "cell_type": "markdown",
   "id": "separated-seller",
   "metadata": {},
   "source": [
    "开始打分"
   ]
  },
  {
   "cell_type": "code",
   "execution_count": null,
   "id": "departmental-triangle",
   "metadata": {},
   "outputs": [],
   "source": []
  }
 ],
 "metadata": {
  "kernelspec": {
   "display_name": "Python 3",
   "language": "python",
   "name": "python3"
  },
  "language_info": {
   "codemirror_mode": {
    "name": "ipython",
    "version": 3
   },
   "file_extension": ".py",
   "mimetype": "text/x-python",
   "name": "python",
   "nbconvert_exporter": "python",
   "pygments_lexer": "ipython3",
   "version": "3.8.8"
  }
 },
 "nbformat": 4,
 "nbformat_minor": 5
}
