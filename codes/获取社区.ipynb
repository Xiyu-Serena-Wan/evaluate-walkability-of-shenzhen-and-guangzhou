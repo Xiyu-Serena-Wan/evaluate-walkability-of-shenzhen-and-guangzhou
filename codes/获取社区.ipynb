{
 "cells": [
  {
   "cell_type": "code",
   "execution_count": 1,
   "id": "painful-valley",
   "metadata": {},
   "outputs": [],
   "source": [
    "'''\n",
    "导入所有需要的库\n",
    "'''\n",
    "import xlwt\n",
    "import xlrd\n",
    "import requests\n",
    "import json\n",
    "import time\n",
    "from IPython import embed\n",
    "'''\n",
    "建立空xls文档\n",
    "'''\n",
    "wb = xlwt.Workbook()\n",
    "ws = wb.add_sheet('深圳',cell_overwrite_ok=True)\n"
   ]
  },
  {
   "cell_type": "code",
   "execution_count": 2,
   "id": "corrected-ancient",
   "metadata": {},
   "outputs": [],
   "source": [
    "'''\n",
    "爬虫所需信息\n",
    "'''\n",
    "url_0 = 'https://restapi.amap.com/v3/place/text?'\n",
    "key = 'a1cf852d9781d1e427a06ab57400ce13'\n",
    "keywords = \"社区\"\n",
    "types = '190108'\n",
    "city = '深圳'\n",
    "children='1'\n",
    "extensions = 'all'\n",
    "\n",
    "url_lng_lat = url_0 + 'key=' + key + '&keywords=' + keywords + '&types=' + types + '&city=' + city + '&children=' + children + '&extensions=' + extensions"
   ]
  },
  {
   "cell_type": "code",
   "execution_count": 3,
   "id": "organic-version",
   "metadata": {
    "scrolled": true
   },
   "outputs": [
    {
     "name": "stdout",
     "output_type": "stream",
     "text": [
      "1\n",
      "2\n",
      "3\n",
      "4\n",
      "5\n",
      "6\n",
      "7\n",
      "8\n",
      "9\n",
      "10\n",
      "11\n",
      "12\n",
      "13\n",
      "14\n",
      "15\n",
      "16\n",
      "17\n",
      "18\n",
      "19\n",
      "20\n",
      "21\n",
      "22\n",
      "23\n",
      "24\n",
      "25\n",
      "26\n"
     ]
    }
   ],
   "source": [
    "'''\n",
    "开始爬取数据\n",
    "'''\n",
    "for p in range(1,50):\n",
    "    #p=page\n",
    "    url = url_lng_lat + '&page=' + str(p)\n",
    "    html = requests.get(url)\n",
    "    content = json.loads(html.text)\n",
    "\n",
    "    list_name = []\n",
    "    list_type = []\n",
    "    list_typecode = []\n",
    "    list_pname = []\n",
    "    list_cityname = []\n",
    "    list_adname = []\n",
    "    list_location = []\n",
    "\n",
    "    for a in range(len(content['pois'])):\n",
    "        #len(content['pois']) = 20\n",
    "        if content['pois'][a]['name']  == 0:\n",
    "            continue\n",
    "        list_name.append(content['pois'][a]['name'])\n",
    "        list_type.append(content['pois'][a]['type'])\n",
    "        list_typecode.append(content['pois'][a]['typecode'])\n",
    "        list_pname.append(content['pois'][a]['pname'])\n",
    "        list_cityname.append(content['pois'][a]['cityname'])\n",
    "        list_adname.append(content['pois'][a]['adname'])\n",
    "        list_location.append(content['pois'][a]['location'])\n",
    "\n",
    "    if len(list_name) == 0:\n",
    "        continue\n",
    "    print(p)\n",
    "    for b in range(len(content['pois'])):\n",
    "        ws.write((p-1)*20+b,0, list_name[b])\n",
    "        ws.write((p-1)*20+b,1, list_type[b])\n",
    "        ws.write((p-1)*20+b,2, list_typecode[b])\n",
    "        ws.write((p-1)*20+b,3, list_pname[b])\n",
    "        ws.write((p-1)*20+b,4, list_cityname[b])\n",
    "        ws.write((p-1)*20+b,5, list_adname[b])\n",
    "        ws.write((p-1)*20+b,6, list_location[b])"
   ]
  },
  {
   "cell_type": "code",
   "execution_count": 4,
   "id": "pointed-capability",
   "metadata": {},
   "outputs": [],
   "source": [
    "'''\n",
    "save the file\n",
    "'''\n",
    "wb.save('社区深圳.xls')"
   ]
  },
  {
   "cell_type": "code",
   "execution_count": null,
   "id": "improved-perfume",
   "metadata": {},
   "outputs": [],
   "source": []
  }
 ],
 "metadata": {
  "kernelspec": {
   "display_name": "Python 3",
   "language": "python",
   "name": "python3"
  },
  "language_info": {
   "codemirror_mode": {
    "name": "ipython",
    "version": 3
   },
   "file_extension": ".py",
   "mimetype": "text/x-python",
   "name": "python",
   "nbconvert_exporter": "python",
   "pygments_lexer": "ipython3",
   "version": "3.8.8"
  }
 },
 "nbformat": 4,
 "nbformat_minor": 5
}
