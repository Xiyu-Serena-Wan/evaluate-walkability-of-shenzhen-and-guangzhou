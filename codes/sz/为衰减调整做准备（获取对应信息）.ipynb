{
 "cells": [
  {
   "cell_type": "code",
   "execution_count": 1,
   "id": "meaningful-triple",
   "metadata": {},
   "outputs": [],
   "source": [
    "'''\n",
    "import packages we need\n",
    "'''\n",
    "import json\n",
    "import requests\n",
    "import os"
   ]
  },
  {
   "cell_type": "code",
   "execution_count": 2,
   "id": "grateful-sponsorship",
   "metadata": {},
   "outputs": [],
   "source": [
    "import csv"
   ]
  },
  {
   "cell_type": "code",
   "execution_count": 3,
   "id": "governing-berry",
   "metadata": {},
   "outputs": [],
   "source": [
    "import osmnx as ox"
   ]
  },
  {
   "cell_type": "code",
   "execution_count": 4,
   "id": "aggregate-brisbane",
   "metadata": {},
   "outputs": [],
   "source": [
    "'''\n",
    "open an empty csv for further use\n",
    "'''\n",
    "def csv_save(row):\n",
    "    with open(\"street_2.0.csv\", 'a') as f:\n",
    "        write = csv.writer(f)\n",
    "        write.writerow(row)"
   ]
  },
  {
   "cell_type": "code",
   "execution_count": 5,
   "id": "recent-permission",
   "metadata": {},
   "outputs": [],
   "source": [
    "'''\n",
    "find the township that the community address belongs to \n",
    "'''\n",
    "def get_street(x,y):\n",
    "    url_0 = 'https://restapi.amap.com/v3/geocode/regeo?'\n",
    "    location1 = str(x)#\"113.275128\"\n",
    "    location2 = str(y)#\"23.117633\"\n",
    "    key = 'a1cf852d9781d1e427a06ab57400ce13'\n",
    "    radius=\"10\"\n",
    "    extensions = 'all'\n",
    "    url = url_0 + 'key=' + key + '&location=' + location1 + ',' + location2  + '&radius=' + radius + '&city=' + '&extensions=' + extensions\n",
    "    html = requests.get(url)\n",
    "    content = json.loads(html.text)\n",
    "    street = content[\"regeocode\"]['addressComponent']['township']\n",
    "    return street"
   ]
  },
  {
   "cell_type": "code",
   "execution_count": 15,
   "id": "prostate-chemical",
   "metadata": {},
   "outputs": [],
   "source": [
    "'''\n",
    "using osmnx to get intersection_density_km and street_length_avg of the address\n",
    "'''\n",
    "def osm(x):\n",
    "    try:\n",
    "        G = ox.graph_from_place(x, which_result=None)\n",
    "    except (ValueError):  \n",
    "        G = ox.graph_from_address(x, dist=500)\n",
    "    G_proj = ox.project_graph(G)\n",
    "    nodes_proj = ox.graph_to_gdfs(G_proj, edges=False)\n",
    "    graph_area_m = nodes_proj.unary_union.convex_hull.area\n",
    "    try:\n",
    "        basic_stats=ox.basic_stats(G_proj, area=graph_area_m, clean_intersects=True, circuity_dist=\"euclidean\")\n",
    "    except (ZeroDivisionError):\n",
    "        G = ox.graph_from_address(x, dist=500)\n",
    "        G_proj = ox.project_graph(G)\n",
    "        nodes_proj = ox.graph_to_gdfs(G_proj, edges=False)\n",
    "        graph_area_m = nodes_proj.unary_union.convex_hull.area\n",
    "        basic_stats=ox.basic_stats(G_proj, area=graph_area_m, clean_intersects=True, circuity_dist=\"euclidean\")\n",
    "        \n",
    "    j=[]\n",
    "    j.append(basic_stats['intersection_density_km'])\n",
    "    j.append(basic_stats['street_length_avg'])\n",
    "    return j\n",
    "\n",
    "        "
   ]
  },
  {
   "cell_type": "code",
   "execution_count": 33,
   "id": "advisory-australian",
   "metadata": {},
   "outputs": [],
   "source": [
    "'''\n",
    "addresses are from this file\n",
    "'''\n",
    "file='address_gz.txt'\n",
    "f=open(file,'r')\n",
    "ff=f.readlines()"
   ]
  },
  {
   "cell_type": "code",
   "execution_count": 34,
   "id": "embedded-protection",
   "metadata": {
    "scrolled": true
   },
   "outputs": [
    {
     "name": "stdout",
     "output_type": "stream",
     "text": [
      "['113.377729,22.962841', '东环街道', [34.55350248171042, 151.0652597402597]]\n",
      "['113.168921,23.373785', '秀全街道', [67.60406911970202, 136.25749999999996]]\n",
      "['113.382736,23.162493', '长兴街道', [26.45506325515186, 139.07963249516445]]\n",
      "['113.485525,23.577278', '鳌头镇', [2.178182158374352, 390.61106521739066]]\n",
      "['113.411500,23.157736', '新塘街道', [22.902008083435057, 177.12659677419379]]\n",
      "['113.278753,23.118938', '珠光街道', [182.1003530684274, 79.21584647302905]]\n",
      "['113.304949,23.236708', '永平街道', [41.842903207089684, 112.75554814108695]]\n",
      "['113.466782,23.008770', '化龙镇', [11.934894725405652, 238.04456203007533]]\n"
     ]
    }
   ],
   "source": [
    "'''\n",
    "write information into correspond lines with elegance\n",
    "'''\n",
    "for line in ff:\n",
    "    i =[]\n",
    "    line=line.rstrip(\"\\n\")\n",
    "    #print(line)\n",
    "    i.append(str(line))\n",
    "    line = line.split(',')\n",
    "    #print(line)\n",
    "    x = float(line[0])\n",
    "    y = float(line[1])\n",
    "    street = get_street(x,y)\n",
    "    i.append(str(street))\n",
    "    i.append(osm(street))\n",
    "    print(i)\n",
    "    csv_save(i)"
   ]
  },
  {
   "cell_type": "code",
   "execution_count": 36,
   "id": "rental-burke",
   "metadata": {},
   "outputs": [
    {
     "data": {
      "text/plain": [
       "'云埔街道'"
      ]
     },
     "execution_count": 36,
     "metadata": {},
     "output_type": "execute_result"
    }
   ],
   "source": [
    "'''\n",
    "codes down below are used to debug\n",
    "'''\n",
    "x"
   ]
  },
  {
   "cell_type": "code",
   "execution_count": 40,
   "id": "regular-parallel",
   "metadata": {},
   "outputs": [],
   "source": [
    "G = ox.graph_from_address(x, dist=500)"
   ]
  },
  {
   "cell_type": "code",
   "execution_count": 41,
   "id": "identical-leader",
   "metadata": {},
   "outputs": [],
   "source": [
    "G_proj = ox.project_graph(G)\n",
    "nodes_proj = ox.graph_to_gdfs(G_proj, edges=False)\n",
    "graph_area_m = nodes_proj.unary_union.convex_hull.area\n",
    "basic_stats=ox.basic_stats(G_proj, area=graph_area_m, clean_intersects=True, circuity_dist=\"euclidean\")"
   ]
  },
  {
   "cell_type": "code",
   "execution_count": 42,
   "id": "distinct-classics",
   "metadata": {},
   "outputs": [
    {
     "data": {
      "text/plain": [
       "{'n': 44,\n",
       " 'm': 81,\n",
       " 'k_avg': 3.6818181818181817,\n",
       " 'intersection_count': 43,\n",
       " 'streets_per_node_avg': 3.3863636363636362,\n",
       " 'streets_per_node_counts': {0: 0, 1: 1, 2: 0, 3: 24, 4: 19},\n",
       " 'streets_per_node_proportion': {0: 0.0,\n",
       "  1: 0.022727272727272728,\n",
       "  2: 0.0,\n",
       "  3: 0.5454545454545454,\n",
       "  4: 0.4318181818181818},\n",
       " 'edge_length_total': 8578.875999999998,\n",
       " 'edge_length_avg': 105.91204938271603,\n",
       " 'street_length_total': 6803.921,\n",
       " 'street_length_avg': 106.311265625,\n",
       " 'street_segments_count': 64,\n",
       " 'node_density_km': 90.01886882878954,\n",
       " 'intersection_density_km': 87.97298544631705,\n",
       " 'edge_density_km': 17551.379848692057,\n",
       " 'street_density_km': 13920.028909555604,\n",
       " 'circuity_avg': 1.0393791165680217,\n",
       " 'self_loop_proportion': 0.0,\n",
       " 'clean_intersection_count': 20,\n",
       " 'clean_intersection_density_km': 40.91766764944979}"
      ]
     },
     "execution_count": 42,
     "metadata": {},
     "output_type": "execute_result"
    }
   ],
   "source": [
    "basic_stats"
   ]
  },
  {
   "cell_type": "code",
   "execution_count": null,
   "id": "forward-exposure",
   "metadata": {},
   "outputs": [],
   "source": []
  }
 ],
 "metadata": {
  "kernelspec": {
   "display_name": "Python 3",
   "language": "python",
   "name": "python3"
  },
  "language_info": {
   "codemirror_mode": {
    "name": "ipython",
    "version": 3
   },
   "file_extension": ".py",
   "mimetype": "text/x-python",
   "name": "python",
   "nbconvert_exporter": "python",
   "pygments_lexer": "ipython3",
   "version": "3.8.8"
  }
 },
 "nbformat": 4,
 "nbformat_minor": 5
}
