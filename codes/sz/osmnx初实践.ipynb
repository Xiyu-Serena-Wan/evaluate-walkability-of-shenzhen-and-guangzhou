{
 "cells": [
  {
   "cell_type": "code",
   "execution_count": 22,
   "id": "unable-warner",
   "metadata": {},
   "outputs": [],
   "source": [
    "import osmnx as ox"
   ]
  },
  {
   "cell_type": "code",
   "execution_count": 23,
   "id": "yellow-method",
   "metadata": {},
   "outputs": [],
   "source": [
    "%matplotlib inline"
   ]
  },
  {
   "cell_type": "code",
   "execution_count": 24,
   "id": "hazardous-tennessee",
   "metadata": {},
   "outputs": [],
   "source": [
    "import pandas as pd\n",
    "df3 = pd.read_csv('street.csv',header=None)"
   ]
  },
  {
   "cell_type": "code",
   "execution_count": 4,
   "id": "owned-optimization",
   "metadata": {
    "scrolled": true
   },
   "outputs": [
    {
     "data": {
      "text/html": [
       "<div>\n",
       "<style scoped>\n",
       "    .dataframe tbody tr th:only-of-type {\n",
       "        vertical-align: middle;\n",
       "    }\n",
       "\n",
       "    .dataframe tbody tr th {\n",
       "        vertical-align: top;\n",
       "    }\n",
       "\n",
       "    .dataframe thead th {\n",
       "        text-align: right;\n",
       "    }\n",
       "</style>\n",
       "<table border=\"1\" class=\"dataframe\">\n",
       "  <thead>\n",
       "    <tr style=\"text-align: right;\">\n",
       "      <th></th>\n",
       "      <th>0</th>\n",
       "      <th>1</th>\n",
       "    </tr>\n",
       "  </thead>\n",
       "  <tbody>\n",
       "    <tr>\n",
       "      <th>0</th>\n",
       "      <td>113.275128,23.117633</td>\n",
       "      <td>德政南路</td>\n",
       "    </tr>\n",
       "    <tr>\n",
       "      <th>1</th>\n",
       "      <td>113.177516,23.426931</td>\n",
       "      <td>学府路</td>\n",
       "    </tr>\n",
       "    <tr>\n",
       "      <th>2</th>\n",
       "      <td>113.322082,23.166966</td>\n",
       "      <td>银利街</td>\n",
       "    </tr>\n",
       "    <tr>\n",
       "      <th>3</th>\n",
       "      <td>113.532512,23.593680</td>\n",
       "      <td>建设南路</td>\n",
       "    </tr>\n",
       "    <tr>\n",
       "      <th>4</th>\n",
       "      <td>113.599693,23.545329</td>\n",
       "      <td>河东北路</td>\n",
       "    </tr>\n",
       "    <tr>\n",
       "      <th>...</th>\n",
       "      <td>...</td>\n",
       "      <td>...</td>\n",
       "    </tr>\n",
       "    <tr>\n",
       "      <th>166</th>\n",
       "      <td>113.485525,23.577278</td>\n",
       "      <td>大氹南闸街</td>\n",
       "    </tr>\n",
       "    <tr>\n",
       "      <th>167</th>\n",
       "      <td>113.411500,23.157736</td>\n",
       "      <td>西约大街</td>\n",
       "    </tr>\n",
       "    <tr>\n",
       "      <th>168</th>\n",
       "      <td>113.278753,23.118938</td>\n",
       "      <td>越秀南路</td>\n",
       "    </tr>\n",
       "    <tr>\n",
       "      <th>169</th>\n",
       "      <td>113.304949,23.236708</td>\n",
       "      <td>集贤北二巷</td>\n",
       "    </tr>\n",
       "    <tr>\n",
       "      <th>170</th>\n",
       "      <td>113.466782,23.008770</td>\n",
       "      <td>S296(石化公路)</td>\n",
       "    </tr>\n",
       "  </tbody>\n",
       "</table>\n",
       "<p>171 rows × 2 columns</p>\n",
       "</div>"
      ],
      "text/plain": [
       "                        0           1\n",
       "0    113.275128,23.117633        德政南路\n",
       "1    113.177516,23.426931         学府路\n",
       "2    113.322082,23.166966         银利街\n",
       "3    113.532512,23.593680        建设南路\n",
       "4    113.599693,23.545329        河东北路\n",
       "..                    ...         ...\n",
       "166  113.485525,23.577278       大氹南闸街\n",
       "167  113.411500,23.157736        西约大街\n",
       "168  113.278753,23.118938        越秀南路\n",
       "169  113.304949,23.236708       集贤北二巷\n",
       "170  113.466782,23.008770  S296(石化公路)\n",
       "\n",
       "[171 rows x 2 columns]"
      ]
     },
     "execution_count": 4,
     "metadata": {},
     "output_type": "execute_result"
    }
   ],
   "source": [
    "df3"
   ]
  },
  {
   "cell_type": "code",
   "execution_count": 17,
   "id": "wired-meter",
   "metadata": {},
   "outputs": [
    {
     "data": {
      "text/plain": [
       "171"
      ]
     },
     "execution_count": 17,
     "metadata": {},
     "output_type": "execute_result"
    }
   ],
   "source": [
    "len(df3)"
   ]
  },
  {
   "cell_type": "code",
   "execution_count": 16,
   "id": "oriental-elder",
   "metadata": {
    "scrolled": true
   },
   "outputs": [
    {
     "data": {
      "text/plain": [
       "'德政南路'"
      ]
     },
     "execution_count": 16,
     "metadata": {},
     "output_type": "execute_result"
    }
   ],
   "source": [
    "df3.loc[0, 1]"
   ]
  },
  {
   "cell_type": "code",
   "execution_count": 19,
   "id": "animal-nudist",
   "metadata": {},
   "outputs": [
    {
     "name": "stdout",
     "output_type": "stream",
     "text": [
      "德政南路\n"
     ]
    },
    {
     "ename": "TypeError",
     "evalue": "Geometry must be a shapely Polygon or MultiPolygon. If you requested graph from place name, make sure your query resolves to a Polygon or MultiPolygon, and not some other geometry, like a Point. See OSMnx documentation for details.",
     "output_type": "error",
     "traceback": [
      "\u001b[0;31m---------------------------------------------------------------------------\u001b[0m",
      "\u001b[0;31mTypeError\u001b[0m                                 Traceback (most recent call last)",
      "\u001b[0;32m<ipython-input-19-482a04defdbd>\u001b[0m in \u001b[0;36m<module>\u001b[0;34m\u001b[0m\n\u001b[1;32m      2\u001b[0m     \u001b[0mstreet\u001b[0m \u001b[0;34m=\u001b[0m \u001b[0mdf3\u001b[0m\u001b[0;34m.\u001b[0m\u001b[0mloc\u001b[0m\u001b[0;34m[\u001b[0m\u001b[0mi\u001b[0m\u001b[0;34m,\u001b[0m \u001b[0;36m1\u001b[0m\u001b[0;34m]\u001b[0m\u001b[0;34m\u001b[0m\u001b[0;34m\u001b[0m\u001b[0m\n\u001b[1;32m      3\u001b[0m     \u001b[0mprint\u001b[0m\u001b[0;34m(\u001b[0m\u001b[0mstreet\u001b[0m\u001b[0;34m)\u001b[0m\u001b[0;34m\u001b[0m\u001b[0;34m\u001b[0m\u001b[0m\n\u001b[0;32m----> 4\u001b[0;31m     \u001b[0mG\u001b[0m \u001b[0;34m=\u001b[0m \u001b[0mox\u001b[0m\u001b[0;34m.\u001b[0m\u001b[0mgraph_from_place\u001b[0m\u001b[0;34m(\u001b[0m\u001b[0mstreet\u001b[0m\u001b[0;34m,\u001b[0m \u001b[0mwhich_result\u001b[0m \u001b[0;34m=\u001b[0m\u001b[0;36m1\u001b[0m \u001b[0;34m)\u001b[0m\u001b[0;34m\u001b[0m\u001b[0;34m\u001b[0m\u001b[0m\n\u001b[0m\u001b[1;32m      5\u001b[0m     \u001b[0mfig\u001b[0m\u001b[0;34m,\u001b[0m \u001b[0max\u001b[0m \u001b[0;34m=\u001b[0m \u001b[0mox\u001b[0m\u001b[0;34m.\u001b[0m\u001b[0mplot_graph\u001b[0m\u001b[0;34m(\u001b[0m\u001b[0mG\u001b[0m\u001b[0;34m)\u001b[0m\u001b[0;34m\u001b[0m\u001b[0;34m\u001b[0m\u001b[0m\n",
      "\u001b[0;32m/opt/miniconda3/envs/d2l/lib/python3.8/site-packages/osmnx/graph.py\u001b[0m in \u001b[0;36mgraph_from_place\u001b[0;34m(query, network_type, simplify, retain_all, truncate_by_edge, which_result, buffer_dist, clean_periphery, custom_filter)\u001b[0m\n\u001b[1;32m    338\u001b[0m \u001b[0;34m\u001b[0m\u001b[0m\n\u001b[1;32m    339\u001b[0m     \u001b[0;31m# create graph using this polygon(s) geometry\u001b[0m\u001b[0;34m\u001b[0m\u001b[0;34m\u001b[0m\u001b[0;34m\u001b[0m\u001b[0m\n\u001b[0;32m--> 340\u001b[0;31m     G = graph_from_polygon(\n\u001b[0m\u001b[1;32m    341\u001b[0m         \u001b[0mpolygon\u001b[0m\u001b[0;34m,\u001b[0m\u001b[0;34m\u001b[0m\u001b[0;34m\u001b[0m\u001b[0m\n\u001b[1;32m    342\u001b[0m         \u001b[0mnetwork_type\u001b[0m\u001b[0;34m=\u001b[0m\u001b[0mnetwork_type\u001b[0m\u001b[0;34m,\u001b[0m\u001b[0;34m\u001b[0m\u001b[0;34m\u001b[0m\u001b[0m\n",
      "\u001b[0;32m/opt/miniconda3/envs/d2l/lib/python3.8/site-packages/osmnx/graph.py\u001b[0m in \u001b[0;36mgraph_from_polygon\u001b[0;34m(polygon, network_type, simplify, retain_all, truncate_by_edge, clean_periphery, custom_filter)\u001b[0m\n\u001b[1;32m    402\u001b[0m         \u001b[0;32mraise\u001b[0m \u001b[0mValueError\u001b[0m\u001b[0;34m(\u001b[0m\u001b[0;34m\"The geometry to query within is invalid\"\u001b[0m\u001b[0;34m)\u001b[0m\u001b[0;34m\u001b[0m\u001b[0;34m\u001b[0m\u001b[0m\n\u001b[1;32m    403\u001b[0m     \u001b[0;32mif\u001b[0m \u001b[0;32mnot\u001b[0m \u001b[0misinstance\u001b[0m\u001b[0;34m(\u001b[0m\u001b[0mpolygon\u001b[0m\u001b[0;34m,\u001b[0m \u001b[0;34m(\u001b[0m\u001b[0mPolygon\u001b[0m\u001b[0;34m,\u001b[0m \u001b[0mMultiPolygon\u001b[0m\u001b[0;34m)\u001b[0m\u001b[0;34m)\u001b[0m\u001b[0;34m:\u001b[0m\u001b[0;34m\u001b[0m\u001b[0;34m\u001b[0m\u001b[0m\n\u001b[0;32m--> 404\u001b[0;31m         raise TypeError(\n\u001b[0m\u001b[1;32m    405\u001b[0m             \u001b[0;34m\"Geometry must be a shapely Polygon or MultiPolygon. If you requested \"\u001b[0m\u001b[0;34m\u001b[0m\u001b[0;34m\u001b[0m\u001b[0m\n\u001b[1;32m    406\u001b[0m             \u001b[0;34m\"graph from place name, make sure your query resolves to a Polygon or \"\u001b[0m\u001b[0;34m\u001b[0m\u001b[0;34m\u001b[0m\u001b[0m\n",
      "\u001b[0;31mTypeError\u001b[0m: Geometry must be a shapely Polygon or MultiPolygon. If you requested graph from place name, make sure your query resolves to a Polygon or MultiPolygon, and not some other geometry, like a Point. See OSMnx documentation for details."
     ]
    }
   ],
   "source": [
    "for i in range(2):\n",
    "    street = df3.loc[i, 1]\n",
    "    print(street)\n",
    "    G = ox.graph_from_place(street, which_result =1 )\n",
    "    fig, ax = ox.plot_graph(G)"
   ]
  },
  {
   "cell_type": "code",
   "execution_count": 30,
   "id": "scheduled-relation",
   "metadata": {
    "scrolled": true
   },
   "outputs": [],
   "source": [
    "G = ox.graph_from_place('珠光街道', which_result =None )"
   ]
  },
  {
   "cell_type": "code",
   "execution_count": 31,
   "id": "written-desire",
   "metadata": {
    "scrolled": true
   },
   "outputs": [
    {
     "data": {
      "image/png": "[encoded data removed]",
      "text/plain": [
       "<Figure size 576x576 with 1 Axes>"
      ]
     },
     "metadata": {},
     "output_type": "display_data"
    }
   ],
   "source": [
    "fig, ax = ox.plot_graph(G)"
   ]
  },
  {
   "cell_type": "code",
   "execution_count": 5,
   "id": "reasonable-alexandria",
   "metadata": {},
   "outputs": [
    {
     "data": {
      "text/html": [
       "<div>\n",
       "<style scoped>\n",
       "    .dataframe tbody tr th:only-of-type {\n",
       "        vertical-align: middle;\n",
       "    }\n",
       "\n",
       "    .dataframe tbody tr th {\n",
       "        vertical-align: top;\n",
       "    }\n",
       "\n",
       "    .dataframe thead th {\n",
       "        text-align: right;\n",
       "    }\n",
       "</style>\n",
       "<table border=\"1\" class=\"dataframe\">\n",
       "  <thead>\n",
       "    <tr style=\"text-align: right;\">\n",
       "      <th></th>\n",
       "      <th>y</th>\n",
       "      <th>x</th>\n",
       "      <th>street_count</th>\n",
       "      <th>geometry</th>\n",
       "    </tr>\n",
       "    <tr>\n",
       "      <th>osmid</th>\n",
       "      <th></th>\n",
       "      <th></th>\n",
       "      <th></th>\n",
       "      <th></th>\n",
       "    </tr>\n",
       "  </thead>\n",
       "  <tbody>\n",
       "    <tr>\n",
       "      <th>8077384695</th>\n",
       "      <td>23.092489</td>\n",
       "      <td>113.227900</td>\n",
       "      <td>3</td>\n",
       "      <td>POINT (113.22790 23.09249)</td>\n",
       "    </tr>\n",
       "    <tr>\n",
       "      <th>8077384697</th>\n",
       "      <td>23.093135</td>\n",
       "      <td>113.227491</td>\n",
       "      <td>3</td>\n",
       "      <td>POINT (113.22749 23.09313)</td>\n",
       "    </tr>\n",
       "    <tr>\n",
       "      <th>8077384700</th>\n",
       "      <td>23.093343</td>\n",
       "      <td>113.226811</td>\n",
       "      <td>3</td>\n",
       "      <td>POINT (113.22681 23.09334)</td>\n",
       "    </tr>\n",
       "    <tr>\n",
       "      <th>8077384701</th>\n",
       "      <td>23.092725</td>\n",
       "      <td>113.227494</td>\n",
       "      <td>3</td>\n",
       "      <td>POINT (113.22749 23.09273)</td>\n",
       "    </tr>\n",
       "    <tr>\n",
       "      <th>8077384702</th>\n",
       "      <td>23.093083</td>\n",
       "      <td>113.226236</td>\n",
       "      <td>3</td>\n",
       "      <td>POINT (113.22624 23.09308)</td>\n",
       "    </tr>\n",
       "  </tbody>\n",
       "</table>\n",
       "</div>"
      ],
      "text/plain": [
       "                    y           x  street_count                    geometry\n",
       "osmid                                                                      \n",
       "8077384695  23.092489  113.227900             3  POINT (113.22790 23.09249)\n",
       "8077384697  23.093135  113.227491             3  POINT (113.22749 23.09313)\n",
       "8077384700  23.093343  113.226811             3  POINT (113.22681 23.09334)\n",
       "8077384701  23.092725  113.227494             3  POINT (113.22749 23.09273)\n",
       "8077384702  23.093083  113.226236             3  POINT (113.22624 23.09308)"
      ]
     },
     "execution_count": 5,
     "metadata": {},
     "output_type": "execute_result"
    }
   ],
   "source": [
    "# convert your MultiDiGraph to an undirected MultiGraph\n",
    "M = ox.get_undirected(G)\n",
    "\n",
    "# convert your MultiDiGraph to a DiGraph without parallel edges\n",
    "D = ox.get_digraph(G)\n",
    "# you can convert your graph to node and edge GeoPandas GeoDataFrames\n",
    "gdf_nodes, gdf_edges = ox.graph_to_gdfs(G)\n",
    "gdf_nodes.head()"
   ]
  },
  {
   "cell_type": "code",
   "execution_count": 32,
   "id": "purple-headline",
   "metadata": {},
   "outputs": [
    {
     "data": {
      "text/plain": [
       "873144.9298192901"
      ]
     },
     "execution_count": 32,
     "metadata": {},
     "output_type": "execute_result"
    }
   ],
   "source": [
    "# what sized area does our network cover in square meters?\n",
    "G_proj = ox.project_graph(G)\n",
    "nodes_proj = ox.graph_to_gdfs(G_proj, edges=False)\n",
    "graph_area_m = nodes_proj.unary_union.convex_hull.area\n",
    "graph_area_m"
   ]
  },
  {
   "cell_type": "code",
   "execution_count": 33,
   "id": "latest-school",
   "metadata": {
    "scrolled": true
   },
   "outputs": [
    {
     "data": {
      "text/plain": [
       "{'n': 170,\n",
       " 'm': 384,\n",
       " 'k_avg': 4.517647058823529,\n",
       " 'intersection_count': 159,\n",
       " 'streets_per_node_avg': 3.0941176470588236,\n",
       " 'streets_per_node_counts': {0: 0, 1: 11, 2: 0, 3: 126, 4: 29, 5: 3, 6: 1},\n",
       " 'streets_per_node_proportion': {0: 0.0,\n",
       "  1: 0.06470588235294118,\n",
       "  2: 0.0,\n",
       "  3: 0.7411764705882353,\n",
       "  4: 0.17058823529411765,\n",
       "  5: 0.01764705882352941,\n",
       "  6: 0.0058823529411764705},\n",
       " 'edge_length_total': 30491.58200000002,\n",
       " 'edge_length_avg': 79.40516145833338,\n",
       " 'street_length_total': 19091.019,\n",
       " 'street_length_avg': 79.21584647302905,\n",
       " 'street_segments_count': 241,\n",
       " 'node_density_km': 194.69849070209222,\n",
       " 'intersection_density_km': 182.1003530684274,\n",
       " 'edge_density_km': 34921.55879128874,\n",
       " 'street_density_km': 21864.662266264506,\n",
       " 'circuity_avg': 1.0273633843903611,\n",
       " 'self_loop_proportion': 0.0,\n",
       " 'clean_intersection_count': 105,\n",
       " 'clean_intersection_density_km': 120.25495013952754}"
      ]
     },
     "execution_count": 33,
     "metadata": {},
     "output_type": "execute_result"
    }
   ],
   "source": [
    "# show some basic stats about the network\n",
    "ox.basic_stats(G_proj, area=graph_area_m, clean_intersects=True, circuity_dist=\"euclidean\")"
   ]
  },
  {
   "cell_type": "code",
   "execution_count": 34,
   "id": "behavioral-converter",
   "metadata": {},
   "outputs": [],
   "source": [
    "basic_stats = ox.basic_stats(G_proj, area=graph_area_m, clean_intersects=True, circuity_dist=\"euclidean\")\n"
   ]
  },
  {
   "cell_type": "code",
   "execution_count": 35,
   "id": "awful-shade",
   "metadata": {},
   "outputs": [
    {
     "data": {
      "text/plain": [
       "182.1003530684274"
      ]
     },
     "execution_count": 35,
     "metadata": {},
     "output_type": "execute_result"
    }
   ],
   "source": [
    "basic_stats['intersection_density_km']\n",
    "street_length_avg"
   ]
  },
  {
   "cell_type": "code",
   "execution_count": 25,
   "id": "silver-jones",
   "metadata": {},
   "outputs": [],
   "source": [
    "# impute missing edge speeds then calculate edge travel times\n",
    "G = ox.add_edge_speeds(G, hwy_speeds=1.45)\n",
    "G = ox.add_edge_travel_times(G)"
   ]
  },
  {
   "cell_type": "code",
   "execution_count": null,
   "id": "imposed-birthday",
   "metadata": {},
   "outputs": [],
   "source": [
    "# get the nearest network nodes to two lat/lng points\n",
    "orig = ox.get_nearest_node(G, (37.828903, -122.245846))\n",
    "dest = ox.get_nearest_node(G, (37.812303, -122.215006))"
   ]
  },
  {
   "cell_type": "code",
   "execution_count": 2,
   "id": "federal-lightning",
   "metadata": {},
   "outputs": [],
   "source": [
    "import geopandas\n"
   ]
  },
  {
   "cell_type": "code",
   "execution_count": null,
   "id": "jewish-mortgage",
   "metadata": {},
   "outputs": [],
   "source": []
  }
 ],
 "metadata": {
  "kernelspec": {
   "display_name": "Python 3",
   "language": "python",
   "name": "python3"
  },
  "language_info": {
   "codemirror_mode": {
    "name": "ipython",
    "version": 3
   },
   "file_extension": ".py",
   "mimetype": "text/x-python",
   "name": "python",
   "nbconvert_exporter": "python",
   "pygments_lexer": "ipython3",
   "version": "3.8.8"
  }
 },
 "nbformat": 4,
 "nbformat_minor": 5
}
