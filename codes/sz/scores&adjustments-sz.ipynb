{
 "cells": [
  {
   "cell_type": "code",
   "execution_count": 2,
   "id": "amber-inventory",
   "metadata": {},
   "outputs": [],
   "source": [
    "'''\n",
    "import packages we need\n",
    "'''\n",
    "import pandas as pd\n",
    "import csv"
   ]
  },
  {
   "cell_type": "code",
   "execution_count": 3,
   "id": "under-advocacy",
   "metadata": {},
   "outputs": [],
   "source": [
    "import numpy as np"
   ]
  },
  {
   "cell_type": "code",
   "execution_count": 4,
   "id": "canadian-tender",
   "metadata": {},
   "outputs": [
    {
     "name": "stderr",
     "output_type": "stream",
     "text": [
      "/opt/miniconda3/envs/d2l/lib/python3.8/site-packages/IPython/core/interactiveshell.py:3165: DtypeWarning: Columns (6) have mixed types.Specify dtype option on import or set low_memory=False.\n",
      "  has_raised = await self.run_ast_nodes(code_ast.body, cell_name,\n"
     ]
    }
   ],
   "source": [
    "df = pd.read_csv(\"weight_all.csv\")#, encoding='latin-1') "
   ]
  },
  {
   "cell_type": "code",
   "execution_count": 5,
   "id": "biological-direction",
   "metadata": {
    "scrolled": true
   },
   "outputs": [
    {
     "data": {
      "text/html": [
       "<div>\n",
       "<style scoped>\n",
       "    .dataframe tbody tr th:only-of-type {\n",
       "        vertical-align: middle;\n",
       "    }\n",
       "\n",
       "    .dataframe tbody tr th {\n",
       "        vertical-align: top;\n",
       "    }\n",
       "\n",
       "    .dataframe thead th {\n",
       "        text-align: right;\n",
       "    }\n",
       "</style>\n",
       "<table border=\"1\" class=\"dataframe\">\n",
       "  <thead>\n",
       "    <tr style=\"text-align: right;\">\n",
       "      <th></th>\n",
       "      <th>步行最短距离（m）</th>\n",
       "      <th>步行最短时间（s）</th>\n",
       "      <th>公共服务设施名称</th>\n",
       "      <th>ID</th>\n",
       "      <th>距离分类</th>\n",
       "      <th>权重</th>\n",
       "      <th>纠正后权重</th>\n",
       "    </tr>\n",
       "  </thead>\n",
       "  <tbody>\n",
       "    <tr>\n",
       "      <th>0</th>\n",
       "      <td>748</td>\n",
       "      <td>598</td>\n",
       "      <td>奇迹健身馆(西海岸店)</td>\n",
       "      <td>1</td>\n",
       "      <td>0.55</td>\n",
       "      <td>0.08</td>\n",
       "      <td>0.044</td>\n",
       "    </tr>\n",
       "    <tr>\n",
       "      <th>1</th>\n",
       "      <td>748</td>\n",
       "      <td>598</td>\n",
       "      <td>心逸瑜伽(沙井总店)</td>\n",
       "      <td>1</td>\n",
       "      <td>0.55</td>\n",
       "      <td>0.08</td>\n",
       "      <td>0.044</td>\n",
       "    </tr>\n",
       "    <tr>\n",
       "      <th>2</th>\n",
       "      <td>889</td>\n",
       "      <td>711</td>\n",
       "      <td>奇迹健身俱乐部(百利西城店)</td>\n",
       "      <td>1</td>\n",
       "      <td>0.25</td>\n",
       "      <td>0.08</td>\n",
       "      <td>0.02</td>\n",
       "    </tr>\n",
       "    <tr>\n",
       "      <th>3</th>\n",
       "      <td>1102</td>\n",
       "      <td>882</td>\n",
       "      <td>加州阳光国际健身俱乐部(沙井店)</td>\n",
       "      <td>1</td>\n",
       "      <td>0.08</td>\n",
       "      <td>0.08</td>\n",
       "      <td>0.0064</td>\n",
       "    </tr>\n",
       "    <tr>\n",
       "      <th>4</th>\n",
       "      <td>1237</td>\n",
       "      <td>990</td>\n",
       "      <td>拉伽瑜伽(沙井岁宝店)</td>\n",
       "      <td>1</td>\n",
       "      <td>0.08</td>\n",
       "      <td>0.08</td>\n",
       "      <td>0.0064</td>\n",
       "    </tr>\n",
       "  </tbody>\n",
       "</table>\n",
       "</div>"
      ],
      "text/plain": [
       "   步行最短距离（m）  步行最短时间（s）          公共服务设施名称  ID  距离分类    权重   纠正后权重\n",
       "0        748        598       奇迹健身馆(西海岸店)   1  0.55  0.08   0.044\n",
       "1        748        598        心逸瑜伽(沙井总店)   1  0.55  0.08   0.044\n",
       "2        889        711    奇迹健身俱乐部(百利西城店)   1  0.25  0.08    0.02\n",
       "3       1102        882  加州阳光国际健身俱乐部(沙井店)   1  0.08  0.08  0.0064\n",
       "4       1237        990       拉伽瑜伽(沙井岁宝店)   1  0.08  0.08  0.0064"
      ]
     },
     "execution_count": 5,
     "metadata": {},
     "output_type": "execute_result"
    }
   ],
   "source": [
    "'''\n",
    "show us the first five lines of assembled POIs\n",
    "'''\n",
    "df.head()"
   ]
  },
  {
   "cell_type": "code",
   "execution_count": 6,
   "id": "universal-sentence",
   "metadata": {},
   "outputs": [],
   "source": [
    "dff = pd.read_csv(\"street_2.0.csv\",header = None)"
   ]
  },
  {
   "cell_type": "code",
   "execution_count": 12,
   "id": "sustainable-separate",
   "metadata": {},
   "outputs": [],
   "source": [
    "'''\n",
    "assemble all pois of one address and calculate its grades,save it in dictionary 'data'\n",
    "'''\n",
    "data = {}\n",
    "for i in range(1,230):#range(1,230)\n",
    "    df_1 = df[(df['ID'] == i)]\n",
    "    df_1c = df_1['纠正后权重']\n",
    "    sum1 = 0\n",
    "    for j in list(df_1c):\n",
    "        try:\n",
    "            i_f = float(j)\n",
    "        except ValueError:\n",
    "            i_f = float(j[:-2])\n",
    "        sum1 += float(i_f)\n",
    "    #print(sum1)\n",
    "    data[i] = sum1"
   ]
  },
  {
   "cell_type": "code",
   "execution_count": 13,
   "id": "human-county",
   "metadata": {},
   "outputs": [
    {
     "data": {
      "text/plain": [
       "{1: 168.4572999999995,\n",
       " 2: 362.90549999999865,\n",
       " 3: 325.1469999999971,\n",
       " 4: 373.76299999999725,\n",
       " 5: 515.1739999999963,\n",
       " 6: 225.80939999999933,\n",
       " 7: 318.76449999999784,\n",
       " 8: 756.3382000000123,\n",
       " 9: 890.7273000000245,\n",
       " 10: 1074.9911999999988,\n",
       " 11: 304.27679999999833,\n",
       " 12: 518.2403999999984,\n",
       " 13: 821.4797000000112,\n",
       " 14: 532.7147999999919,\n",
       " 15: 559.6284999999987,\n",
       " 16: 567.885399999999,\n",
       " 17: 459.2045000000035,\n",
       " 18: 408.2329999999983,\n",
       " 19: 836.4674000000252,\n",
       " 20: 346.55709999999425,\n",
       " 21: 1033.401000000003,\n",
       " 22: 1251.5511000000097,\n",
       " 23: 431.3853999999946,\n",
       " 24: 551.7119999999977,\n",
       " 25: 1220.970800000012,\n",
       " 26: 655.4640000000148,\n",
       " 27: 390.2053999999946,\n",
       " 28: 292.5829999999989,\n",
       " 29: 417.50099999999907,\n",
       " 30: 282.2243999999999,\n",
       " 31: 505.45599999999723,\n",
       " 32: 343.3449999999991,\n",
       " 33: 415.11319999999495,\n",
       " 34: 96.73449999999987,\n",
       " 35: 259.40990000000113,\n",
       " 36: 876.9678000000144,\n",
       " 37: 824.3359000000086,\n",
       " 38: 939.0144000000247,\n",
       " 39: 896.2129000000097,\n",
       " 40: 389.778999999999,\n",
       " 41: 295.97199999999884,\n",
       " 42: 190.49599999999882,\n",
       " 43: 614.2586000000075,\n",
       " 44: 284.6814000000011,\n",
       " 45: 571.2523000000002,\n",
       " 46: 260.0398000000004,\n",
       " 47: 604.7982000000001,\n",
       " 48: 253.90149999999986,\n",
       " 49: 196.27429999999978,\n",
       " 50: 492.1135999999937,\n",
       " 51: 1069.5495000000205,\n",
       " 52: 768.6718000000174,\n",
       " 53: 1313.0168999999837,\n",
       " 54: 903.4977000000222,\n",
       " 55: 55.254499999999986,\n",
       " 56: 288.3095000000001,\n",
       " 57: 505.81949999999796,\n",
       " 58: 163.0345000000002,\n",
       " 59: 360.0388999999981,\n",
       " 60: 153.23500000000013,\n",
       " 61: 365.2559999999977,\n",
       " 62: 995.1944000000082,\n",
       " 63: 786.8153000000175,\n",
       " 64: 687.2733000000185,\n",
       " 65: 355.3644999999962,\n",
       " 66: 508.69659999999817,\n",
       " 67: 538.7292999999935,\n",
       " 68: 309.25349999999617,\n",
       " 69: 352.24829999999605,\n",
       " 70: 228.24199999999968,\n",
       " 71: 56.973999999999954,\n",
       " 72: 940.589200000029,\n",
       " 73: 812.3573000000102,\n",
       " 74: 854.1620000000103,\n",
       " 75: 668.5934000000113,\n",
       " 76: 370.7764999999961,\n",
       " 77: 896.0506000000044,\n",
       " 78: 181.8629999999993,\n",
       " 79: 349.2907999999993,\n",
       " 80: 279.2568000000004,\n",
       " 81: 394.0369999999963,\n",
       " 82: 111.1388,\n",
       " 83: 89.59400000000024,\n",
       " 84: 131.7084000000004,\n",
       " 85: 106.81540000000003,\n",
       " 86: 228.91789999999975,\n",
       " 87: 429.59350000000006,\n",
       " 88: 556.7576000000033,\n",
       " 89: 495.4020999999949,\n",
       " 90: 428.8726999999937,\n",
       " 91: 285.9707999999987,\n",
       " 92: 89.58150000000009,\n",
       " 93: 246.99199999999925,\n",
       " 94: 242.29750000000007,\n",
       " 95: 426.451999999998,\n",
       " 96: 456.9395999999908,\n",
       " 97: 228.92429999999973,\n",
       " 98: 126.82000000000043,\n",
       " 99: 643.6905000000108,\n",
       " 100: 501.670699999996,\n",
       " 101: 732.9241000000158,\n",
       " 102: 535.4130999999965,\n",
       " 103: 677.9892000000108,\n",
       " 104: 171.55409999999992,\n",
       " 105: 148.0801,\n",
       " 106: 150.8323999999997,\n",
       " 107: 299.60899999999646,\n",
       " 108: 48.03849999999998,\n",
       " 109: 294.16629999999634,\n",
       " 110: 795.9429000000016,\n",
       " 111: 617.6076000000116,\n",
       " 112: 1065.2575999999935,\n",
       " 113: 500.02709999999087,\n",
       " 114: 134.98869999999934,\n",
       " 115: 285.76229999999896,\n",
       " 116: 107.1694000000003,\n",
       " 117: 359.6358999999914,\n",
       " 118: 499.04769999999843,\n",
       " 119: 485.0636999999963,\n",
       " 120: 399.83869999999325,\n",
       " 121: 676.0373000000093,\n",
       " 122: 637.9157000000079,\n",
       " 123: 700.0995000000092,\n",
       " 124: 878.9933000000087,\n",
       " 125: 696.0794000000093,\n",
       " 126: 723.1118000000054,\n",
       " 127: 174.4304999999997,\n",
       " 128: 168.89599999999987,\n",
       " 129: 352.1865999999967,\n",
       " 130: 200.65629999999948,\n",
       " 131: 203.3159999999996,\n",
       " 132: 175.0717000000002,\n",
       " 133: 238.82499999999774,\n",
       " 134: 749.5153000000037,\n",
       " 135: 245.62499999999943,\n",
       " 136: 177.8015,\n",
       " 137: 203.59660000000093,\n",
       " 138: 505.1954999999969,\n",
       " 139: 83.59980000000006,\n",
       " 140: 61.49259999999989,\n",
       " 141: 463.8308999999919,\n",
       " 142: 974.5389000000181,\n",
       " 143: 412.75869999999423,\n",
       " 144: 409.38589999999425,\n",
       " 145: 700.3944000000233,\n",
       " 146: 790.9858000000156,\n",
       " 147: 673.3519000000092,\n",
       " 148: 111.74140000000003,\n",
       " 149: 1354.9687000000183,\n",
       " 150: 716.0362000000124,\n",
       " 151: 407.02419999999654,\n",
       " 152: 413.61149999999293,\n",
       " 153: 131.4858999999999,\n",
       " 154: 222.43949999999882,\n",
       " 155: 538.504999999991,\n",
       " 156: 733.7423000000114,\n",
       " 157: 571.2587999999935,\n",
       " 158: 701.7397000000101,\n",
       " 159: 579.9585000000021,\n",
       " 160: 539.6854999999889,\n",
       " 161: 969.9546000000236,\n",
       " 162: 702.4330000000192,\n",
       " 163: 308.85099999999886,\n",
       " 164: 870.3901000000034,\n",
       " 165: 329.3627999999983,\n",
       " 166: 483.80559999999383,\n",
       " 167: 375.3266999999961,\n",
       " 168: 528.9770999999981,\n",
       " 169: 504.2797999999965,\n",
       " 170: 378.1475999999964,\n",
       " 171: 156.1872000000007,\n",
       " 172: 48.94189999999997,\n",
       " 173: 384.1160999999968,\n",
       " 174: 227.2033999999996,\n",
       " 175: 1264.1665999999955,\n",
       " 176: 880.5363000000212,\n",
       " 177: 1108.952900000007,\n",
       " 178: 221.24749999999918,\n",
       " 179: 196.5699999999993,\n",
       " 180: 548.5766999999992,\n",
       " 181: 539.3426999999975,\n",
       " 182: 539.800699999998,\n",
       " 183: 384.25839999999823,\n",
       " 184: 888.987500000019,\n",
       " 185: 302.5661999999983,\n",
       " 186: 156.4799999999996,\n",
       " 187: 39.388599999999954,\n",
       " 188: 151.42160000000078,\n",
       " 189: 287.10059999999925,\n",
       " 190: 495.88639999999685,\n",
       " 191: 181.20289999999966,\n",
       " 192: 634.1133000000061,\n",
       " 193: 481.384299999996,\n",
       " 194: 194.61219999999958,\n",
       " 195: 319.2696999999996,\n",
       " 196: 209.8968999999993,\n",
       " 197: 54.286200000000015,\n",
       " 198: 183.6243,\n",
       " 199: 138.01169999999968,\n",
       " 200: 124.43209999999995,\n",
       " 201: 97.9599000000001,\n",
       " 202: 93.23790000000007,\n",
       " 203: 99.0648000000002,\n",
       " 204: 11.568800000000019,\n",
       " 205: 147.95080000000007,\n",
       " 206: 95.41340000000017,\n",
       " 207: 191.0099999999989,\n",
       " 208: 176.40140000000008,\n",
       " 209: 395.4944999999956,\n",
       " 210: 34.26099999999996,\n",
       " 211: 140.43099999999978,\n",
       " 212: 145.92049999999995,\n",
       " 213: 96.34600000000005,\n",
       " 214: 114.2018999999999,\n",
       " 215: 348.6508999999983,\n",
       " 216: 25.42709999999994,\n",
       " 217: 350.9420999999978,\n",
       " 218: 30.25199999999996,\n",
       " 219: 54.49929999999998,\n",
       " 220: 23.131799999999984,\n",
       " 221: 439.8064999999991,\n",
       " 222: 137.13499999999968,\n",
       " 223: 271.0192,\n",
       " 224: 82.76170000000019,\n",
       " 225: 80.37280000000013,\n",
       " 226: 134.75210000000007,\n",
       " 227: 34.628399999999964,\n",
       " 228: 22.88250000000005,\n",
       " 229: 24.333000000000034}"
      ]
     },
     "execution_count": 13,
     "metadata": {},
     "output_type": "execute_result"
    }
   ],
   "source": [
    "data"
   ]
  },
  {
   "cell_type": "code",
   "execution_count": 14,
   "id": "asian-friday",
   "metadata": {},
   "outputs": [
    {
     "data": {
      "text/plain": [
       "168.4572999999995"
      ]
     },
     "execution_count": 14,
     "metadata": {},
     "output_type": "execute_result"
    }
   ],
   "source": [
    "data[1]"
   ]
  },
  {
   "cell_type": "code",
   "execution_count": 15,
   "id": "configured-pressure",
   "metadata": {},
   "outputs": [
    {
     "data": {
      "text/plain": [
       "1354.9687000000183"
      ]
     },
     "execution_count": 15,
     "metadata": {},
     "output_type": "execute_result"
    }
   ],
   "source": [
    "max(data.values())"
   ]
  },
  {
   "cell_type": "code",
   "execution_count": 16,
   "id": "separate-campus",
   "metadata": {},
   "outputs": [
    {
     "data": {
      "text/plain": [
       "11.568800000000019"
      ]
     },
     "execution_count": 16,
     "metadata": {},
     "output_type": "execute_result"
    }
   ],
   "source": [
    "min(data.values())"
   ]
  },
  {
   "cell_type": "code",
   "execution_count": 17,
   "id": "random-institution",
   "metadata": {
    "scrolled": true
   },
   "outputs": [
    {
     "data": {
      "text/html": [
       "<div>\n",
       "<style scoped>\n",
       "    .dataframe tbody tr th:only-of-type {\n",
       "        vertical-align: middle;\n",
       "    }\n",
       "\n",
       "    .dataframe tbody tr th {\n",
       "        vertical-align: top;\n",
       "    }\n",
       "\n",
       "    .dataframe thead th {\n",
       "        text-align: right;\n",
       "    }\n",
       "</style>\n",
       "<table border=\"1\" class=\"dataframe\">\n",
       "  <thead>\n",
       "    <tr style=\"text-align: right;\">\n",
       "      <th></th>\n",
       "      <th>0</th>\n",
       "    </tr>\n",
       "  </thead>\n",
       "  <tbody>\n",
       "    <tr>\n",
       "      <th>1</th>\n",
       "      <td>168.4573</td>\n",
       "    </tr>\n",
       "    <tr>\n",
       "      <th>2</th>\n",
       "      <td>362.9055</td>\n",
       "    </tr>\n",
       "    <tr>\n",
       "      <th>3</th>\n",
       "      <td>325.1470</td>\n",
       "    </tr>\n",
       "    <tr>\n",
       "      <th>4</th>\n",
       "      <td>373.7630</td>\n",
       "    </tr>\n",
       "    <tr>\n",
       "      <th>5</th>\n",
       "      <td>515.1740</td>\n",
       "    </tr>\n",
       "    <tr>\n",
       "      <th>...</th>\n",
       "      <td>...</td>\n",
       "    </tr>\n",
       "    <tr>\n",
       "      <th>225</th>\n",
       "      <td>80.3728</td>\n",
       "    </tr>\n",
       "    <tr>\n",
       "      <th>226</th>\n",
       "      <td>134.7521</td>\n",
       "    </tr>\n",
       "    <tr>\n",
       "      <th>227</th>\n",
       "      <td>34.6284</td>\n",
       "    </tr>\n",
       "    <tr>\n",
       "      <th>228</th>\n",
       "      <td>22.8825</td>\n",
       "    </tr>\n",
       "    <tr>\n",
       "      <th>229</th>\n",
       "      <td>24.3330</td>\n",
       "    </tr>\n",
       "  </tbody>\n",
       "</table>\n",
       "<p>229 rows × 1 columns</p>\n",
       "</div>"
      ],
      "text/plain": [
       "            0\n",
       "1    168.4573\n",
       "2    362.9055\n",
       "3    325.1470\n",
       "4    373.7630\n",
       "5    515.1740\n",
       "..        ...\n",
       "225   80.3728\n",
       "226  134.7521\n",
       "227   34.6284\n",
       "228   22.8825\n",
       "229   24.3330\n",
       "\n",
       "[229 rows x 1 columns]"
      ]
     },
     "execution_count": 17,
     "metadata": {},
     "output_type": "execute_result"
    }
   ],
   "source": [
    "'''\n",
    "show data in DataFrame format\n",
    "'''\n",
    "data_df = pd.DataFrame(data,index=[0]).T\n",
    "data_df"
   ]
  },
  {
   "cell_type": "code",
   "execution_count": 18,
   "id": "extensive-qatar",
   "metadata": {},
   "outputs": [
    {
     "data": {
      "text/plain": [
       "1      168.4573\n",
       "2      362.9055\n",
       "3      325.1470\n",
       "4      373.7630\n",
       "5      515.1740\n",
       "         ...   \n",
       "225     80.3728\n",
       "226    134.7521\n",
       "227     34.6284\n",
       "228     22.8825\n",
       "229     24.3330\n",
       "Name: 0, Length: 229, dtype: float64"
      ]
     },
     "execution_count": 18,
     "metadata": {},
     "output_type": "execute_result"
    }
   ],
   "source": [
    "data_df[0]"
   ]
  },
  {
   "cell_type": "code",
   "execution_count": 19,
   "id": "generic-float",
   "metadata": {},
   "outputs": [
    {
     "data": {
      "text/html": [
       "<div>\n",
       "<style scoped>\n",
       "    .dataframe tbody tr th:only-of-type {\n",
       "        vertical-align: middle;\n",
       "    }\n",
       "\n",
       "    .dataframe tbody tr th {\n",
       "        vertical-align: top;\n",
       "    }\n",
       "\n",
       "    .dataframe thead th {\n",
       "        text-align: right;\n",
       "    }\n",
       "</style>\n",
       "<table border=\"1\" class=\"dataframe\">\n",
       "  <thead>\n",
       "    <tr style=\"text-align: right;\">\n",
       "      <th></th>\n",
       "      <th>0</th>\n",
       "    </tr>\n",
       "  </thead>\n",
       "  <tbody>\n",
       "    <tr>\n",
       "      <th>count</th>\n",
       "      <td>229.000000</td>\n",
       "    </tr>\n",
       "    <tr>\n",
       "      <th>mean</th>\n",
       "      <td>422.909595</td>\n",
       "    </tr>\n",
       "    <tr>\n",
       "      <th>std</th>\n",
       "      <td>295.567350</td>\n",
       "    </tr>\n",
       "    <tr>\n",
       "      <th>min</th>\n",
       "      <td>11.568800</td>\n",
       "    </tr>\n",
       "    <tr>\n",
       "      <th>25%</th>\n",
       "      <td>181.202900</td>\n",
       "    </tr>\n",
       "    <tr>\n",
       "      <th>50%</th>\n",
       "      <td>365.256000</td>\n",
       "    </tr>\n",
       "    <tr>\n",
       "      <th>75%</th>\n",
       "      <td>571.258800</td>\n",
       "    </tr>\n",
       "    <tr>\n",
       "      <th>max</th>\n",
       "      <td>1354.968700</td>\n",
       "    </tr>\n",
       "  </tbody>\n",
       "</table>\n",
       "</div>"
      ],
      "text/plain": [
       "                 0\n",
       "count   229.000000\n",
       "mean    422.909595\n",
       "std     295.567350\n",
       "min      11.568800\n",
       "25%     181.202900\n",
       "50%     365.256000\n",
       "75%     571.258800\n",
       "max    1354.968700"
      ]
     },
     "execution_count": 19,
     "metadata": {},
     "output_type": "execute_result"
    }
   ],
   "source": [
    "'''\n",
    "here are some basic information of scores after distance-based decay function \n",
    "'''\n",
    "data_df.describe()"
   ]
  },
  {
   "cell_type": "code",
   "execution_count": 20,
   "id": "designing-swiss",
   "metadata": {},
   "outputs": [],
   "source": [
    "'''\n",
    "add a new column\n",
    "'''\n",
    "dff['3']=''"
   ]
  },
  {
   "cell_type": "code",
   "execution_count": 21,
   "id": "sized-member",
   "metadata": {
    "scrolled": true
   },
   "outputs": [
    {
     "data": {
      "text/html": [
       "<div>\n",
       "<style scoped>\n",
       "    .dataframe tbody tr th:only-of-type {\n",
       "        vertical-align: middle;\n",
       "    }\n",
       "\n",
       "    .dataframe tbody tr th {\n",
       "        vertical-align: top;\n",
       "    }\n",
       "\n",
       "    .dataframe thead th {\n",
       "        text-align: right;\n",
       "    }\n",
       "</style>\n",
       "<table border=\"1\" class=\"dataframe\">\n",
       "  <thead>\n",
       "    <tr style=\"text-align: right;\">\n",
       "      <th></th>\n",
       "      <th>0</th>\n",
       "      <th>1</th>\n",
       "      <th>2</th>\n",
       "      <th>3</th>\n",
       "    </tr>\n",
       "  </thead>\n",
       "  <tbody>\n",
       "    <tr>\n",
       "      <th>0</th>\n",
       "      <td>113.78124,22.734616</td>\n",
       "      <td>沙井街道</td>\n",
       "      <td>[65.96661453668062, 145.12748538961029]</td>\n",
       "      <td></td>\n",
       "    </tr>\n",
       "    <tr>\n",
       "      <th>1</th>\n",
       "      <td>113.791347,22.713674</td>\n",
       "      <td>沙井街道</td>\n",
       "      <td>[65.96661453668062, 145.12748538961029]</td>\n",
       "      <td></td>\n",
       "    </tr>\n",
       "    <tr>\n",
       "      <th>2</th>\n",
       "      <td>113.822293,22.75981</td>\n",
       "      <td>沙井街道</td>\n",
       "      <td>[65.96661453668062, 145.12748538961029]</td>\n",
       "      <td></td>\n",
       "    </tr>\n",
       "    <tr>\n",
       "      <th>3</th>\n",
       "      <td>113.812641,22.751043</td>\n",
       "      <td>沙井街道</td>\n",
       "      <td>[65.96661453668062, 145.12748538961029]</td>\n",
       "      <td></td>\n",
       "    </tr>\n",
       "    <tr>\n",
       "      <th>4</th>\n",
       "      <td>113.802946,22.752249</td>\n",
       "      <td>沙井街道</td>\n",
       "      <td>[65.96661453668062, 145.12748538961029]</td>\n",
       "      <td></td>\n",
       "    </tr>\n",
       "    <tr>\n",
       "      <th>...</th>\n",
       "      <td>...</td>\n",
       "      <td>...</td>\n",
       "      <td>...</td>\n",
       "      <td>...</td>\n",
       "    </tr>\n",
       "    <tr>\n",
       "      <th>224</th>\n",
       "      <td>114.485708,22.574515</td>\n",
       "      <td>大鹏街道</td>\n",
       "      <td>[6.024117677770745, 254.6446409638549]</td>\n",
       "      <td></td>\n",
       "    </tr>\n",
       "    <tr>\n",
       "      <th>225</th>\n",
       "      <td>114.493143,22.532703</td>\n",
       "      <td>南澳街道</td>\n",
       "      <td>[2.677708246753552, 327.19840322580626]</td>\n",
       "      <td></td>\n",
       "    </tr>\n",
       "    <tr>\n",
       "      <th>226</th>\n",
       "      <td>114.528983,22.553854</td>\n",
       "      <td>南澳街道</td>\n",
       "      <td>[2.677708246753552, 327.19840322580626]</td>\n",
       "      <td></td>\n",
       "    </tr>\n",
       "    <tr>\n",
       "      <th>227</th>\n",
       "      <td>114.540863,22.55665</td>\n",
       "      <td>南澳街道</td>\n",
       "      <td>[2.677708246753552, 327.19840322580626]</td>\n",
       "      <td></td>\n",
       "    </tr>\n",
       "    <tr>\n",
       "      <th>228</th>\n",
       "      <td>114.516337,22.53602</td>\n",
       "      <td>南澳街道</td>\n",
       "      <td>[2.677708246753552, 327.19840322580626]</td>\n",
       "      <td></td>\n",
       "    </tr>\n",
       "  </tbody>\n",
       "</table>\n",
       "<p>229 rows × 4 columns</p>\n",
       "</div>"
      ],
      "text/plain": [
       "                        0     1                                        2 3 \n",
       "0     113.78124,22.734616  沙井街道  [65.96661453668062, 145.12748538961029]   \n",
       "1    113.791347,22.713674  沙井街道  [65.96661453668062, 145.12748538961029]   \n",
       "2     113.822293,22.75981  沙井街道  [65.96661453668062, 145.12748538961029]   \n",
       "3    113.812641,22.751043  沙井街道  [65.96661453668062, 145.12748538961029]   \n",
       "4    113.802946,22.752249  沙井街道  [65.96661453668062, 145.12748538961029]   \n",
       "..                    ...   ...                                      ... ..\n",
       "224  114.485708,22.574515  大鹏街道   [6.024117677770745, 254.6446409638549]   \n",
       "225  114.493143,22.532703  南澳街道  [2.677708246753552, 327.19840322580626]   \n",
       "226  114.528983,22.553854  南澳街道  [2.677708246753552, 327.19840322580626]   \n",
       "227   114.540863,22.55665  南澳街道  [2.677708246753552, 327.19840322580626]   \n",
       "228   114.516337,22.53602  南澳街道  [2.677708246753552, 327.19840322580626]   \n",
       "\n",
       "[229 rows x 4 columns]"
      ]
     },
     "execution_count": 21,
     "metadata": {},
     "output_type": "execute_result"
    }
   ],
   "source": [
    "dff"
   ]
  },
  {
   "cell_type": "code",
   "execution_count": 22,
   "id": "noted-superior",
   "metadata": {},
   "outputs": [],
   "source": [
    "'''\n",
    "block-characteristic-based decay function\n",
    "'''\n",
    "def fix(x,y):\n",
    "    if x < 50:\n",
    "        wei = 0.95\n",
    "    elif x < 80 and x >= 50:\n",
    "        wei = 0.96\n",
    "    elif x < 120 and x >= 80:\n",
    "        wei = 0.97\n",
    "    elif x < 150 and x >= 120:\n",
    "        wei = 0.98\n",
    "    elif x < 200 and x >= 150:\n",
    "        wei = 0.99\n",
    "    else:\n",
    "        wei = 1\n",
    "\n",
    "    if y < 100:\n",
    "        ght = 1\n",
    "    elif x < 120 and x >= 100:\n",
    "        ght = 0.99\n",
    "    elif x < 150 and x >= 120:\n",
    "        ght = 0.98\n",
    "    elif x < 180 and x >= 150:\n",
    "        ght = 0.97\n",
    "    elif x < 200 and x >= 180:\n",
    "        ght = 0.96\n",
    "    else:\n",
    "        ght = 0.95\n",
    "    return(wei*ght)"
   ]
  },
  {
   "cell_type": "code",
   "execution_count": 23,
   "id": "narrow-finland",
   "metadata": {
    "scrolled": true
   },
   "outputs": [],
   "source": [
    "'''\n",
    "calculate scores after considering block characteristics\n",
    "'''\n",
    "for i in data:\n",
    "    dff.iloc[[i-1],[3]]=data[i]\n",
    "    line = dff.iat[i-1, 2]\n",
    "    line = line.replace('[', '')\n",
    "    line = line.replace(']', '')\n",
    "    line = line.split(',')\n",
    "    #print(line)\n",
    "    x = float(line[0])\n",
    "    y = float(line[1])\n",
    "    dff.iloc[[i-1],[3]]=data[i]*fix(x,y)"
   ]
  },
  {
   "cell_type": "code",
   "execution_count": 24,
   "id": "constant-concentrate",
   "metadata": {
    "scrolled": true
   },
   "outputs": [
    {
     "data": {
      "text/html": [
       "<div>\n",
       "<style scoped>\n",
       "    .dataframe tbody tr th:only-of-type {\n",
       "        vertical-align: middle;\n",
       "    }\n",
       "\n",
       "    .dataframe tbody tr th {\n",
       "        vertical-align: top;\n",
       "    }\n",
       "\n",
       "    .dataframe thead th {\n",
       "        text-align: right;\n",
       "    }\n",
       "</style>\n",
       "<table border=\"1\" class=\"dataframe\">\n",
       "  <thead>\n",
       "    <tr style=\"text-align: right;\">\n",
       "      <th></th>\n",
       "      <th>0</th>\n",
       "      <th>1</th>\n",
       "      <th>2</th>\n",
       "      <th>3</th>\n",
       "    </tr>\n",
       "  </thead>\n",
       "  <tbody>\n",
       "    <tr>\n",
       "      <th>0</th>\n",
       "      <td>113.78124,22.734616</td>\n",
       "      <td>沙井街道</td>\n",
       "      <td>[65.96661453668062, 145.12748538961029]</td>\n",
       "      <td>153.633058</td>\n",
       "    </tr>\n",
       "    <tr>\n",
       "      <th>1</th>\n",
       "      <td>113.791347,22.713674</td>\n",
       "      <td>沙井街道</td>\n",
       "      <td>[65.96661453668062, 145.12748538961029]</td>\n",
       "      <td>330.969816</td>\n",
       "    </tr>\n",
       "    <tr>\n",
       "      <th>2</th>\n",
       "      <td>113.822293,22.75981</td>\n",
       "      <td>沙井街道</td>\n",
       "      <td>[65.96661453668062, 145.12748538961029]</td>\n",
       "      <td>296.534064</td>\n",
       "    </tr>\n",
       "    <tr>\n",
       "      <th>3</th>\n",
       "      <td>113.812641,22.751043</td>\n",
       "      <td>沙井街道</td>\n",
       "      <td>[65.96661453668062, 145.12748538961029]</td>\n",
       "      <td>340.871856</td>\n",
       "    </tr>\n",
       "    <tr>\n",
       "      <th>4</th>\n",
       "      <td>113.802946,22.752249</td>\n",
       "      <td>沙井街道</td>\n",
       "      <td>[65.96661453668062, 145.12748538961029]</td>\n",
       "      <td>469.838688</td>\n",
       "    </tr>\n",
       "  </tbody>\n",
       "</table>\n",
       "</div>"
      ],
      "text/plain": [
       "                      0     1                                        2  \\\n",
       "0   113.78124,22.734616  沙井街道  [65.96661453668062, 145.12748538961029]   \n",
       "1  113.791347,22.713674  沙井街道  [65.96661453668062, 145.12748538961029]   \n",
       "2   113.822293,22.75981  沙井街道  [65.96661453668062, 145.12748538961029]   \n",
       "3  113.812641,22.751043  沙井街道  [65.96661453668062, 145.12748538961029]   \n",
       "4  113.802946,22.752249  沙井街道  [65.96661453668062, 145.12748538961029]   \n",
       "\n",
       "            3  \n",
       "0  153.633058  \n",
       "1  330.969816  \n",
       "2  296.534064  \n",
       "3  340.871856  \n",
       "4  469.838688  "
      ]
     },
     "execution_count": 24,
     "metadata": {},
     "output_type": "execute_result"
    }
   ],
   "source": [
    "'''\n",
    "show us the first five lines of assembled POIs\n",
    "'''\n",
    "dff.head()"
   ]
  },
  {
   "cell_type": "code",
   "execution_count": 25,
   "id": "reported-baptist",
   "metadata": {},
   "outputs": [],
   "source": [
    "'''\n",
    "save file\n",
    "'''\n",
    "dff.to_csv(\"score.csv\",index=False,sep=',')"
   ]
  },
  {
   "cell_type": "code",
   "execution_count": 36,
   "id": "electoral-shakespeare",
   "metadata": {},
   "outputs": [
    {
     "data": {
      "text/plain": [
       "1273.626392999984"
      ]
     },
     "execution_count": 36,
     "metadata": {},
     "output_type": "execute_result"
    }
   ],
   "source": [
    "max(dff['3'])"
   ]
  },
  {
   "cell_type": "code",
   "execution_count": 27,
   "id": "static-plaza",
   "metadata": {
    "scrolled": true
   },
   "outputs": [],
   "source": [
    "'''\n",
    "extract final scores \n",
    "'''\n",
    "dff_1=pd.DataFrame(dff['3'],dtype=np.float)"
   ]
  },
  {
   "cell_type": "code",
   "execution_count": 28,
   "id": "strange-reviewer",
   "metadata": {
    "scrolled": false
   },
   "outputs": [
    {
     "data": {
      "text/html": [
       "<div>\n",
       "<style scoped>\n",
       "    .dataframe tbody tr th:only-of-type {\n",
       "        vertical-align: middle;\n",
       "    }\n",
       "\n",
       "    .dataframe tbody tr th {\n",
       "        vertical-align: top;\n",
       "    }\n",
       "\n",
       "    .dataframe thead th {\n",
       "        text-align: right;\n",
       "    }\n",
       "</style>\n",
       "<table border=\"1\" class=\"dataframe\">\n",
       "  <thead>\n",
       "    <tr style=\"text-align: right;\">\n",
       "      <th></th>\n",
       "      <th>3</th>\n",
       "    </tr>\n",
       "  </thead>\n",
       "  <tbody>\n",
       "    <tr>\n",
       "      <th>count</th>\n",
       "      <td>229.000000</td>\n",
       "    </tr>\n",
       "    <tr>\n",
       "      <th>mean</th>\n",
       "      <td>387.549526</td>\n",
       "    </tr>\n",
       "    <tr>\n",
       "      <th>std</th>\n",
       "      <td>274.228856</td>\n",
       "    </tr>\n",
       "    <tr>\n",
       "      <th>min</th>\n",
       "      <td>10.440842</td>\n",
       "    </tr>\n",
       "    <tr>\n",
       "      <th>25%</th>\n",
       "      <td>163.535617</td>\n",
       "    </tr>\n",
       "    <tr>\n",
       "      <th>50%</th>\n",
       "      <td>330.969816</td>\n",
       "    </tr>\n",
       "    <tr>\n",
       "      <th>75%</th>\n",
       "      <td>520.988026</td>\n",
       "    </tr>\n",
       "    <tr>\n",
       "      <th>max</th>\n",
       "      <td>1273.626393</td>\n",
       "    </tr>\n",
       "  </tbody>\n",
       "</table>\n",
       "</div>"
      ],
      "text/plain": [
       "                 3\n",
       "count   229.000000\n",
       "mean    387.549526\n",
       "std     274.228856\n",
       "min      10.440842\n",
       "25%     163.535617\n",
       "50%     330.969816\n",
       "75%     520.988026\n",
       "max    1273.626393"
      ]
     },
     "execution_count": 28,
     "metadata": {},
     "output_type": "execute_result"
    }
   ],
   "source": [
    "'''\n",
    "show us basic information of the final scores\n",
    "'''\n",
    "dff_1.describe()"
   ]
  },
  {
   "cell_type": "code",
   "execution_count": 29,
   "id": "caroline-rider",
   "metadata": {},
   "outputs": [
    {
     "data": {
      "text/html": [
       "<div>\n",
       "<style scoped>\n",
       "    .dataframe tbody tr th:only-of-type {\n",
       "        vertical-align: middle;\n",
       "    }\n",
       "\n",
       "    .dataframe tbody tr th {\n",
       "        vertical-align: top;\n",
       "    }\n",
       "\n",
       "    .dataframe thead th {\n",
       "        text-align: right;\n",
       "    }\n",
       "</style>\n",
       "<table border=\"1\" class=\"dataframe\">\n",
       "  <thead>\n",
       "    <tr style=\"text-align: right;\">\n",
       "      <th></th>\n",
       "      <th>3</th>\n",
       "    </tr>\n",
       "  </thead>\n",
       "  <tbody>\n",
       "    <tr>\n",
       "      <th>count</th>\n",
       "      <td>229.000000</td>\n",
       "    </tr>\n",
       "    <tr>\n",
       "      <th>mean</th>\n",
       "      <td>387.549502</td>\n",
       "    </tr>\n",
       "    <tr>\n",
       "      <th>std</th>\n",
       "      <td>274.228853</td>\n",
       "    </tr>\n",
       "    <tr>\n",
       "      <th>min</th>\n",
       "      <td>10.441000</td>\n",
       "    </tr>\n",
       "    <tr>\n",
       "      <th>25%</th>\n",
       "      <td>163.536000</td>\n",
       "    </tr>\n",
       "    <tr>\n",
       "      <th>50%</th>\n",
       "      <td>330.970000</td>\n",
       "    </tr>\n",
       "    <tr>\n",
       "      <th>75%</th>\n",
       "      <td>520.988000</td>\n",
       "    </tr>\n",
       "    <tr>\n",
       "      <th>max</th>\n",
       "      <td>1273.626000</td>\n",
       "    </tr>\n",
       "  </tbody>\n",
       "</table>\n",
       "</div>"
      ],
      "text/plain": [
       "                 3\n",
       "count   229.000000\n",
       "mean    387.549502\n",
       "std     274.228853\n",
       "min      10.441000\n",
       "25%     163.536000\n",
       "50%     330.970000\n",
       "75%     520.988000\n",
       "max    1273.626000"
      ]
     },
     "execution_count": 29,
     "metadata": {},
     "output_type": "execute_result"
    }
   ],
   "source": [
    "'''\n",
    "only keep three digital numbers\n",
    "'''\n",
    "dff_1.round(3).describe()"
   ]
  },
  {
   "cell_type": "code",
   "execution_count": 30,
   "id": "prompt-pharmacology",
   "metadata": {},
   "outputs": [
    {
     "data": {
      "text/plain": [
       "330.97"
      ]
     },
     "execution_count": 30,
     "metadata": {},
     "output_type": "execute_result"
    }
   ],
   "source": [
    "#中位数\n",
    "np.median(dff_1.round(3))"
   ]
  },
  {
   "cell_type": "code",
   "execution_count": 31,
   "id": "powerful-carroll",
   "metadata": {},
   "outputs": [],
   "source": [
    "from scipy import stats"
   ]
  },
  {
   "cell_type": "code",
   "execution_count": 32,
   "id": "after-marina",
   "metadata": {},
   "outputs": [
    {
     "data": {
      "text/plain": [
       "array([492.])"
      ]
     },
     "execution_count": 32,
     "metadata": {},
     "output_type": "execute_result"
    }
   ],
   "source": [
    "'''\n",
    "use stats package to calculate mode\n",
    "'''\n",
    "stats.mode(dff_1.round(0))[0][0]"
   ]
  },
  {
   "cell_type": "code",
   "execution_count": 37,
   "id": "boolean-stranger",
   "metadata": {},
   "outputs": [],
   "source": [
    "'''\n",
    "a new score.csv, after using Excel to standardize scores into [0,100]\n",
    "'''\n",
    "score = pd.read_csv(\"score.csv\")"
   ]
  },
  {
   "cell_type": "code",
   "execution_count": 38,
   "id": "functional-patrick",
   "metadata": {},
   "outputs": [
    {
     "data": {
      "text/html": [
       "<div>\n",
       "<style scoped>\n",
       "    .dataframe tbody tr th:only-of-type {\n",
       "        vertical-align: middle;\n",
       "    }\n",
       "\n",
       "    .dataframe tbody tr th {\n",
       "        vertical-align: top;\n",
       "    }\n",
       "\n",
       "    .dataframe thead th {\n",
       "        text-align: right;\n",
       "    }\n",
       "</style>\n",
       "<table border=\"1\" class=\"dataframe\">\n",
       "  <thead>\n",
       "    <tr style=\"text-align: right;\">\n",
       "      <th></th>\n",
       "      <th>0</th>\n",
       "      <th>1</th>\n",
       "      <th>2</th>\n",
       "      <th>3</th>\n",
       "      <th>4</th>\n",
       "    </tr>\n",
       "  </thead>\n",
       "  <tbody>\n",
       "    <tr>\n",
       "      <th>0</th>\n",
       "      <td>113.78124,22.734616</td>\n",
       "      <td>沙井街道</td>\n",
       "      <td>[65.96661453668062, 145.12748538961029]</td>\n",
       "      <td>153.633058</td>\n",
       "      <td>11.335802</td>\n",
       "    </tr>\n",
       "    <tr>\n",
       "      <th>1</th>\n",
       "      <td>113.791347,22.713674</td>\n",
       "      <td>沙井街道</td>\n",
       "      <td>[65.96661453668062, 145.12748538961029]</td>\n",
       "      <td>330.969816</td>\n",
       "      <td>25.374655</td>\n",
       "    </tr>\n",
       "    <tr>\n",
       "      <th>2</th>\n",
       "      <td>113.822293,22.75981</td>\n",
       "      <td>沙井街道</td>\n",
       "      <td>[65.96661453668062, 145.12748538961029]</td>\n",
       "      <td>296.534064</td>\n",
       "      <td>22.648551</td>\n",
       "    </tr>\n",
       "    <tr>\n",
       "      <th>3</th>\n",
       "      <td>113.812641,22.751043</td>\n",
       "      <td>沙井街道</td>\n",
       "      <td>[65.96661453668062, 145.12748538961029]</td>\n",
       "      <td>340.871856</td>\n",
       "      <td>26.158549</td>\n",
       "    </tr>\n",
       "    <tr>\n",
       "      <th>4</th>\n",
       "      <td>113.802946,22.752249</td>\n",
       "      <td>沙井街道</td>\n",
       "      <td>[65.96661453668062, 145.12748538961029]</td>\n",
       "      <td>469.838688</td>\n",
       "      <td>36.368200</td>\n",
       "    </tr>\n",
       "  </tbody>\n",
       "</table>\n",
       "</div>"
      ],
      "text/plain": [
       "                      0     1                                        2  \\\n",
       "0   113.78124,22.734616  沙井街道  [65.96661453668062, 145.12748538961029]   \n",
       "1  113.791347,22.713674  沙井街道  [65.96661453668062, 145.12748538961029]   \n",
       "2   113.822293,22.75981  沙井街道  [65.96661453668062, 145.12748538961029]   \n",
       "3  113.812641,22.751043  沙井街道  [65.96661453668062, 145.12748538961029]   \n",
       "4  113.802946,22.752249  沙井街道  [65.96661453668062, 145.12748538961029]   \n",
       "\n",
       "            3          4  \n",
       "0  153.633058  11.335802  \n",
       "1  330.969816  25.374655  \n",
       "2  296.534064  22.648551  \n",
       "3  340.871856  26.158549  \n",
       "4  469.838688  36.368200  "
      ]
     },
     "execution_count": 38,
     "metadata": {},
     "output_type": "execute_result"
    }
   ],
   "source": [
    "score.head()"
   ]
  },
  {
   "cell_type": "code",
   "execution_count": 39,
   "id": "standard-rouge",
   "metadata": {},
   "outputs": [
    {
     "data": {
      "text/plain": [
       "count    229.000000\n",
       "mean      29.853930\n",
       "std       21.709345\n",
       "min        0.000000\n",
       "25%       12.120000\n",
       "50%       25.370000\n",
       "75%       40.420000\n",
       "max      100.000000\n",
       "Name: 4, dtype: float64"
      ]
     },
     "execution_count": 39,
     "metadata": {},
     "output_type": "execute_result"
    }
   ],
   "source": [
    "'''\n",
    "show us basic statistic information about standardized final scores\n",
    "'''\n",
    "score['4'].round(2).describe()"
   ]
  },
  {
   "cell_type": "code",
   "execution_count": 40,
   "id": "foreign-nirvana",
   "metadata": {},
   "outputs": [
    {
     "data": {
      "text/plain": [
       "25.37"
      ]
     },
     "execution_count": 40,
     "metadata": {},
     "output_type": "execute_result"
    }
   ],
   "source": [
    "np.median(score['4'].round(2))"
   ]
  },
  {
   "cell_type": "code",
   "execution_count": 41,
   "id": "answering-sudan",
   "metadata": {},
   "outputs": [
    {
     "data": {
      "text/plain": [
       "35.0"
      ]
     },
     "execution_count": 41,
     "metadata": {},
     "output_type": "execute_result"
    }
   ],
   "source": [
    "stats.mode(score['4'].round(0))[0][0]"
   ]
  },
  {
   "cell_type": "code",
   "execution_count": 42,
   "id": "administrative-niger",
   "metadata": {},
   "outputs": [],
   "source": [
    "'''\n",
    "calculate the numbers of communities that fall into different score scope\n",
    "'''\n",
    "#：[(10, 20] < (20, 30] < (30, 50] < (50, 70] < (70, 80] < (80, 90]]\n",
    "scores_bins = [-0.01,24.99,49.99,69.99,89.99,100.01]\n",
    "a,b = pd.cut(x=score[\"4\"],bins=scores_bins,right=True,retbins=True)"
   ]
  },
  {
   "cell_type": "code",
   "execution_count": 43,
   "id": "historical-value",
   "metadata": {},
   "outputs": [
    {
     "data": {
      "text/plain": [
       "0      (-0.01, 24.99]\n",
       "1      (24.99, 49.99]\n",
       "2      (-0.01, 24.99]\n",
       "3      (24.99, 49.99]\n",
       "4      (24.99, 49.99]\n",
       "            ...      \n",
       "224    (-0.01, 24.99]\n",
       "225    (-0.01, 24.99]\n",
       "226    (-0.01, 24.99]\n",
       "227    (-0.01, 24.99]\n",
       "228    (-0.01, 24.99]\n",
       "Name: 4, Length: 229, dtype: category\n",
       "Categories (5, interval[float64]): [(-0.01, 24.99] < (24.99, 49.99] < (49.99, 69.99] < (69.99, 89.99] < (89.99, 100.01]]"
      ]
     },
     "execution_count": 43,
     "metadata": {},
     "output_type": "execute_result"
    }
   ],
   "source": [
    "a"
   ]
  },
  {
   "cell_type": "code",
   "execution_count": 44,
   "id": "continued-murder",
   "metadata": {},
   "outputs": [
    {
     "data": {
      "text/plain": [
       "(-0.01, 24.99]     113\n",
       "(24.99, 49.99]      71\n",
       "(49.99, 69.99]      33\n",
       "(69.99, 89.99]      10\n",
       "(89.99, 100.01]      2\n",
       "Name: 4, dtype: int64"
      ]
     },
     "execution_count": 44,
     "metadata": {},
     "output_type": "execute_result"
    }
   ],
   "source": [
    "a.value_counts()"
   ]
  },
  {
   "cell_type": "code",
   "execution_count": null,
   "id": "spoken-architecture",
   "metadata": {},
   "outputs": [],
   "source": []
  }
 ],
 "metadata": {
  "kernelspec": {
   "display_name": "Python 3",
   "language": "python",
   "name": "python3"
  },
  "language_info": {
   "codemirror_mode": {
    "name": "ipython",
    "version": 3
   },
   "file_extension": ".py",
   "mimetype": "text/x-python",
   "name": "python",
   "nbconvert_exporter": "python",
   "pygments_lexer": "ipython3",
   "version": "3.8.8"
  }
 },
 "nbformat": 4,
 "nbformat_minor": 5
}
