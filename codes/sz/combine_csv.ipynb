{
 "cells": [
  {
   "cell_type": "code",
   "execution_count": 1,
   "id": "expired-pavilion",
   "metadata": {},
   "outputs": [
    {
     "name": "stdout",
     "output_type": "stream",
     "text": [
      "['data_address_gz_0.08.csv', '.DS_Store', '社区广州.xls', 'data_address_gz_0.8.csv', 'data_address_gz_0.75.csv', 'data_address_gz_0.2.csv', 'data_address_gz_0.6.csv', 'data_address_gz_0.4.csv', 'data_address_gz_0.65.csv', 'data_address_gz_1.csv', 'address_gz.txt', 'data_address_gz_0.5.csv', 'data_address_gz_1.3.csv', 'data_address_gz_0.05.csv', 'data_address_gz_0.07.csv']\n"
     ]
    }
   ],
   "source": [
    "import pandas as pd\n",
    "import os \n",
    "\n",
    "Folder_Path= '/Users/mac/深圳程序' # 获取源目标文件夹\n",
    "SaveFile_Path='/Users/mac/深圳程序'  # 拼接后要保存的文件路径  \n",
    "SaveFile_Name='weight_all.csv'    #合并后要保存的文件名字\n",
    "\n",
    "os.chdir(Folder_Path)\n",
    "file_list = os.listdir()\n",
    "print(file_list)"
   ]
  },
  {
   "cell_type": "code",
   "execution_count": 2,
   "id": "greek-retreat",
   "metadata": {},
   "outputs": [
    {
     "name": "stdout",
     "output_type": "stream",
     "text": [
      "共合并15个CSV文件\n",
      "共合并15个CSV文件\n",
      "共合并15个CSV文件\n",
      "共合并15个CSV文件\n",
      "共合并15个CSV文件\n",
      "共合并15个CSV文件\n",
      "共合并15个CSV文件\n",
      "共合并15个CSV文件\n",
      "共合并15个CSV文件\n",
      "共合并15个CSV文件\n",
      "共合并15个CSV文件\n"
     ]
    }
   ],
   "source": [
    "#  遍历读取文件夹中的每一个文件\n",
    "fileStart = 1\n",
    "fileEnd = len(file_list)\n",
    "for i in range(fileStart,fileEnd):\n",
    "    df_path = Folder_Path + '/' + file_list[i]\n",
    "    if df_path.endswith('.csv'):\n",
    "        df = pd.read_csv(df_path, \n",
    "                   encoding = \"utf8\")\n",
    "        df.to_csv (SaveFile_Path + '/' + SaveFile_Name,\n",
    "                   encoding = \"utf8\",\n",
    "                   index = False,\n",
    "                   header = True,#如果对每个文件的标题另外有需求，需要对header变量进行指定\n",
    "                   mode = 'a')\n",
    "        print('共合并%i个CSV文件'% len(file_list))"
   ]
  }
 ],
 "metadata": {
  "kernelspec": {
   "display_name": "Python 3",
   "language": "python",
   "name": "python3"
  },
  "language_info": {
   "codemirror_mode": {
    "name": "ipython",
    "version": 3
   },
   "file_extension": ".py",
   "mimetype": "text/x-python",
   "name": "python",
   "nbconvert_exporter": "python",
   "pygments_lexer": "ipython3",
   "version": "3.8.8"
  }
 },
 "nbformat": 4,
 "nbformat_minor": 5
}
